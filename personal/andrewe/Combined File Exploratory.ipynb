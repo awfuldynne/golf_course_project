{
 "cells": [
  {
   "cell_type": "code",
   "execution_count": 7,
   "metadata": {
    "ExecuteTime": {
     "end_time": "2018-05-13T20:12:07.989916Z",
     "start_time": "2018-05-13T20:12:07.961444Z"
    }
   },
   "outputs": [],
   "source": [
    "import pandas as pd\n",
    "\n",
    "import sys\n",
    "sys.path.append('../../')\n",
    "\n",
    "from pygolfdata.data import shotlink"
   ]
  },
  {
   "cell_type": "code",
   "execution_count": 3,
   "metadata": {
    "ExecuteTime": {
     "end_time": "2018-05-13T20:07:48.870723Z",
     "start_time": "2018-05-13T20:07:48.850070Z"
    }
   },
   "outputs": [],
   "source": [
    "def mem_usage(pandas_obj):\n",
    "    if isinstance(pandas_obj,pd.DataFrame):\n",
    "        usage_b = pandas_obj.memory_usage(deep=True).sum()\n",
    "    else: # we assume if not a df it's a series\n",
    "        usage_b = pandas_obj.memory_usage(deep=True)\n",
    "    usage_mb = usage_b / 1024 ** 2 # convert bytes to megabytes\n",
    "    return \"{:03.2f} MB\".format(usage_mb)"
   ]
  },
  {
   "cell_type": "code",
   "execution_count": 9,
   "metadata": {
    "ExecuteTime": {
     "end_time": "2018-05-13T20:16:47.733756Z",
     "start_time": "2018-05-13T20:13:25.202902Z"
    }
   },
   "outputs": [
    {
     "name": "stderr",
     "output_type": "stream",
     "text": [
      "/Users/andrewenfield/miniconda3/envs/anaconda/lib/python3.6/site-packages/IPython/core/interactiveshell.py:2728: DtypeWarning: Columns (43,44,45,46,60) have mixed types. Specify dtype option on import or set low_memory=False.\n",
      "  interactivity=interactivity, compiler=compiler, result=result)\n"
     ]
    },
    {
     "data": {
      "text/plain": [
       "(11365769, 64)"
      ]
     },
     "execution_count": 9,
     "metadata": {},
     "output_type": "execute_result"
    }
   ],
   "source": [
    "d = pd.read_csv('../../pygolfdata/data/combined_shots_and_weather_2008-2017.csv', \n",
    "                dtype=shotlink.shot_dtypes)\n",
    "d.shape"
   ]
  },
  {
   "cell_type": "code",
   "execution_count": 10,
   "metadata": {
    "ExecuteTime": {
     "end_time": "2018-05-13T20:17:23.955852Z",
     "start_time": "2018-05-13T20:17:03.082320Z"
    }
   },
   "outputs": [
    {
     "data": {
      "text/plain": [
       "'13572.30 MB'"
      ]
     },
     "execution_count": 10,
     "metadata": {},
     "output_type": "execute_result"
    }
   ],
   "source": [
    "mem_usage(d)"
   ]
  },
  {
   "cell_type": "code",
   "execution_count": 11,
   "metadata": {
    "ExecuteTime": {
     "end_time": "2018-05-13T20:17:23.985004Z",
     "start_time": "2018-05-13T20:17:23.959935Z"
    }
   },
   "outputs": [
    {
     "data": {
      "text/plain": [
       "TourCode                   category\n",
       "TourDescription            category\n",
       "Year                         uint16\n",
       "TournamentNum                uint16\n",
       "PlayerNum                    uint16\n",
       "CourseNum                    uint16\n",
       "PermanentTournamentNum       uint16\n",
       "PlayerFirstName            category\n",
       "PlayerLastName             category\n",
       "Round                         uint8\n",
       "TournamentName             category\n",
       "CourseName_shots             object\n",
       "Hole                          uint8\n",
       "HoleScore                   float32\n",
       "ParValue                      uint8\n",
       "Yardage                      uint16\n",
       "Shot                          uint8\n",
       "ShotType                   category\n",
       "NumStrokes                    uint8\n",
       "FromLocationScorer         category\n",
       "FromLocationEnhanced         object\n",
       "ToLocationScorer           category\n",
       "ToLocationEnhanced         category\n",
       "Distance                     uint16\n",
       "DistanceToPin                uint16\n",
       "InTheHoleFlag              category\n",
       "AroundTheGreenFlag         category\n",
       "FirstPuttFlag              category\n",
       "DistanceToHoleAfterShot      uint16\n",
       "Time                         uint16\n",
       "                             ...   \n",
       "YCoordinate                  object\n",
       "ZCoordinate                  object\n",
       "DistanceFromCenter           uint16\n",
       "DistanceFromEdge             uint16\n",
       "Date_shots                   object\n",
       "LeftRight                  category\n",
       "StrokesGainedBaseline       float32\n",
       "StrokesGainedCategory      category\n",
       "RecoveryShot               category\n",
       "AMWindSpd                    object\n",
       "PMWindSpd                    object\n",
       "AMWindDir                    object\n",
       "PMWindDir                    object\n",
       "ShotDateAndTime              object\n",
       "Date_weather                 object\n",
       "Hour                          int64\n",
       "Latitude                    float64\n",
       "Longitude                   float64\n",
       "Summary                      object\n",
       "DegreesFahrenheit           float64\n",
       "Humidity                    float64\n",
       "Visibility                  float64\n",
       "WindBearing                 float64\n",
       "WindGust                    float64\n",
       "WindSpeed                   float64\n",
       "PrecipitationIntensity      float64\n",
       "PrecipitationType            object\n",
       "CourseName_weather           object\n",
       "WeatherDateAndHour           object\n",
       "TimeDifference               object\n",
       "Length: 64, dtype: object"
      ]
     },
     "execution_count": 11,
     "metadata": {},
     "output_type": "execute_result"
    }
   ],
   "source": [
    "d.dtypes"
   ]
  },
  {
   "cell_type": "code",
   "execution_count": 13,
   "metadata": {
    "ExecuteTime": {
     "end_time": "2018-05-13T20:22:00.348529Z",
     "start_time": "2018-05-13T20:22:00.206798Z"
    }
   },
   "outputs": [
    {
     "data": {
      "text/plain": [
       "(0, 2109)"
      ]
     },
     "execution_count": 13,
     "metadata": {},
     "output_type": "execute_result"
    }
   ],
   "source": [
    "d['Time'].min(), d['Time'].max()"
   ]
  },
  {
   "cell_type": "code",
   "execution_count": 14,
   "metadata": {
    "ExecuteTime": {
     "end_time": "2018-05-13T20:24:54.762003Z",
     "start_time": "2018-05-13T20:24:54.625382Z"
    }
   },
   "outputs": [
    {
     "data": {
      "text/plain": [
       "array([2008, 2009, 2010, 2011, 2012, 2013, 2014, 2015, 2016, 2017],\n",
       "      dtype=uint64)"
      ]
     },
     "execution_count": 14,
     "metadata": {},
     "output_type": "execute_result"
    }
   ],
   "source": [
    "d['Year'].unique()"
   ]
  },
  {
   "cell_type": "code",
   "execution_count": null,
   "metadata": {},
   "outputs": [],
   "source": []
  },
  {
   "cell_type": "code",
   "execution_count": 2,
   "metadata": {
    "ExecuteTime": {
     "end_time": "2018-05-13T20:05:28.500303Z",
     "start_time": "2018-05-13T20:02:11.914116Z"
    }
   },
   "outputs": [
    {
     "name": "stderr",
     "output_type": "stream",
     "text": [
      "/Users/andrewenfield/miniconda3/envs/anaconda/lib/python3.6/site-packages/IPython/core/interactiveshell.py:2728: DtypeWarning: Columns (20,21,22,27,33,34,35,39,41,43,44,45,46,60) have mixed types. Specify dtype option on import or set low_memory=False.\n",
      "  interactivity=interactivity, compiler=compiler, result=result)\n"
     ]
    },
    {
     "data": {
      "text/plain": [
       "(11365769, 64)"
      ]
     },
     "execution_count": 2,
     "metadata": {},
     "output_type": "execute_result"
    }
   ],
   "source": [
    "d = pd.read_csv('../../pygolfdata/data/combined_shots_and_weather_2008-2017.csv')\n",
    "d.shape"
   ]
  },
  {
   "cell_type": "code",
   "execution_count": 4,
   "metadata": {
    "ExecuteTime": {
     "end_time": "2018-05-13T20:08:34.091185Z",
     "start_time": "2018-05-13T20:07:52.085039Z"
    }
   },
   "outputs": [
    {
     "data": {
      "text/plain": [
       "'26329.10 MB'"
      ]
     },
     "execution_count": 4,
     "metadata": {},
     "output_type": "execute_result"
    }
   ],
   "source": [
    "mem_usage(d)"
   ]
  },
  {
   "cell_type": "code",
   "execution_count": 5,
   "metadata": {
    "ExecuteTime": {
     "end_time": "2018-05-13T20:08:34.123056Z",
     "start_time": "2018-05-13T20:08:34.097575Z"
    }
   },
   "outputs": [
    {
     "data": {
      "text/plain": [
       "TourCode                    object\n",
       "TourDescription             object\n",
       "Year                         int64\n",
       "TournamentNum                int64\n",
       "PlayerNum                    int64\n",
       "CourseNum                    int64\n",
       "PermanentTournamentNum       int64\n",
       "PlayerFirstName             object\n",
       "PlayerLastName              object\n",
       "Round                        int64\n",
       "TournamentName              object\n",
       "CourseName_shots            object\n",
       "Hole                         int64\n",
       "HoleScore                  float64\n",
       "ParValue                     int64\n",
       "Yardage                      int64\n",
       "Shot                         int64\n",
       "ShotType                    object\n",
       "NumStrokes                   int64\n",
       "FromLocationScorer          object\n",
       "FromLocationEnhanced        object\n",
       "ToLocationScorer            object\n",
       "ToLocationEnhanced          object\n",
       "Distance                     int64\n",
       "DistanceToPin                int64\n",
       "InTheHoleFlag               object\n",
       "AroundTheGreenFlag          object\n",
       "FirstPuttFlag               object\n",
       "DistanceToHoleAfterShot      int64\n",
       "Time                         int64\n",
       "                            ...   \n",
       "YCoordinate                 object\n",
       "ZCoordinate                 object\n",
       "DistanceFromCenter           int64\n",
       "DistanceFromEdge             int64\n",
       "Date_shots                  object\n",
       "LeftRight                   object\n",
       "StrokesGainedBaseline      float64\n",
       "StrokesGainedCategory       object\n",
       "RecoveryShot                object\n",
       "AMWindSpd                   object\n",
       "PMWindSpd                   object\n",
       "AMWindDir                   object\n",
       "PMWindDir                   object\n",
       "ShotDateAndTime             object\n",
       "Date_weather                object\n",
       "Hour                         int64\n",
       "Latitude                   float64\n",
       "Longitude                  float64\n",
       "Summary                     object\n",
       "DegreesFahrenheit          float64\n",
       "Humidity                   float64\n",
       "Visibility                 float64\n",
       "WindBearing                float64\n",
       "WindGust                   float64\n",
       "WindSpeed                  float64\n",
       "PrecipitationIntensity     float64\n",
       "PrecipitationType           object\n",
       "CourseName_weather          object\n",
       "WeatherDateAndHour          object\n",
       "TimeDifference              object\n",
       "Length: 64, dtype: object"
      ]
     },
     "execution_count": 5,
     "metadata": {},
     "output_type": "execute_result"
    }
   ],
   "source": [
    "d.dtypes"
   ]
  },
  {
   "cell_type": "code",
   "execution_count": null,
   "metadata": {},
   "outputs": [],
   "source": []
  }
 ],
 "metadata": {
  "kernelspec": {
   "display_name": "Python 3",
   "language": "python",
   "name": "python3"
  },
  "language_info": {
   "codemirror_mode": {
    "name": "ipython",
    "version": 3
   },
   "file_extension": ".py",
   "mimetype": "text/x-python",
   "name": "python",
   "nbconvert_exporter": "python",
   "pygments_lexer": "ipython3",
   "version": "3.6.4"
  }
 },
 "nbformat": 4,
 "nbformat_minor": 2
}
