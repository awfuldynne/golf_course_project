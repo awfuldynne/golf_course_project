{
 "cells": [
  {
   "cell_type": "code",
   "execution_count": 2,
   "metadata": {},
   "outputs": [],
   "source": [
    "import pandas as pd\n",
    "\n",
    "from datetime import datetime\n",
    "import time\n",
    "\n",
    "import sys\n",
    "sys.path.append('../../')\n",
    "sys.path.append('../../../')"
   ]
  },
  {
   "cell_type": "code",
   "execution_count": 3,
   "metadata": {},
   "outputs": [
    {
     "data": {
      "text/plain": [
       "(1141966, 65)"
      ]
     },
     "execution_count": 3,
     "metadata": {},
     "output_type": "execute_result"
    }
   ],
   "source": [
    "from golf_course_project.pygolfdata.data import shotlink\n",
    "\n",
    "pd.options.display.max_rows = 200\n",
    "\n",
    "d = shotlink.get_combined_data_from_file('golf_course_project_data/combined_shots_and_weather_2016_2016.csv')\n",
    "d.shape"
   ]
  },
  {
   "cell_type": "code",
   "execution_count": 4,
   "metadata": {
    "collapsed": true
   },
   "outputs": [],
   "source": [
    "# Drop columns which have more than 1% of their values missing\n",
    "# Then drop rows missing values\n",
    "\n",
    "pct_threshold = 0.01\n",
    "no = d.apply(lambda x: x.isna().sum() / d.shape[0])\n",
    "drop_these_lame_columns = no[no >= pct_threshold].index\n",
    "\n",
    "dnew = d.drop(columns=drop_these_lame_columns)\n",
    "\n",
    "#dnew = dnew.dropna(axis=0, how='any')"
   ]
  },
  {
   "cell_type": "code",
   "execution_count": 5,
   "metadata": {
    "collapsed": true
   },
   "outputs": [
    {
     "name": "stdout",
     "output_type": "stream",
     "text": [
      "<class 'pandas.core.frame.DataFrame'>\nRangeIndex: 1141966 entries, 0 to 1141965\nData columns (total 52 columns):\nTourCode                   1141966 non-null category\nTourDescription            1141966 non-null category\nYear                       1141966 non-null uint16\nTournamentNum              1141966 non-null uint16\nPlayerNum                  1141966 non-null uint16\nCourseNum                  1141966 non-null uint16\nPermanentTournamentNum     1141966 non-null uint16\nPlayerFirstName            1141966 non-null category\nPlayerLastName             1141966 non-null category\nRound                      1141966 non-null uint8\nTournamentName             1141966 non-null category\nCourseName_shots           1141966 non-null object\nHole                       1141966 non-null uint8\nHoleScore                  1141601 non-null float32\nParValue                   1141966 non-null uint8\nYardage                    1141966 non-null uint16\nShot                       1141966 non-null uint8\nShotType                   1141966 non-null category\nNumStrokes                 1141966 non-null uint8\nFromLocationScorer         1141511 non-null category\nDistance                   1141966 non-null uint16\nDistanceToPin              1141966 non-null uint16\nInTheHoleFlag              1141966 non-null category\nAroundTheGreenFlag         1141966 non-null category\nDistanceToHoleAfterShot    1141966 non-null uint16\nTime                       1141966 non-null uint16\nElevation                  1141511 non-null category\nSlope                      1141511 non-null category\nXCoordinate                1141966 non-null object\nYCoordinate                1141966 non-null object\nZCoordinate                1141966 non-null object\nDistanceFromCenter         1141966 non-null uint16\nDistanceFromEdge           1141966 non-null uint16\nDate_shots                 1141966 non-null datetime64[ns]\nStrokesGainedBaseline      1141966 non-null float32\nRecoveryShot               1141966 non-null category\nShotDateAndTime            1141966 non-null datetime64[ns]\nPlayerName                 1141966 non-null category\nDate_weather               1141966 non-null datetime64[ns]\nHour                       1141966 non-null uint8\nLatitude                   1141966 non-null float32\nLongitude                  1141966 non-null float32\nSummary                    1141966 non-null category\nDegreesFahrenheit          1141966 non-null float32\nHumidity                   1141966 non-null float32\nVisibility                 1141966 non-null float32\nWindBearing                1141781 non-null float32\nWindSpeed                  1141781 non-null float32\nPrecipitationIntensity     1141966 non-null float32\nCourseName_weather         1141966 non-null category\nWeatherDateAndHour         1141966 non-null datetime64[ns]\nTimeDifference             1141966 non-null object\ndtypes: category(15), datetime64[ns](4), float32(10), object(5), uint16(12), uint8(6)\nmemory usage: 174.3+ MB\n"
     ]
    }
   ],
   "source": [
    "dnew.info()"
   ]
  },
  {
   "cell_type": "code",
   "execution_count": 6,
   "metadata": {},
   "outputs": [
    {
     "data": {
      "text/plain": [
       "Index(['TourCode', 'TourDescription', 'Year', 'TournamentNum', 'PlayerNum',\n       'CourseNum', 'PermanentTournamentNum', 'PlayerFirstName',\n       'PlayerLastName', 'Round', 'TournamentName', 'CourseName_shots', 'Hole',\n       'ParValue', 'Yardage', 'Shot', 'ShotType', 'NumStrokes', 'Distance',\n       'DistanceToPin', 'InTheHoleFlag', 'AroundTheGreenFlag',\n       'DistanceToHoleAfterShot', 'Time', 'XCoordinate', 'YCoordinate',\n       'ZCoordinate', 'DistanceFromCenter', 'DistanceFromEdge', 'Date_shots',\n       'StrokesGainedBaseline', 'RecoveryShot', 'ShotDateAndTime',\n       'PlayerName', 'Date_weather', 'Hour', 'Latitude', 'Longitude',\n       'Summary', 'DegreesFahrenheit', 'Humidity', 'Visibility',\n       'PrecipitationIntensity', 'CourseName_weather', 'WeatherDateAndHour',\n       'TimeDifference'],\n      dtype='object')"
      ]
     },
     "execution_count": 6,
     "metadata": {},
     "output_type": "execute_result"
    }
   ],
   "source": [
    "dnew = d.dropna(axis=1, how='any')\n",
    "dnew.columns"
   ]
  },
  {
   "cell_type": "code",
   "execution_count": 7,
   "metadata": {
    "collapsed": true
   },
   "outputs": [
    {
     "data": {
      "text/html": [
       "<div>\n",
       "<style scoped>\n",
       "    .dataframe tbody tr th:only-of-type {\n",
       "        vertical-align: middle;\n",
       "    }\n",
       "\n",
       "    .dataframe tbody tr th {\n",
       "        vertical-align: top;\n",
       "    }\n",
       "\n",
       "    .dataframe thead th {\n",
       "        text-align: right;\n",
       "    }\n",
       "</style>\n",
       "<table border=\"1\" class=\"dataframe\">\n",
       "  <thead>\n",
       "    <tr style=\"text-align: right;\">\n",
       "      <th></th>\n",
       "      <th>DegreesFahrenheit</th>\n",
       "      <th>Humidity</th>\n",
       "      <th>Visibility</th>\n",
       "      <th>PrecipitationIntensity</th>\n",
       "      <th>StrokesGainedBaseline</th>\n",
       "    </tr>\n",
       "  </thead>\n",
       "  <tbody>\n",
       "    <tr>\n",
       "      <th>count</th>\n",
       "      <td>1.141966e+06</td>\n",
       "      <td>1.141966e+06</td>\n",
       "      <td>1.141966e+06</td>\n",
       "      <td>1.141966e+06</td>\n",
       "      <td>1.141966e+06</td>\n",
       "    </tr>\n",
       "    <tr>\n",
       "      <th>mean</th>\n",
       "      <td>7.404843e+01</td>\n",
       "      <td>5.882784e-01</td>\n",
       "      <td>9.578472e+00</td>\n",
       "      <td>1.961086e-03</td>\n",
       "      <td>1.861721e-03</td>\n",
       "    </tr>\n",
       "    <tr>\n",
       "      <th>std</th>\n",
       "      <td>8.995831e+00</td>\n",
       "      <td>1.886622e-01</td>\n",
       "      <td>9.515421e-01</td>\n",
       "      <td>1.251801e-02</td>\n",
       "      <td>3.120983e-01</td>\n",
       "    </tr>\n",
       "    <tr>\n",
       "      <th>min</th>\n",
       "      <td>3.697000e+01</td>\n",
       "      <td>1.000000e-01</td>\n",
       "      <td>2.110000e+00</td>\n",
       "      <td>0.000000e+00</td>\n",
       "      <td>-3.206000e+00</td>\n",
       "    </tr>\n",
       "    <tr>\n",
       "      <th>25%</th>\n",
       "      <td>6.709000e+01</td>\n",
       "      <td>4.500000e-01</td>\n",
       "      <td>9.630000e+00</td>\n",
       "      <td>0.000000e+00</td>\n",
       "      <td>-1.100000e-01</td>\n",
       "    </tr>\n",
       "    <tr>\n",
       "      <th>50%</th>\n",
       "      <td>7.588000e+01</td>\n",
       "      <td>5.900000e-01</td>\n",
       "      <td>9.920000e+00</td>\n",
       "      <td>0.000000e+00</td>\n",
       "      <td>1.000000e-03</td>\n",
       "    </tr>\n",
       "    <tr>\n",
       "      <th>75%</th>\n",
       "      <td>8.080000e+01</td>\n",
       "      <td>7.300000e-01</td>\n",
       "      <td>1.000000e+01</td>\n",
       "      <td>0.000000e+00</td>\n",
       "      <td>1.190000e-01</td>\n",
       "    </tr>\n",
       "    <tr>\n",
       "      <th>max</th>\n",
       "      <td>9.275000e+01</td>\n",
       "      <td>1.000000e+00</td>\n",
       "      <td>1.000000e+01</td>\n",
       "      <td>5.134000e-01</td>\n",
       "      <td>4.752000e+00</td>\n",
       "    </tr>\n",
       "  </tbody>\n",
       "</table>\n",
       "</div>"
      ],
      "text/plain": [
       "<div>\n",
       "<style scoped>\n",
       "    .dataframe tbody tr th:only-of-type {\n",
       "        vertical-align: middle;\n",
       "    }\n",
       "\n",
       "    .dataframe tbody tr th {\n",
       "        vertical-align: top;\n",
       "    }\n",
       "\n",
       "    .dataframe thead th {\n",
       "        text-align: right;\n",
       "    }\n",
       "</style>\n",
       "<table border=\"1\" class=\"dataframe\">\n",
       "  <thead>\n",
       "    <tr style=\"text-align: right;\">\n",
       "      <th></th>\n",
       "      <th>DegreesFahrenheit</th>\n",
       "      <th>Humidity</th>\n",
       "      <th>Visibility</th>\n",
       "      <th>PrecipitationIntensity</th>\n",
       "      <th>StrokesGainedBaseline</th>\n",
       "    </tr>\n",
       "  </thead>\n",
       "  <tbody>\n",
       "    <tr>\n",
       "      <th>count</th>\n",
       "      <td>1.141966e+06</td>\n",
       "      <td>1.141966e+06</td>\n",
       "      <td>1.141966e+06</td>\n",
       "      <td>1.141966e+06</td>\n",
       "      <td>1.141966e+06</td>\n",
       "    </tr>\n",
       "    <tr>\n",
       "      <th>mean</th>\n",
       "      <td>7.404843e+01</td>\n",
       "      <td>5.882784e-01</td>\n",
       "      <td>9.578472e+00</td>\n",
       "      <td>1.961086e-03</td>\n",
       "      <td>1.861721e-03</td>\n",
       "    </tr>\n",
       "    <tr>\n",
       "      <th>std</th>\n",
       "      <td>8.995831e+00</td>\n",
       "      <td>1.886622e-01</td>\n",
       "      <td>9.515421e-01</td>\n",
       "      <td>1.251801e-02</td>\n",
       "      <td>3.120983e-01</td>\n",
       "    </tr>\n",
       "    <tr>\n",
       "      <th>min</th>\n",
       "      <td>3.697000e+01</td>\n",
       "      <td>1.000000e-01</td>\n",
       "      <td>2.110000e+00</td>\n",
       "      <td>0.000000e+00</td>\n",
       "      <td>-3.206000e+00</td>\n",
       "    </tr>\n",
       "    <tr>\n",
       "      <th>25%</th>\n",
       "      <td>6.709000e+01</td>\n",
       "      <td>4.500000e-01</td>\n",
       "      <td>9.630000e+00</td>\n",
       "      <td>0.000000e+00</td>\n",
       "      <td>-1.100000e-01</td>\n",
       "    </tr>\n",
       "    <tr>\n",
       "      <th>50%</th>\n",
       "      <td>7.588000e+01</td>\n",
       "      <td>5.900000e-01</td>\n",
       "      <td>9.920000e+00</td>\n",
       "      <td>0.000000e+00</td>\n",
       "      <td>1.000000e-03</td>\n",
       "    </tr>\n",
       "    <tr>\n",
       "      <th>75%</th>\n",
       "      <td>8.080000e+01</td>\n",
       "      <td>7.300000e-01</td>\n",
       "      <td>1.000000e+01</td>\n",
       "      <td>0.000000e+00</td>\n",
       "      <td>1.190000e-01</td>\n",
       "    </tr>\n",
       "    <tr>\n",
       "      <th>max</th>\n",
       "      <td>9.275000e+01</td>\n",
       "      <td>1.000000e+00</td>\n",
       "      <td>1.000000e+01</td>\n",
       "      <td>5.134000e-01</td>\n",
       "      <td>4.752000e+00</td>\n",
       "    </tr>\n",
       "  </tbody>\n",
       "</table>\n",
       "</div>"
      ]
     },
     "execution_count": 7,
     "metadata": {},
     "output_type": "execute_result"
    }
   ],
   "source": [
    "col_for_model = ['Summary', 'DegreesFahrenheit', 'Humidity', 'Visibility', 'PrecipitationIntensity', 'StrokesGainedBaseline']\n",
    "df = dnew[col_for_model]\n",
    "df = df.dropna(axis=0, how='any')\n",
    "df.describe()"
   ]
  },
  {
   "cell_type": "code",
   "execution_count": 11,
   "metadata": {},
   "outputs": [
    {
     "name": "stderr",
     "output_type": "stream",
     "text": [
      "C:\\Users\\ucale\\Anaconda3\\lib\\site-packages\\ipykernel_launcher.py:12: FutureWarning: reshape is deprecated and will raise in a subsequent release. Please use .values.reshape(...) instead\n  if sys.path[0] == '':\n"
     ]
    },
    {
     "name": "stderr",
     "output_type": "stream",
     "text": [
      "C:\\Users\\ucale\\Anaconda3\\lib\\site-packages\\ipykernel_launcher.py:16: FutureWarning: reshape is deprecated and will raise in a subsequent release. Please use .values.reshape(...) instead\n  app.launch_new_instance()\nC:\\Users\\ucale\\Anaconda3\\lib\\site-packages\\ipykernel_launcher.py:17: FutureWarning: reshape is deprecated and will raise in a subsequent release. Please use .values.reshape(...) instead\n"
     ]
    }
   ],
   "source": [
    "from sklearn import preprocessing, linear_model\n",
    "from sklearn.model_selection import train_test_split\n",
    "import copy\n",
    "\n",
    "response = 'StrokesGainedBaseline'\n",
    "X = copy.deepcopy(df)\n",
    "y = X[response]\n",
    "X = X.drop(columns=response)\n",
    "X = pd.get_dummies(X)\n",
    "X_train, X_test, y_train, y_test = train_test_split(X, y, test_size=0.2, random_state=42)\n",
    "scalerX = preprocessing.StandardScaler().fit(X_train)\n",
    "scalerY = preprocessing.StandardScaler().fit(y_train.reshape(-1, 1))\n",
    "\n",
    "X_train_scaled = scalerX.transform(X_train)\n",
    "X_test_scaled = scalerX.transform(X_test)\n",
    "y_train_scaled = scalerY.transform(y_train.reshape(-1, 1))\n",
    "y_test_scaled = scalerY.transform(y_test.reshape(-1, 1))"
   ]
  },
  {
   "cell_type": "code",
   "execution_count": 13,
   "metadata": {},
   "outputs": [
    {
     "name": "stdout",
     "output_type": "stream",
     "text": [
      "Coefficients: \n [[ 8.46852448e-03  1.57730065e-02  2.93760457e-03 -3.05083937e-03\n  -6.47181661e+10 -5.56604798e+10 -9.01273375e+09 -1.76958803e+10\n  -1.09608250e+10 -2.61683822e+09 -9.88929694e+09 -1.24589652e+10\n  -2.93865696e+10 -1.20397205e+10 -1.97873793e+10 -1.91220524e+10\n  -2.69689436e+09 -4.57104139e+09 -1.16113741e+10 -4.64228339e+09\n  -3.43462463e+09]]\nMean squared error: 0.10\nVariance score: 0.00\n"
     ]
    }
   ],
   "source": [
    "from sklearn.metrics import mean_squared_error, r2_score\n",
    "\n",
    "# Create linear regression object\n",
    "regr = linear_model.LinearRegression()\n",
    "\n",
    "# Train the model using the training sets\n",
    "regr.fit(X_train_scaled, y_train_scaled)\n",
    "\n",
    "# Make predictions using the testing set\n",
    "y_pred = regr.predict(X_test_scaled)\n",
    "\n",
    "# The coefficients\n",
    "print('Coefficients: \\n', regr.coef_)\n",
    "# The mean squared error\n",
    "print(\"Mean squared error: %.2f\"\n",
    "      % mean_squared_error(y_test_scaled, y_pred))\n",
    "# Explained variance score: 1 is perfect prediction\n",
    "print('Variance score: %.2f' % r2_score(y_test_scaled, y_pred))"
   ]
  },
  {
   "cell_type": "code",
   "execution_count": 16,
   "metadata": {},
   "outputs": [
    {
     "data": {
      "text/plain": [
       "RidgeCV(alphas=(0.001, 0.003, 0.006, 0.01, 0.03, 0.06, 0.1, 0.3, 0.6, 1),\n    cv=KFold(n_splits=10, random_state=None, shuffle=True),\n    fit_intercept=True, gcv_mode=None, normalize=False, scoring=None,\n    store_cv_values=False)"
      ]
     },
     "execution_count": 16,
     "metadata": {},
     "output_type": "execute_result"
    }
   ],
   "source": [
    "from sklearn.model_selection import KFold\n",
    "from sklearn.linear_model import RidgeCV\n",
    "\n",
    "kf = KFold(n_splits=10, shuffle=True)\n",
    "alphas = (0.001, 0.003, 0.006, 0.01, 0.03, 0.06, 0.1, 0.3, 0.6, 1)\n",
    "rcv = RidgeCV(alphas=alphas, cv=kf)\n",
    "\n",
    "rcv.fit(X_train_scaled, y_train_scaled)"
   ]
  },
  {
   "cell_type": "code",
   "execution_count": 18,
   "metadata": {},
   "outputs": [
    {
     "name": "stdout",
     "output_type": "stream",
     "text": [
      "Coefficients: \n [[ 0.00842054  0.0156793   0.00293933 -0.00310603  0.00016025  0.00297598\n   0.0018713  -0.00131867  0.00172717  0.00343741 -0.0016751  -0.00166654\n   0.00012578 -0.00118315  0.00164353 -0.00566888  0.00013321  0.0002741\n  -0.00650783 -0.00120694  0.00170048]]\nMean squared error: 0.99\nVariance score: 0.00\n"
     ]
    }
   ],
   "source": [
    "y_pred = rcv.predict(X_test_scaled)\n",
    "\n",
    "# The coefficients\n",
    "print('Coefficients: \\n', rcv.coef_)\n",
    "# The mean squared error\n",
    "print(\"Mean squared error: %.2f\"\n",
    "      % mean_squared_error(y_test_scaled, y_pred))\n",
    "# Explained variance score: 1 is perfect prediction\n",
    "print('Variance score: %.2f' % r2_score(y_test_scaled, y_pred))"
   ]
  },
  {
   "cell_type": "code",
   "execution_count": null,
   "metadata": {},
   "outputs": [],
   "source": [
    "type(y_test_scaled)\n",
    "y_pred"
   ]
  },
  {
   "cell_type": "code",
   "execution_count": 21,
   "metadata": {},
   "outputs": [
    {
     "data": {
      "text/plain": [
       "array([[ 0.28515592],\n       [ 0.48037544],\n       [-0.2684995 ],\n       ...,\n       [-0.8221549 ],\n       [-0.48292094],\n       [-0.00607323]], dtype=float32)"
      ]
     },
     "execution_count": 21,
     "metadata": {},
     "output_type": "execute_result"
    }
   ],
   "source": [
    "y_test_scaled"
   ]
  },
  {
   "cell_type": "code",
   "execution_count": null,
   "metadata": {},
   "outputs": [],
   "source": [
    ""
   ]
  }
 ],
 "metadata": {
  "kernelspec": {
   "display_name": "Python 3",
   "language": "python",
   "name": "python3"
  },
  "language_info": {
   "codemirror_mode": {
    "name": "ipython",
    "version": 3.0
   },
   "file_extension": ".py",
   "mimetype": "text/x-python",
   "name": "python",
   "nbconvert_exporter": "python",
   "pygments_lexer": "ipython3",
   "version": "3.6.5"
  }
 },
 "nbformat": 4,
 "nbformat_minor": 0
}
