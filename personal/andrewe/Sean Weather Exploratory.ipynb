{
 "cells": [
  {
   "cell_type": "code",
   "execution_count": 4,
   "metadata": {
    "ExecuteTime": {
     "end_time": "2018-05-11T21:32:55.493334Z",
     "start_time": "2018-05-11T21:32:55.487670Z"
    }
   },
   "outputs": [],
   "source": [
    "import os\n",
    "import sys\n",
    "\n",
    "from datetime import date\n",
    "\n",
    "sys.path.append('../../')\n",
    "from pygolfdata.weather import core as weathercore"
   ]
  },
  {
   "cell_type": "markdown",
   "metadata": {},
   "source": [
    "# Quick check w/ darkskylib"
   ]
  },
  {
   "cell_type": "code",
   "execution_count": 6,
   "metadata": {
    "ExecuteTime": {
     "end_time": "2018-05-11T21:34:12.003530Z",
     "start_time": "2018-05-11T21:34:11.997958Z"
    }
   },
   "outputs": [],
   "source": [
    "from darksky import forecast"
   ]
  },
  {
   "cell_type": "code",
   "execution_count": 13,
   "metadata": {
    "ExecuteTime": {
     "end_time": "2018-05-11T21:58:59.978126Z",
     "start_time": "2018-05-11T21:58:59.973446Z"
    }
   },
   "outputs": [],
   "source": [
    "#riviera_cc_forecast = forecast(os.environ['DARK_SKY_KEY'], 34.0498, -118.5013)\n",
    "#riviera_cc_forecast"
   ]
  },
  {
   "cell_type": "markdown",
   "metadata": {},
   "source": [
    "# Sean's code"
   ]
  },
  {
   "cell_type": "code",
   "execution_count": 14,
   "metadata": {
    "ExecuteTime": {
     "end_time": "2018-05-11T21:59:05.758700Z",
     "start_time": "2018-05-11T21:59:05.754026Z"
    },
    "scrolled": false
   },
   "outputs": [],
   "source": [
    "#w = weathercore.WeatherDateApi(os.environ['DARK_SKY_KEY'], \"weather_spike.csv\")\n",
    "#w.append_weather_data(34.0498, -118.5013, date(2017, 2, 19), True)\n",
    "#w.append_weather_data(34.0498, -118.5013, date(2017, 2, 20), True)"
   ]
  },
  {
   "cell_type": "code",
   "execution_count": null,
   "metadata": {},
   "outputs": [],
   "source": [
    "w.get_weather_dataframe()"
   ]
  }
 ],
 "metadata": {
  "kernelspec": {
   "display_name": "Python 3",
   "language": "python",
   "name": "python3"
  },
  "language_info": {
   "codemirror_mode": {
    "name": "ipython",
    "version": 3
   },
   "file_extension": ".py",
   "mimetype": "text/x-python",
   "name": "python",
   "nbconvert_exporter": "python",
   "pygments_lexer": "ipython3",
   "version": "3.6.4"
  }
 },
 "nbformat": 4,
 "nbformat_minor": 2
}
