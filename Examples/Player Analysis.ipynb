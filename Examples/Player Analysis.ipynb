{
 "cells": [
  {
   "cell_type": "code",
   "execution_count": null,
   "metadata": {
    "collapsed": true
   },
   "outputs": [],
   "source": [
    "gb_player_precip = df_ori.groupby(['PlayerName','PrecipitationType']).mean()\n",
    "gb_player_precip_sg = pd.DataFrame(gb_player_precip['StrokesGainedBaseline'])\n",
    "\n",
    "#Get sample sizes for each player\n",
    "for i in gb_player_precip_sg.index.tolist():\n",
    "    player_name = i[0]\n",
    "    cat = i[1]\n",
    "    shot_types = pd.DataFrame(df_ori[df_ori['PlayerName'] == player_name]['PrecipitationType'].value_counts())\n",
    "    gb_player_precip_sg.loc[i, 'num_shots'] = shot_types.loc[cat]['PrecipitationType']\n",
    "    \n",
    "#Filter out num_shots < 100\n",
    "gb_player_precip_sg = gb_player_precip_sg[gb_player_precip_sg['num_shots'] >= 100]\n",
    "\n",
    "#Sort by StrokesGained\n",
    "gb_player_precip_sg.sort_values('StrokesGainedBaseline', ascending = False)"
   ]
  }
 ],
 "metadata": {
  "kernelspec": {
   "display_name": "Python 3",
   "language": "python",
   "name": "python3"
  },
  "language_info": {
   "codemirror_mode": {
    "name": "ipython",
    "version": 3
   },
   "file_extension": ".py",
   "mimetype": "text/x-python",
   "name": "python",
   "nbconvert_exporter": "python",
   "pygments_lexer": "ipython3",
   "version": "3.6.0"
  }
 },
 "nbformat": 4,
 "nbformat_minor": 2
}
