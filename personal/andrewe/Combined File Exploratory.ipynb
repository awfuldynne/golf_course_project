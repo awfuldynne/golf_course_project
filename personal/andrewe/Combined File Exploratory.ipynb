{
 "cells": [
  {
   "cell_type": "code",
   "execution_count": 1,
   "metadata": {
    "ExecuteTime": {
     "end_time": "2018-05-16T22:41:51.557161Z",
     "start_time": "2018-05-16T22:41:50.591176Z"
    }
   },
   "outputs": [],
   "source": [
    "import pandas as pd\n",
    "\n",
    "from datetime import datetime\n",
    "import time\n",
    "\n",
    "import sys\n",
    "sys.path.append('../../')\n",
    "\n",
    "from pygolfdata.data import shotlink\n",
    "\n",
    "pd.options.display.max_rows = 200"
   ]
  },
  {
   "cell_type": "code",
   "execution_count": 2,
   "metadata": {
    "ExecuteTime": {
     "end_time": "2018-05-16T22:41:51.566217Z",
     "start_time": "2018-05-16T22:41:51.559796Z"
    }
   },
   "outputs": [],
   "source": [
    "def mem_usage(pandas_obj):\n",
    "    if isinstance(pandas_obj,pd.DataFrame):\n",
    "        usage_b = pandas_obj.memory_usage(deep=True).sum()\n",
    "    else: # we assume if not a df it's a series\n",
    "        usage_b = pandas_obj.memory_usage(deep=True)\n",
    "    usage_mb = usage_b / 1024 ** 2 # convert bytes to megabytes\n",
    "    return \"{:03.2f} MB\".format(usage_mb)"
   ]
  },
  {
   "cell_type": "code",
   "execution_count": 3,
   "metadata": {
    "ExecuteTime": {
     "end_time": "2018-05-16T22:42:30.144439Z",
     "start_time": "2018-05-16T22:42:07.362162Z"
    }
   },
   "outputs": [
    {
     "data": {
      "text/plain": [
       "(1141966, 65)"
      ]
     },
     "execution_count": 3,
     "metadata": {},
     "output_type": "execute_result"
    }
   ],
   "source": [
    "d = shotlink.get_combined_data_from_file('../../../golf_course_project_data/combined_shots_and_weather_2016_2016.csv')\n",
    "d.shape"
   ]
  },
  {
   "cell_type": "code",
   "execution_count": 4,
   "metadata": {
    "ExecuteTime": {
     "end_time": "2018-05-16T22:42:33.004141Z",
     "start_time": "2018-05-16T22:42:32.331624Z"
    }
   },
   "outputs": [
    {
     "data": {
      "text/plain": [
       "'604.37 MB'"
      ]
     },
     "execution_count": 4,
     "metadata": {},
     "output_type": "execute_result"
    }
   ],
   "source": [
    "mem_usage(d)"
   ]
  },
  {
   "cell_type": "code",
   "execution_count": 5,
   "metadata": {
    "ExecuteTime": {
     "end_time": "2018-05-16T22:42:33.860138Z",
     "start_time": "2018-05-16T22:42:33.849668Z"
    }
   },
   "outputs": [
    {
     "data": {
      "text/plain": [
       "TourCode                         category\n",
       "TourDescription                  category\n",
       "Year                               uint16\n",
       "TournamentNum                      uint16\n",
       "PlayerNum                          uint16\n",
       "CourseNum                          uint16\n",
       "PermanentTournamentNum             uint16\n",
       "PlayerFirstName                  category\n",
       "PlayerLastName                   category\n",
       "Round                               uint8\n",
       "TournamentName                   category\n",
       "CourseName_shots                   object\n",
       "Hole                                uint8\n",
       "HoleScore                         float32\n",
       "ParValue                            uint8\n",
       "Yardage                            uint16\n",
       "Shot                                uint8\n",
       "ShotType                         category\n",
       "NumStrokes                          uint8\n",
       "FromLocationScorer               category\n",
       "FromLocationEnhanced               object\n",
       "ToLocationScorer                 category\n",
       "ToLocationEnhanced               category\n",
       "Distance                           uint16\n",
       "DistanceToPin                      uint16\n",
       "InTheHoleFlag                    category\n",
       "AroundTheGreenFlag               category\n",
       "FirstPuttFlag                    category\n",
       "DistanceToHoleAfterShot            uint16\n",
       "Time                               uint16\n",
       "Lie                              category\n",
       "Elevation                        category\n",
       "Slope                            category\n",
       "XCoordinate                        object\n",
       "YCoordinate                        object\n",
       "ZCoordinate                        object\n",
       "DistanceFromCenter                 uint16\n",
       "DistanceFromEdge                   uint16\n",
       "Date_shots                 datetime64[ns]\n",
       "LeftRight                        category\n",
       "StrokesGainedBaseline             float32\n",
       "StrokesGainedCategory            category\n",
       "RecoveryShot                     category\n",
       "AMWindSpd                        category\n",
       "PMWindSpd                        category\n",
       "AMWindDir                        category\n",
       "PMWindDir                        category\n",
       "ShotDateAndTime            datetime64[ns]\n",
       "PlayerName                       category\n",
       "Date_weather               datetime64[ns]\n",
       "Hour                                uint8\n",
       "Latitude                          float32\n",
       "Longitude                         float32\n",
       "Summary                          category\n",
       "DegreesFahrenheit                 float32\n",
       "Humidity                          float32\n",
       "Visibility                        float32\n",
       "WindBearing                       float32\n",
       "WindGust                          float32\n",
       "WindSpeed                         float32\n",
       "PrecipitationIntensity            float32\n",
       "PrecipitationType                category\n",
       "CourseName_weather               category\n",
       "WeatherDateAndHour         datetime64[ns]\n",
       "TimeDifference                     object\n",
       "dtype: object"
      ]
     },
     "execution_count": 5,
     "metadata": {},
     "output_type": "execute_result"
    }
   ],
   "source": [
    "d.dtypes"
   ]
  },
  {
   "cell_type": "code",
   "execution_count": 9,
   "metadata": {
    "ExecuteTime": {
     "end_time": "2018-05-16T22:31:34.431535Z",
     "start_time": "2018-05-16T22:31:34.416892Z"
    }
   },
   "outputs": [
    {
     "data": {
      "text/plain": [
       "'datetime64[ns]'"
      ]
     },
     "execution_count": 9,
     "metadata": {},
     "output_type": "execute_result"
    }
   ],
   "source": [
    "str(d['WeatherDateAndHour'].dtype)"
   ]
  },
  {
   "cell_type": "code",
   "execution_count": 12,
   "metadata": {
    "ExecuteTime": {
     "end_time": "2018-05-16T22:33:16.032255Z",
     "start_time": "2018-05-16T22:33:16.026306Z"
    }
   },
   "outputs": [
    {
     "data": {
      "text/plain": [
       "'uint8'"
      ]
     },
     "execution_count": 12,
     "metadata": {},
     "output_type": "execute_result"
    }
   ],
   "source": [
    "str(d['Shot'].dtype)"
   ]
  },
  {
   "cell_type": "code",
   "execution_count": 7,
   "metadata": {
    "ExecuteTime": {
     "end_time": "2018-05-16T22:24:35.259933Z",
     "start_time": "2018-05-16T22:24:35.181536Z"
    }
   },
   "outputs": [
    {
     "data": {
      "text/plain": [
       "0            0 days 00:20:00.000000000\n",
       "1            0 days 00:21:00.000000000\n",
       "2            0 days 00:21:00.000000000\n",
       "3            0 days 00:21:00.000000000\n",
       "4            0 days 00:22:00.000000000\n",
       "5            0 days 00:22:00.000000000\n",
       "6            0 days 00:26:00.000000000\n",
       "7            0 days 00:26:00.000000000\n",
       "8            0 days 00:26:00.000000000\n",
       "9            0 days 00:27:00.000000000\n",
       "10           0 days 00:28:00.000000000\n",
       "11           0 days 00:28:00.000000000\n",
       "12           0 days 00:30:00.000000000\n",
       "13           0 days 00:30:00.000000000\n",
       "14           0 days 00:30:00.000000000\n",
       "15         -1 days +23:31:00.000000000\n",
       "16         -1 days +23:31:00.000000000\n",
       "17         -1 days +23:31:00.000000000\n",
       "18         -1 days +23:31:00.000000000\n",
       "19         -1 days +23:31:00.000000000\n",
       "20         -1 days +23:32:00.000000000\n",
       "21         -1 days +23:32:00.000000000\n",
       "22         -1 days +23:32:00.000000000\n",
       "23         -1 days +23:32:00.000000000\n",
       "24         -1 days +23:33:00.000000000\n",
       "25         -1 days +23:33:00.000000000\n",
       "26         -1 days +23:33:00.000000000\n",
       "27         -1 days +23:34:00.000000000\n",
       "28         -1 days +23:34:00.000000000\n",
       "29         -1 days +23:34:00.000000000\n",
       "30         -1 days +23:34:00.000000000\n",
       "31         -1 days +23:35:00.000000000\n",
       "32         -1 days +23:36:00.000000000\n",
       "33         -1 days +23:36:00.000000000\n",
       "34         -1 days +23:37:00.000000000\n",
       "35         -1 days +23:37:00.000000000\n",
       "36         -1 days +23:37:00.000000000\n",
       "37         -1 days +23:37:00.000000000\n",
       "38         -1 days +23:37:00.000000000\n",
       "39         -1 days +23:38:00.000000000\n",
       "40         -1 days +23:38:00.000000000\n",
       "41         -1 days +23:38:00.000000000\n",
       "42         -1 days +23:38:00.000000000\n",
       "43         -1 days +23:39:00.000000000\n",
       "44         -1 days +23:40:00.000000000\n",
       "45         -1 days +23:40:00.000000000\n",
       "46         -1 days +23:40:00.000000000\n",
       "47         -1 days +23:41:00.000000000\n",
       "48         -1 days +23:41:00.000000000\n",
       "49         -1 days +23:41:00.000000000\n",
       "50         -1 days +23:41:00.000000000\n",
       "51         -1 days +23:41:00.000000000\n",
       "52         -1 days +23:41:00.000000000\n",
       "53         -1 days +23:42:00.000000000\n",
       "54         -1 days +23:42:00.000000000\n",
       "55         -1 days +23:42:00.000000000\n",
       "56         -1 days +23:42:00.000000000\n",
       "57         -1 days +23:42:00.000000000\n",
       "58         -1 days +23:42:00.000000000\n",
       "59         -1 days +23:42:00.000000000\n",
       "60         -1 days +23:42:00.000000000\n",
       "61         -1 days +23:43:00.000000000\n",
       "62         -1 days +23:43:00.000000000\n",
       "63         -1 days +23:43:00.000000000\n",
       "64         -1 days +23:43:00.000000000\n",
       "65         -1 days +23:43:00.000000000\n",
       "66         -1 days +23:43:00.000000000\n",
       "67         -1 days +23:44:00.000000000\n",
       "68         -1 days +23:44:00.000000000\n",
       "69         -1 days +23:44:00.000000000\n",
       "70         -1 days +23:44:00.000000000\n",
       "71         -1 days +23:45:00.000000000\n",
       "72         -1 days +23:45:00.000000000\n",
       "73         -1 days +23:45:00.000000000\n",
       "74         -1 days +23:45:00.000000000\n",
       "75         -1 days +23:45:00.000000000\n",
       "76         -1 days +23:46:00.000000000\n",
       "77         -1 days +23:46:00.000000000\n",
       "78         -1 days +23:46:00.000000000\n",
       "79         -1 days +23:46:00.000000000\n",
       "80         -1 days +23:46:00.000000000\n",
       "81         -1 days +23:46:00.000000000\n",
       "82         -1 days +23:46:00.000000000\n",
       "83         -1 days +23:47:00.000000000\n",
       "84         -1 days +23:47:00.000000000\n",
       "85         -1 days +23:47:00.000000000\n",
       "86         -1 days +23:48:00.000000000\n",
       "87         -1 days +23:48:00.000000000\n",
       "88         -1 days +23:48:00.000000000\n",
       "89         -1 days +23:48:00.000000000\n",
       "90         -1 days +23:48:00.000000000\n",
       "91         -1 days +23:48:00.000000000\n",
       "92         -1 days +23:49:00.000000000\n",
       "93         -1 days +23:49:00.000000000\n",
       "94         -1 days +23:49:00.000000000\n",
       "95         -1 days +23:49:00.000000000\n",
       "96         -1 days +23:50:00.000000000\n",
       "97         -1 days +23:50:00.000000000\n",
       "98         -1 days +23:50:00.000000000\n",
       "99         -1 days +23:50:00.000000000\n",
       "                      ...             \n",
       "1141866    -1 days +23:50:00.000000000\n",
       "1141867    -1 days +23:50:00.000000000\n",
       "1141868    -1 days +23:51:00.000000000\n",
       "1141869    -1 days +23:51:00.000000000\n",
       "1141870    -1 days +23:51:00.000000000\n",
       "1141871    -1 days +23:52:00.000000000\n",
       "1141872    -1 days +23:52:00.000000000\n",
       "1141873    -1 days +23:52:00.000000000\n",
       "1141874    -1 days +23:53:00.000000000\n",
       "1141875    -1 days +23:54:00.000000000\n",
       "1141876    -1 days +23:54:00.000000000\n",
       "1141877    -1 days +23:55:00.000000000\n",
       "1141878    -1 days +23:55:00.000000000\n",
       "1141879    -1 days +23:55:00.000000000\n",
       "1141880    -1 days +23:55:00.000000000\n",
       "1141881    -1 days +23:56:00.000000000\n",
       "1141882    -1 days +23:56:00.000000000\n",
       "1141883    -1 days +23:56:00.000000000\n",
       "1141884    -1 days +23:57:00.000000000\n",
       "1141885    -1 days +23:57:00.000000000\n",
       "1141886    -1 days +23:57:00.000000000\n",
       "1141887    -1 days +23:57:00.000000000\n",
       "1141888    -1 days +23:58:00.000000000\n",
       "1141889    -1 days +23:58:00.000000000\n",
       "1141890    -1 days +23:59:00.000000000\n",
       "1141891      0 days 00:00:00.000000000\n",
       "1141892      0 days 00:00:00.000000000\n",
       "1141893      0 days 00:01:00.000000000\n",
       "1141894      0 days 00:01:00.000000000\n",
       "1141895      0 days 00:02:00.000000000\n",
       "1141896      0 days 00:03:00.000000000\n",
       "1141897      0 days 00:03:00.000000000\n",
       "1141898      0 days 00:03:00.000000000\n",
       "1141899      0 days 00:03:00.000000000\n",
       "1141900      0 days 00:04:00.000000000\n",
       "1141901      0 days 00:04:00.000000000\n",
       "1141902      0 days 00:04:00.000000000\n",
       "1141903      0 days 00:05:00.000000000\n",
       "1141904      0 days 00:05:00.000000000\n",
       "1141905      0 days 00:05:00.000000000\n",
       "1141906      0 days 00:05:00.000000000\n",
       "1141907      0 days 00:06:00.000000000\n",
       "1141908      0 days 00:07:00.000000000\n",
       "1141909      0 days 00:07:00.000000000\n",
       "1141910      0 days 00:07:00.000000000\n",
       "1141911      0 days 00:09:00.000000000\n",
       "1141912      0 days 00:09:00.000000000\n",
       "1141913      0 days 00:10:00.000000000\n",
       "1141914      0 days 00:10:00.000000000\n",
       "1141915      0 days 00:10:00.000000000\n",
       "1141916      0 days 00:10:00.000000000\n",
       "1141917      0 days 00:10:00.000000000\n",
       "1141918      0 days 00:10:00.000000000\n",
       "1141919      0 days 00:11:00.000000000\n",
       "1141920      0 days 00:12:00.000000000\n",
       "1141921      0 days 00:13:00.000000000\n",
       "1141922      0 days 00:14:00.000000000\n",
       "1141923      0 days 00:14:00.000000000\n",
       "1141924      0 days 00:14:00.000000000\n",
       "1141925      0 days 00:15:00.000000000\n",
       "1141926      0 days 00:15:00.000000000\n",
       "1141927      0 days 00:16:00.000000000\n",
       "1141928      0 days 00:16:00.000000000\n",
       "1141929      0 days 00:18:00.000000000\n",
       "1141930      0 days 00:18:00.000000000\n",
       "1141931      0 days 00:19:00.000000000\n",
       "1141932      0 days 00:19:00.000000000\n",
       "1141933      0 days 00:20:00.000000000\n",
       "1141934      0 days 00:20:00.000000000\n",
       "1141935      0 days 00:21:00.000000000\n",
       "1141936      0 days 00:21:00.000000000\n",
       "1141937      0 days 00:21:00.000000000\n",
       "1141938      0 days 00:22:00.000000000\n",
       "1141939      0 days 00:22:00.000000000\n",
       "1141940      0 days 00:23:00.000000000\n",
       "1141941      0 days 00:24:00.000000000\n",
       "1141942      0 days 00:24:00.000000000\n",
       "1141943      0 days 00:24:00.000000000\n",
       "1141944      0 days 00:27:00.000000000\n",
       "1141945      0 days 00:28:00.000000000\n",
       "1141946      0 days 00:29:00.000000000\n",
       "1141947      0 days 00:29:00.000000000\n",
       "1141948      0 days 00:29:00.000000000\n",
       "1141949      0 days 00:30:00.000000000\n",
       "1141950      0 days 00:30:00.000000000\n",
       "1141951    -1 days +23:32:00.000000000\n",
       "1141952    -1 days +23:33:00.000000000\n",
       "1141953    -1 days +23:33:00.000000000\n",
       "1141954    -1 days +23:34:00.000000000\n",
       "1141955    -1 days +23:37:00.000000000\n",
       "1141956    -1 days +23:38:00.000000000\n",
       "1141957    -1 days +23:38:00.000000000\n",
       "1141958    -1 days +23:39:00.000000000\n",
       "1141959    -1 days +23:40:00.000000000\n",
       "1141960    -1 days +23:41:00.000000000\n",
       "1141961    -1 days +23:44:00.000000000\n",
       "1141962    -1 days +23:46:00.000000000\n",
       "1141963    -1 days +23:46:00.000000000\n",
       "1141964    -1 days +23:47:00.000000000\n",
       "1141965    -1 days +23:48:00.000000000\n",
       "Name: TimeDifference, Length: 1141966, dtype: object"
      ]
     },
     "execution_count": 7,
     "metadata": {},
     "output_type": "execute_result"
    }
   ],
   "source": [
    "d['TimeDifference']"
   ]
  },
  {
   "cell_type": "code",
   "execution_count": null,
   "metadata": {},
   "outputs": [],
   "source": []
  },
  {
   "cell_type": "code",
   "execution_count": 20,
   "metadata": {
    "ExecuteTime": {
     "end_time": "2018-05-16T21:14:37.791260Z",
     "start_time": "2018-05-16T21:14:37.717296Z"
    }
   },
   "outputs": [
    {
     "data": {
      "text/plain": [
       "(0, 2055)"
      ]
     },
     "execution_count": 20,
     "metadata": {},
     "output_type": "execute_result"
    }
   ],
   "source": [
    "d['Time'].min(), d['Time'].max()"
   ]
  },
  {
   "cell_type": "code",
   "execution_count": 21,
   "metadata": {
    "ExecuteTime": {
     "end_time": "2018-05-16T21:14:37.875874Z",
     "start_time": "2018-05-16T21:14:37.798272Z"
    }
   },
   "outputs": [
    {
     "data": {
      "text/plain": [
       "array([2012, 2013, 2014, 2015, 2016], dtype=uint64)"
      ]
     },
     "execution_count": 21,
     "metadata": {},
     "output_type": "execute_result"
    }
   ],
   "source": [
    "d['Year'].unique()"
   ]
  },
  {
   "cell_type": "code",
   "execution_count": 22,
   "metadata": {
    "ExecuteTime": {
     "end_time": "2018-05-16T21:14:37.955938Z",
     "start_time": "2018-05-16T21:14:37.878243Z"
    }
   },
   "outputs": [
    {
     "data": {
      "text/html": [
       "<div>\n",
       "<style scoped>\n",
       "    .dataframe tbody tr th:only-of-type {\n",
       "        vertical-align: middle;\n",
       "    }\n",
       "\n",
       "    .dataframe tbody tr th {\n",
       "        vertical-align: top;\n",
       "    }\n",
       "\n",
       "    .dataframe thead th {\n",
       "        text-align: right;\n",
       "    }\n",
       "</style>\n",
       "<table border=\"1\" class=\"dataframe\">\n",
       "  <thead>\n",
       "    <tr style=\"text-align: right;\">\n",
       "      <th></th>\n",
       "      <th>TourCode</th>\n",
       "      <th>TourDescription</th>\n",
       "      <th>Year</th>\n",
       "      <th>TournamentNum</th>\n",
       "      <th>PlayerNum</th>\n",
       "      <th>CourseNum</th>\n",
       "      <th>PermanentTournamentNum</th>\n",
       "      <th>PlayerFirstName</th>\n",
       "      <th>PlayerLastName</th>\n",
       "      <th>Round</th>\n",
       "      <th>...</th>\n",
       "      <th>Humidity</th>\n",
       "      <th>Visibility</th>\n",
       "      <th>WindBearing</th>\n",
       "      <th>WindGust</th>\n",
       "      <th>WindSpeed</th>\n",
       "      <th>PrecipitationIntensity</th>\n",
       "      <th>PrecipitationType</th>\n",
       "      <th>CourseName_weather</th>\n",
       "      <th>WeatherDateAndHour</th>\n",
       "      <th>TimeDifference</th>\n",
       "    </tr>\n",
       "  </thead>\n",
       "  <tbody>\n",
       "    <tr>\n",
       "      <th>0</th>\n",
       "      <td>R</td>\n",
       "      <td>PGA TOUR</td>\n",
       "      <td>2012</td>\n",
       "      <td>10</td>\n",
       "      <td>23800</td>\n",
       "      <td>656</td>\n",
       "      <td>16</td>\n",
       "      <td>Bryce</td>\n",
       "      <td>Molder</td>\n",
       "      <td>1</td>\n",
       "      <td>...</td>\n",
       "      <td>0.54</td>\n",
       "      <td>10.0</td>\n",
       "      <td>41.0</td>\n",
       "      <td>NaN</td>\n",
       "      <td>9.41</td>\n",
       "      <td>0.0</td>\n",
       "      <td>NaN</td>\n",
       "      <td>Plantation Course at Kapalua</td>\n",
       "      <td>2012-01-06 11:00:00</td>\n",
       "      <td>-1 days +23:35:00.000000000</td>\n",
       "    </tr>\n",
       "    <tr>\n",
       "      <th>1</th>\n",
       "      <td>R</td>\n",
       "      <td>PGA TOUR</td>\n",
       "      <td>2012</td>\n",
       "      <td>10</td>\n",
       "      <td>1116</td>\n",
       "      <td>656</td>\n",
       "      <td>16</td>\n",
       "      <td>Michael</td>\n",
       "      <td>Bradley</td>\n",
       "      <td>1</td>\n",
       "      <td>...</td>\n",
       "      <td>0.54</td>\n",
       "      <td>10.0</td>\n",
       "      <td>41.0</td>\n",
       "      <td>NaN</td>\n",
       "      <td>9.41</td>\n",
       "      <td>0.0</td>\n",
       "      <td>NaN</td>\n",
       "      <td>Plantation Course at Kapalua</td>\n",
       "      <td>2012-01-06 11:00:00</td>\n",
       "      <td>-1 days +23:36:00.000000000</td>\n",
       "    </tr>\n",
       "    <tr>\n",
       "      <th>2</th>\n",
       "      <td>R</td>\n",
       "      <td>PGA TOUR</td>\n",
       "      <td>2012</td>\n",
       "      <td>10</td>\n",
       "      <td>23800</td>\n",
       "      <td>656</td>\n",
       "      <td>16</td>\n",
       "      <td>Bryce</td>\n",
       "      <td>Molder</td>\n",
       "      <td>1</td>\n",
       "      <td>...</td>\n",
       "      <td>0.54</td>\n",
       "      <td>10.0</td>\n",
       "      <td>41.0</td>\n",
       "      <td>NaN</td>\n",
       "      <td>9.41</td>\n",
       "      <td>0.0</td>\n",
       "      <td>NaN</td>\n",
       "      <td>Plantation Course at Kapalua</td>\n",
       "      <td>2012-01-06 11:00:00</td>\n",
       "      <td>-1 days +23:41:00.000000000</td>\n",
       "    </tr>\n",
       "  </tbody>\n",
       "</table>\n",
       "<p>3 rows × 65 columns</p>\n",
       "</div>"
      ],
      "text/plain": [
       "  TourCode TourDescription  Year  TournamentNum  PlayerNum  CourseNum  \\\n",
       "0        R        PGA TOUR  2012             10      23800        656   \n",
       "1        R        PGA TOUR  2012             10       1116        656   \n",
       "2        R        PGA TOUR  2012             10      23800        656   \n",
       "\n",
       "   PermanentTournamentNum PlayerFirstName PlayerLastName  Round  \\\n",
       "0                      16           Bryce         Molder      1   \n",
       "1                      16         Michael        Bradley      1   \n",
       "2                      16           Bryce         Molder      1   \n",
       "\n",
       "              ...              Humidity Visibility  WindBearing  WindGust  \\\n",
       "0             ...                  0.54       10.0         41.0       NaN   \n",
       "1             ...                  0.54       10.0         41.0       NaN   \n",
       "2             ...                  0.54       10.0         41.0       NaN   \n",
       "\n",
       "   WindSpeed  PrecipitationIntensity  PrecipitationType  \\\n",
       "0       9.41                     0.0                NaN   \n",
       "1       9.41                     0.0                NaN   \n",
       "2       9.41                     0.0                NaN   \n",
       "\n",
       "             CourseName_weather   WeatherDateAndHour  \\\n",
       "0  Plantation Course at Kapalua  2012-01-06 11:00:00   \n",
       "1  Plantation Course at Kapalua  2012-01-06 11:00:00   \n",
       "2  Plantation Course at Kapalua  2012-01-06 11:00:00   \n",
       "\n",
       "                TimeDifference  \n",
       "0  -1 days +23:35:00.000000000  \n",
       "1  -1 days +23:36:00.000000000  \n",
       "2  -1 days +23:41:00.000000000  \n",
       "\n",
       "[3 rows x 65 columns]"
      ]
     },
     "execution_count": 22,
     "metadata": {},
     "output_type": "execute_result"
    }
   ],
   "source": [
    "d[:3]"
   ]
  },
  {
   "cell_type": "code",
   "execution_count": 24,
   "metadata": {
    "ExecuteTime": {
     "end_time": "2018-05-16T21:22:37.791814Z",
     "start_time": "2018-05-16T21:22:37.710041Z"
    },
    "scrolled": false
   },
   "outputs": [
    {
     "data": {
      "text/plain": [
       "TourCode                                           R\n",
       "TourDescription                             PGA TOUR\n",
       "Year                                            2012\n",
       "TournamentNum                                    180\n",
       "PlayerNum                                      29479\n",
       "CourseNum                                        770\n",
       "PermanentTournamentNum                            41\n",
       "PlayerFirstName                                Scott\n",
       "PlayerLastName                                 Brown\n",
       "Round                                              2\n",
       "TournamentName                     Valero Texas Open\n",
       "CourseName_shots                     TPC San Antonio\n",
       "Hole                                               9\n",
       "HoleScore                                          6\n",
       "ParValue                                           4\n",
       "Yardage                                          474\n",
       "Shot                                               4\n",
       "ShotType                                           S\n",
       "NumStrokes                                         1\n",
       "FromLocationScorer                       Native Area\n",
       "FromLocationEnhanced                        Unmapped\n",
       "ToLocationScorer                  Intermediate Rough\n",
       "ToLocationEnhanced                Right Intermediate\n",
       "Distance                                        5479\n",
       "DistanceToPin                                   8814\n",
       "InTheHoleFlag                                      N\n",
       "AroundTheGreenFlag                                 N\n",
       "FirstPuttFlag                                    NaN\n",
       "DistanceToHoleAfterShot                         3343\n",
       "Time                                             821\n",
       "Lie                                              NaN\n",
       "Elevation                                       With\n",
       "Slope                                          Level\n",
       "XCoordinate                              12,168.4250\n",
       "YCoordinate                              10,415.5470\n",
       "ZCoordinate                               1,022.6170\n",
       "DistanceFromCenter                               355\n",
       "DistanceFromEdge                                  32\n",
       "Date_shots                                2012-04-21\n",
       "LeftRight                                          R\n",
       "StrokesGainedBaseline                         -0.023\n",
       "StrokesGainedCategory          Approach to the Green\n",
       "RecoveryShot                                      No\n",
       "AMWindSpd                                       Calm\n",
       "PMWindSpd                                     25 mph\n",
       "AMWindDir                                          C\n",
       "PMWindDir                                         IW\n",
       "ShotDateAndTime                  2012-04-21 08:21:00\n",
       "PlayerName                               Scott Brown\n",
       "Date_weather                              2012-04-21\n",
       "Hour                                               8\n",
       "Latitude                                     29.6666\n",
       "Longitude                                   -98.4007\n",
       "Summary                                        Clear\n",
       "DegreesFahrenheit                              53.52\n",
       "Humidity                                        0.69\n",
       "Visibility                                        10\n",
       "WindBearing                                      335\n",
       "WindGust                                         NaN\n",
       "WindSpeed                                       8.51\n",
       "PrecipitationIntensity                             0\n",
       "PrecipitationType                                NaN\n",
       "CourseName_weather                   TPC San Antonio\n",
       "WeatherDateAndHour               2012-04-21 08:00:00\n",
       "TimeDifference             0 days 00:21:00.000000000\n",
       "Name: 432843, dtype: object"
      ]
     },
     "execution_count": 24,
     "metadata": {},
     "output_type": "execute_result"
    }
   ],
   "source": [
    "index = 432843\n",
    "d.iloc[index]"
   ]
  },
  {
   "cell_type": "code",
   "execution_count": 43,
   "metadata": {
    "ExecuteTime": {
     "end_time": "2018-05-16T22:13:01.352651Z",
     "start_time": "2018-05-16T22:13:01.216963Z"
    }
   },
   "outputs": [
    {
     "data": {
      "text/plain": [
       "6.15     15488\n",
       "4.51     14184\n",
       "5.39     13449\n",
       "3.95     11706\n",
       "7.20     11276\n",
       "6.40     11163\n",
       "5.70     10972\n",
       "5.26     10867\n",
       "5.21     10817\n",
       "6.48     10778\n",
       "4.53     10712\n",
       "4.70     10666\n",
       "6.51     10548\n",
       "4.49     10211\n",
       "4.54     10186\n",
       "5.86     10173\n",
       "4.77     10147\n",
       "4.78     10092\n",
       "6.00     10080\n",
       "7.71     10063\n",
       "7.10      9988\n",
       "7.76      9930\n",
       "6.07      9918\n",
       "7.89      9758\n",
       "4.35      9650\n",
       "7.25      9519\n",
       "4.84      9497\n",
       "4.36      9481\n",
       "7.42      9264\n",
       "7.41      9247\n",
       "4.30      9233\n",
       "8.30      9176\n",
       "5.87      8984\n",
       "6.80      8971\n",
       "5.61      8956\n",
       "4.96      8871\n",
       "3.12      8850\n",
       "6.89      8842\n",
       "5.25      8818\n",
       "7.33      8792\n",
       "7.19      8722\n",
       "8.38      8720\n",
       "4.72      8710\n",
       "4.50      8704\n",
       "7.84      8693\n",
       "5.73      8681\n",
       "6.06      8668\n",
       "7.07      8667\n",
       "7.00      8615\n",
       "3.81      8609\n",
       "8.46      8562\n",
       "7.53      8545\n",
       "6.35      8507\n",
       "3.69      8378\n",
       "2.27      8347\n",
       "4.59      8286\n",
       "6.45      8280\n",
       "4.71      8202\n",
       "8.95      8181\n",
       "4.56      8177\n",
       "7.56      8151\n",
       "3.37      8141\n",
       "5.43      8119\n",
       "4.08      8052\n",
       "8.86      8031\n",
       "7.96      8022\n",
       "5.77      8005\n",
       "8.78      8003\n",
       "3.00      7998\n",
       "5.02      7988\n",
       "9.72      7981\n",
       "7.38      7979\n",
       "10.16     7945\n",
       "3.48      7942\n",
       "4.93      7901\n",
       "6.81      7890\n",
       "9.03      7887\n",
       "3.74      7881\n",
       "8.62      7879\n",
       "4.73      7872\n",
       "8.24      7827\n",
       "6.30      7824\n",
       "6.99      7804\n",
       "4.09      7798\n",
       "6.94      7788\n",
       "5.00      7774\n",
       "9.88      7763\n",
       "5.42      7748\n",
       "4.40      7739\n",
       "4.99      7728\n",
       "8.67      7726\n",
       "7.18      7658\n",
       "4.44      7655\n",
       "5.34      7616\n",
       "6.01      7610\n",
       "7.72      7608\n",
       "5.38      7575\n",
       "7.12      7565\n",
       "7.63      7559\n",
       "6.76      7558\n",
       "         ...  \n",
       "12.28      420\n",
       "13.35      420\n",
       "0.50       419\n",
       "19.82      419\n",
       "18.23      419\n",
       "14.64      413\n",
       "16.28      387\n",
       "14.79      386\n",
       "15.32      380\n",
       "15.74      377\n",
       "14.42      377\n",
       "19.03      370\n",
       "14.23      368\n",
       "13.37      357\n",
       "16.12      352\n",
       "13.07      335\n",
       "16.34      335\n",
       "17.36      326\n",
       "1.87       325\n",
       "14.66      310\n",
       "0.59       304\n",
       "10.54      298\n",
       "0.97       296\n",
       "2.64       285\n",
       "17.19      278\n",
       "20.35      276\n",
       "12.77      270\n",
       "13.19      267\n",
       "11.99      267\n",
       "18.17      251\n",
       "17.75      246\n",
       "1.06       241\n",
       "15.60      240\n",
       "14.12      222\n",
       "15.93      217\n",
       "18.90      214\n",
       "0.31       213\n",
       "0.26       210\n",
       "18.55      209\n",
       "19.75      203\n",
       "17.90      200\n",
       "13.52      195\n",
       "15.19      193\n",
       "15.65      191\n",
       "9.20       190\n",
       "0.49       189\n",
       "16.58      175\n",
       "16.82      174\n",
       "10.64      173\n",
       "12.91      173\n",
       "0.85       170\n",
       "1.72       163\n",
       "12.62      155\n",
       "15.47      155\n",
       "12.37      150\n",
       "17.80      145\n",
       "14.01      144\n",
       "12.38      141\n",
       "15.67      139\n",
       "13.40      136\n",
       "11.73      134\n",
       "9.85       126\n",
       "18.36      108\n",
       "9.96       106\n",
       "21.91       96\n",
       "0.37        95\n",
       "13.45       95\n",
       "19.89       90\n",
       "17.41       85\n",
       "19.28       79\n",
       "0.96        79\n",
       "9.65        76\n",
       "20.09       73\n",
       "19.25       71\n",
       "15.48       70\n",
       "1.41        66\n",
       "11.75       61\n",
       "0.92        59\n",
       "18.79       52\n",
       "10.96       50\n",
       "13.05       49\n",
       "15.22       49\n",
       "11.94       47\n",
       "16.79       45\n",
       "16.39       43\n",
       "12.97       42\n",
       "17.53       37\n",
       "1.14        22\n",
       "0.41        20\n",
       "15.34       18\n",
       "0.00        14\n",
       "18.09       13\n",
       "15.83       11\n",
       "17.18       10\n",
       "21.11        8\n",
       "1.55         7\n",
       "0.44         4\n",
       "1.27         1\n",
       "17.54        1\n",
       "10.88        1\n",
       "Name: WindSpeed, Length: 1685, dtype: int64"
      ]
     },
     "execution_count": 43,
     "metadata": {},
     "output_type": "execute_result"
    }
   ],
   "source": [
    "d['WindSpeed'].value_counts()"
   ]
  },
  {
   "cell_type": "code",
   "execution_count": 30,
   "metadata": {
    "ExecuteTime": {
     "end_time": "2018-05-16T21:53:11.785557Z",
     "start_time": "2018-05-16T21:53:11.771789Z"
    }
   },
   "outputs": [
    {
     "data": {
      "text/plain": [
       "TourCode                   category\n",
       "TourDescription            category\n",
       "Year                         uint16\n",
       "TournamentNum                uint16\n",
       "PlayerNum                    uint16\n",
       "CourseNum                    uint16\n",
       "PermanentTournamentNum       uint16\n",
       "PlayerFirstName            category\n",
       "PlayerLastName             category\n",
       "Round                         uint8\n",
       "TournamentName             category\n",
       "CourseName_shots             object\n",
       "Hole                          uint8\n",
       "HoleScore                   float32\n",
       "ParValue                      uint8\n",
       "Yardage                      uint16\n",
       "Shot                          uint8\n",
       "ShotType                   category\n",
       "NumStrokes                    uint8\n",
       "FromLocationScorer         category\n",
       "FromLocationEnhanced         object\n",
       "ToLocationScorer           category\n",
       "ToLocationEnhanced         category\n",
       "Distance                     uint16\n",
       "DistanceToPin                uint16\n",
       "InTheHoleFlag              category\n",
       "AroundTheGreenFlag         category\n",
       "FirstPuttFlag              category\n",
       "DistanceToHoleAfterShot      uint16\n",
       "Time                         uint16\n",
       "Lie                        category\n",
       "Elevation                  category\n",
       "Slope                      category\n",
       "XCoordinate                  object\n",
       "YCoordinate                  object\n",
       "ZCoordinate                  object\n",
       "DistanceFromCenter           uint16\n",
       "DistanceFromEdge             uint16\n",
       "Date_shots                   object\n",
       "LeftRight                  category\n",
       "StrokesGainedBaseline       float32\n",
       "StrokesGainedCategory      category\n",
       "RecoveryShot               category\n",
       "AMWindSpd                    object\n",
       "PMWindSpd                    object\n",
       "AMWindDir                    object\n",
       "PMWindDir                    object\n",
       "ShotDateAndTime              object\n",
       "PlayerName                   object\n",
       "Date_weather                 object\n",
       "Hour                          int64\n",
       "Latitude                    float64\n",
       "Longitude                   float64\n",
       "Summary                      object\n",
       "DegreesFahrenheit           float64\n",
       "Humidity                    float64\n",
       "Visibility                  float64\n",
       "WindBearing                 float64\n",
       "WindGust                    float64\n",
       "WindSpeed                   float64\n",
       "PrecipitationIntensity      float64\n",
       "PrecipitationType            object\n",
       "CourseName_weather           object\n",
       "WeatherDateAndHour           object\n",
       "TimeDifference               object\n",
       "dtype: object"
      ]
     },
     "execution_count": 30,
     "metadata": {},
     "output_type": "execute_result"
    }
   ],
   "source": [
    "d.dtypes"
   ]
  },
  {
   "cell_type": "code",
   "execution_count": 35,
   "metadata": {
    "ExecuteTime": {
     "end_time": "2018-05-16T22:05:39.996096Z",
     "start_time": "2018-05-16T22:05:39.975088Z"
    }
   },
   "outputs": [
    {
     "data": {
      "text/plain": [
       "Index(['TourCode', 'TourDescription', 'Year', 'TournamentNum', 'PlayerNum',\n",
       "       'CourseNum', 'PermanentTournamentNum', 'PlayerFirstName',\n",
       "       'PlayerLastName', 'Round', 'TournamentName', 'CourseName_shots', 'Hole',\n",
       "       'HoleScore', 'ParValue', 'Yardage', 'Shot', 'ShotType', 'NumStrokes',\n",
       "       'FromLocationScorer', 'FromLocationEnhanced', 'ToLocationScorer',\n",
       "       'ToLocationEnhanced', 'Distance', 'DistanceToPin', 'InTheHoleFlag',\n",
       "       'AroundTheGreenFlag', 'FirstPuttFlag', 'DistanceToHoleAfterShot',\n",
       "       'Time', 'Lie', 'Elevation', 'Slope', 'XCoordinate', 'YCoordinate',\n",
       "       'ZCoordinate', 'DistanceFromCenter', 'DistanceFromEdge', 'Date_shots',\n",
       "       'LeftRight', 'StrokesGainedBaseline', 'StrokesGainedCategory',\n",
       "       'RecoveryShot', 'AMWindSpd', 'PMWindSpd', 'AMWindDir', 'PMWindDir',\n",
       "       'ShotDateAndTime', 'PlayerName', 'Date_weather', 'Hour', 'Latitude',\n",
       "       'Longitude', 'Summary', 'DegreesFahrenheit', 'Humidity', 'Visibility',\n",
       "       'WindBearing', 'WindGust', 'WindSpeed', 'PrecipitationIntensity',\n",
       "       'PrecipitationType', 'CourseName_weather', 'WeatherDateAndHour',\n",
       "       'TimeDifference'],\n",
       "      dtype='object')"
      ]
     },
     "execution_count": 35,
     "metadata": {},
     "output_type": "execute_result"
    }
   ],
   "source": [
    "d.columns"
   ]
  },
  {
   "cell_type": "code",
   "execution_count": 34,
   "metadata": {
    "ExecuteTime": {
     "end_time": "2018-05-16T22:04:04.664842Z",
     "start_time": "2018-05-16T22:04:04.634624Z"
    }
   },
   "outputs": [
    {
     "data": {
      "text/plain": [
       "OrderedDict([('TourCode', 'category'),\n",
       "             ('TourDescription', 'category'),\n",
       "             ('Year', numpy.uint16),\n",
       "             ('TournamentNum', numpy.uint16),\n",
       "             ('PlayerNum', numpy.uint16),\n",
       "             ('CourseNum', numpy.uint16),\n",
       "             ('PermanentTournamentNum', numpy.uint16),\n",
       "             ('PlayerFirstName', 'category'),\n",
       "             ('PlayerLastName', 'category'),\n",
       "             ('Round', numpy.uint8),\n",
       "             ('TournamentName', 'category'),\n",
       "             ('CourseName', 'category'),\n",
       "             ('Hole', numpy.uint8),\n",
       "             ('HoleScore', numpy.float32),\n",
       "             ('ParValue', numpy.uint8),\n",
       "             ('Yardage', numpy.uint16),\n",
       "             ('Shot', numpy.uint8),\n",
       "             ('ShotType', 'category'),\n",
       "             ('NumStrokes', numpy.uint8),\n",
       "             ('FromLocationScorer', 'category'),\n",
       "             ('FromLocationEnhanced', object),\n",
       "             ('ToLocationScorer', 'category'),\n",
       "             ('ToLocationEnhanced', 'category'),\n",
       "             ('Distance', numpy.uint16),\n",
       "             ('DistanceToPin', numpy.uint16),\n",
       "             ('InTheHoleFlag', 'category'),\n",
       "             ('AroundTheGreenFlag', 'category'),\n",
       "             ('FirstPuttFlag', 'category'),\n",
       "             ('DistanceToHoleAfterShot', numpy.uint16),\n",
       "             ('Time', numpy.uint16),\n",
       "             ('Lie', 'category'),\n",
       "             ('Elevation', 'category'),\n",
       "             ('Slope', 'category'),\n",
       "             ('XCoordinate', object),\n",
       "             ('YCoordinate', object),\n",
       "             ('ZCoordinate', object),\n",
       "             ('DistanceFromCenter', numpy.uint16),\n",
       "             ('DistanceFromEdge', numpy.uint16),\n",
       "             ('Date', object),\n",
       "             ('LeftRight', 'category'),\n",
       "             ('StrokesGainedBaseline', numpy.float32),\n",
       "             ('StrokesGainedCategory', 'category'),\n",
       "             ('RecoveryShot', 'category'),\n",
       "             ('foo', 'bar'),\n",
       "             ('sky', 'baz')])"
      ]
     },
     "execution_count": 34,
     "metadata": {},
     "output_type": "execute_result"
    }
   ],
   "source": [
    "combined_dtypes = shotlink.shot_dtypes.copy()\n",
    "combined_dtypes.update({'foo':'bar', 'sky':'baz'})\n",
    "combined_dtypes"
   ]
  },
  {
   "cell_type": "code",
   "execution_count": null,
   "metadata": {},
   "outputs": [],
   "source": []
  },
  {
   "cell_type": "code",
   "execution_count": null,
   "metadata": {},
   "outputs": [],
   "source": []
  },
  {
   "cell_type": "code",
   "execution_count": null,
   "metadata": {},
   "outputs": [],
   "source": []
  },
  {
   "cell_type": "code",
   "execution_count": 25,
   "metadata": {
    "ExecuteTime": {
     "end_time": "2018-05-16T21:22:40.327382Z",
     "start_time": "2018-05-16T21:22:40.280487Z"
    }
   },
   "outputs": [
    {
     "data": {
      "text/plain": [
       "Timestamp('2012-04-21 08:00:00')"
      ]
     },
     "execution_count": 25,
     "metadata": {},
     "output_type": "execute_result"
    }
   ],
   "source": [
    "pd.to_datetime(d.iloc[index]['WeatherDateAndHour'])"
   ]
  },
  {
   "cell_type": "code",
   "execution_count": 26,
   "metadata": {
    "ExecuteTime": {
     "end_time": "2018-05-16T21:22:41.110852Z",
     "start_time": "2018-05-16T21:22:41.085742Z"
    }
   },
   "outputs": [
    {
     "data": {
      "text/plain": [
       "1325876400.0"
      ]
     },
     "execution_count": 26,
     "metadata": {},
     "output_type": "execute_result"
    }
   ],
   "source": [
    "pd.to_datetime('2012-01-06 11:00:00 PDT').timestamp()"
   ]
  },
  {
   "cell_type": "code",
   "execution_count": 27,
   "metadata": {
    "ExecuteTime": {
     "end_time": "2018-05-16T21:22:41.978399Z",
     "start_time": "2018-05-16T21:22:41.971935Z"
    }
   },
   "outputs": [
    {
     "data": {
      "text/plain": [
       "'2012-01-06 11:00:00'"
      ]
     },
     "execution_count": 27,
     "metadata": {},
     "output_type": "execute_result"
    }
   ],
   "source": [
    "time.strftime('%Y-%m-%d %H:%M:%S', time.localtime(1325847600 + 28800))"
   ]
  },
  {
   "cell_type": "code",
   "execution_count": 42,
   "metadata": {
    "ExecuteTime": {
     "end_time": "2018-05-16T01:45:26.926259Z",
     "start_time": "2018-05-16T01:45:26.921730Z"
    }
   },
   "outputs": [
    {
     "data": {
      "text/plain": [
       "28800"
      ]
     },
     "execution_count": 42,
     "metadata": {},
     "output_type": "execute_result"
    }
   ],
   "source": [
    "60*8*60"
   ]
  },
  {
   "cell_type": "code",
   "execution_count": 44,
   "metadata": {
    "ExecuteTime": {
     "end_time": "2018-05-16T01:45:44.961149Z",
     "start_time": "2018-05-16T01:45:44.954604Z"
    }
   },
   "outputs": [
    {
     "data": {
      "text/plain": [
       "1325876400"
      ]
     },
     "execution_count": 44,
     "metadata": {},
     "output_type": "execute_result"
    }
   ],
   "source": [
    "1325847600 + 28800"
   ]
  },
  {
   "cell_type": "code",
   "execution_count": null,
   "metadata": {},
   "outputs": [],
   "source": []
  },
  {
   "cell_type": "code",
   "execution_count": 2,
   "metadata": {
    "ExecuteTime": {
     "end_time": "2018-05-13T20:05:28.500303Z",
     "start_time": "2018-05-13T20:02:11.914116Z"
    }
   },
   "outputs": [
    {
     "name": "stderr",
     "output_type": "stream",
     "text": [
      "/Users/andrewenfield/miniconda3/envs/anaconda/lib/python3.6/site-packages/IPython/core/interactiveshell.py:2728: DtypeWarning: Columns (20,21,22,27,33,34,35,39,41,43,44,45,46,60) have mixed types. Specify dtype option on import or set low_memory=False.\n",
      "  interactivity=interactivity, compiler=compiler, result=result)\n"
     ]
    },
    {
     "data": {
      "text/plain": [
       "(11365769, 64)"
      ]
     },
     "execution_count": 2,
     "metadata": {},
     "output_type": "execute_result"
    }
   ],
   "source": [
    "d = pd.read_csv('../../pygolfdata/data/combined_shots_and_weather_2008-2017.csv')\n",
    "d.shape"
   ]
  },
  {
   "cell_type": "code",
   "execution_count": 4,
   "metadata": {
    "ExecuteTime": {
     "end_time": "2018-05-13T20:08:34.091185Z",
     "start_time": "2018-05-13T20:07:52.085039Z"
    }
   },
   "outputs": [
    {
     "data": {
      "text/plain": [
       "'26329.10 MB'"
      ]
     },
     "execution_count": 4,
     "metadata": {},
     "output_type": "execute_result"
    }
   ],
   "source": [
    "mem_usage(d)"
   ]
  },
  {
   "cell_type": "code",
   "execution_count": 5,
   "metadata": {
    "ExecuteTime": {
     "end_time": "2018-05-13T20:08:34.123056Z",
     "start_time": "2018-05-13T20:08:34.097575Z"
    }
   },
   "outputs": [
    {
     "data": {
      "text/plain": [
       "TourCode                    object\n",
       "TourDescription             object\n",
       "Year                         int64\n",
       "TournamentNum                int64\n",
       "PlayerNum                    int64\n",
       "CourseNum                    int64\n",
       "PermanentTournamentNum       int64\n",
       "PlayerFirstName             object\n",
       "PlayerLastName              object\n",
       "Round                        int64\n",
       "TournamentName              object\n",
       "CourseName_shots            object\n",
       "Hole                         int64\n",
       "HoleScore                  float64\n",
       "ParValue                     int64\n",
       "Yardage                      int64\n",
       "Shot                         int64\n",
       "ShotType                    object\n",
       "NumStrokes                   int64\n",
       "FromLocationScorer          object\n",
       "FromLocationEnhanced        object\n",
       "ToLocationScorer            object\n",
       "ToLocationEnhanced          object\n",
       "Distance                     int64\n",
       "DistanceToPin                int64\n",
       "InTheHoleFlag               object\n",
       "AroundTheGreenFlag          object\n",
       "FirstPuttFlag               object\n",
       "DistanceToHoleAfterShot      int64\n",
       "Time                         int64\n",
       "                            ...   \n",
       "YCoordinate                 object\n",
       "ZCoordinate                 object\n",
       "DistanceFromCenter           int64\n",
       "DistanceFromEdge             int64\n",
       "Date_shots                  object\n",
       "LeftRight                   object\n",
       "StrokesGainedBaseline      float64\n",
       "StrokesGainedCategory       object\n",
       "RecoveryShot                object\n",
       "AMWindSpd                   object\n",
       "PMWindSpd                   object\n",
       "AMWindDir                   object\n",
       "PMWindDir                   object\n",
       "ShotDateAndTime             object\n",
       "Date_weather                object\n",
       "Hour                         int64\n",
       "Latitude                   float64\n",
       "Longitude                  float64\n",
       "Summary                     object\n",
       "DegreesFahrenheit          float64\n",
       "Humidity                   float64\n",
       "Visibility                 float64\n",
       "WindBearing                float64\n",
       "WindGust                   float64\n",
       "WindSpeed                  float64\n",
       "PrecipitationIntensity     float64\n",
       "PrecipitationType           object\n",
       "CourseName_weather          object\n",
       "WeatherDateAndHour          object\n",
       "TimeDifference              object\n",
       "Length: 64, dtype: object"
      ]
     },
     "execution_count": 5,
     "metadata": {},
     "output_type": "execute_result"
    }
   ],
   "source": [
    "d.dtypes"
   ]
  },
  {
   "cell_type": "code",
   "execution_count": 1,
   "metadata": {
    "ExecuteTime": {
     "end_time": "2018-05-14T01:53:43.453382Z",
     "start_time": "2018-05-14T01:53:43.320736Z"
    }
   },
   "outputs": [
    {
     "ename": "NameError",
     "evalue": "name 'd' is not defined",
     "output_type": "error",
     "traceback": [
      "\u001b[0;31m----------------------------------------------------------------\u001b[0m",
      "\u001b[0;31mNameError\u001b[0m                      Traceback (most recent call last)",
      "\u001b[0;32m<ipython-input-1-72cf7ee63d2d>\u001b[0m in \u001b[0;36m<module>\u001b[0;34m()\u001b[0m\n\u001b[0;32m----> 1\u001b[0;31m \u001b[0md\u001b[0m\u001b[0;34m[\u001b[0m\u001b[0;34m:\u001b[0m\u001b[0;36m3\u001b[0m\u001b[0;34m]\u001b[0m\u001b[0;34m\u001b[0m\u001b[0m\n\u001b[0m",
      "\u001b[0;31mNameError\u001b[0m: name 'd' is not defined"
     ]
    }
   ],
   "source": [
    "d[:3]"
   ]
  },
  {
   "cell_type": "code",
   "execution_count": null,
   "metadata": {},
   "outputs": [],
   "source": []
  }
 ],
 "metadata": {
  "kernelspec": {
   "display_name": "Python 3",
   "language": "python",
   "name": "python3"
  },
  "language_info": {
   "codemirror_mode": {
    "name": "ipython",
    "version": 3
   },
   "file_extension": ".py",
   "mimetype": "text/x-python",
   "name": "python",
   "nbconvert_exporter": "python",
   "pygments_lexer": "ipython3",
   "version": "3.6.4"
  }
 },
 "nbformat": 4,
 "nbformat_minor": 2
}
