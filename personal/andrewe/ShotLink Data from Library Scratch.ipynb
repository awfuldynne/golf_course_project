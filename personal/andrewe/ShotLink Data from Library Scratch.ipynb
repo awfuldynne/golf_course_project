{
 "cells": [
  {
   "cell_type": "code",
   "execution_count": 1,
   "metadata": {
    "ExecuteTime": {
     "end_time": "2018-05-11T03:12:00.630792Z",
     "start_time": "2018-05-11T03:11:58.960596Z"
    }
   },
   "outputs": [],
   "source": [
    "import pandas as pd\n",
    "import matplotlib.pyplot as plt\n",
    "\n",
    "%matplotlib inline\n",
    "plt.rcParams[\"figure.figsize\"] = (10,5)\n",
    "\n",
    "# regardless of from where we run Jupyter Notebook, the curr working dir\n",
    "# is personal/andrewe - i want to load pygolfdata from the location that's\n",
    "# two directories above this one, so I'll modify the module search path\n",
    "# to include that location. is there a better way to do this?\n",
    "import sys\n",
    "sys.path.append('../../')\n",
    "\n",
    "from pygolfdata.data import shotlink"
   ]
  },
  {
   "cell_type": "code",
   "execution_count": 2,
   "metadata": {
    "ExecuteTime": {
     "end_time": "2018-05-11T03:12:16.251839Z",
     "start_time": "2018-05-11T03:12:16.247508Z"
    }
   },
   "outputs": [],
   "source": [
    "# data path - can be absolute, here is relative to the cwd of this file, \n",
    "# which is golf_course_project/personal/andrewe\n",
    "data_path = '../../../golf_course_project_data'\n",
    "test_data_path = '../../../golf_course_project_data/test'"
   ]
  },
  {
   "cell_type": "code",
   "execution_count": 3,
   "metadata": {
    "ExecuteTime": {
     "end_time": "2018-05-11T03:12:17.085892Z",
     "start_time": "2018-05-11T03:12:17.072557Z"
    }
   },
   "outputs": [],
   "source": [
    "def mem_usage(pandas_obj):\n",
    "    if isinstance(pandas_obj,pd.DataFrame):\n",
    "        usage_b = pandas_obj.memory_usage(deep=True).sum()\n",
    "    else: # we assume if not a df it's a series\n",
    "        usage_b = pandas_obj.memory_usage(deep=True)\n",
    "    usage_mb = usage_b / 1024 ** 2 # convert bytes to megabytes\n",
    "    return \"{:03.2f} MB\".format(usage_mb)"
   ]
  },
  {
   "cell_type": "markdown",
   "metadata": {},
   "source": [
    "# Augmented, also investigation for missing courselevels data for some courses"
   ]
  },
  {
   "cell_type": "code",
   "execution_count": 23,
   "metadata": {
    "ExecuteTime": {
     "end_time": "2018-05-08T22:45:15.902337Z",
     "start_time": "2018-05-08T22:45:15.889880Z"
    }
   },
   "outputs": [],
   "source": [
    "# the courselevels data for 2017 doesn't have wind data for every single possible\n",
    "# course - at a quick glance, there are rows but no wind data for Erin Hills,\n",
    "# and for four tournaments where some of the initial rounds are played on multiple\n",
    "# course (for ex, the Pebble Beach Pro-Am, which is played on three courses at\n",
    "# least, I think, for the first two days) there are no courselevels rows at all\n",
    "# for the courses that are only used on Thursday and Friday; for now I'll just\n",
    "# hardcode the expected nulls that I got from separate investigation"
   ]
  },
  {
   "cell_type": "code",
   "execution_count": 4,
   "metadata": {
    "ExecuteTime": {
     "end_time": "2018-05-08T22:30:08.414789Z",
     "start_time": "2018-05-08T22:29:53.929578Z"
    }
   },
   "outputs": [
    {
     "data": {
      "text/plain": [
       "(1214437, 47)"
      ]
     },
     "execution_count": 4,
     "metadata": {},
     "output_type": "execute_result"
    }
   ],
   "source": [
    "d = shotlink.get_shots_augmented([2017], data_path)\n",
    "d.shape"
   ]
  },
  {
   "cell_type": "code",
   "execution_count": 5,
   "metadata": {
    "ExecuteTime": {
     "end_time": "2018-05-08T22:30:10.107471Z",
     "start_time": "2018-05-08T22:30:10.056445Z"
    }
   },
   "outputs": [
    {
     "data": {
      "text/html": [
       "<div>\n",
       "<style scoped>\n",
       "    .dataframe tbody tr th:only-of-type {\n",
       "        vertical-align: middle;\n",
       "    }\n",
       "\n",
       "    .dataframe tbody tr th {\n",
       "        vertical-align: top;\n",
       "    }\n",
       "\n",
       "    .dataframe thead th {\n",
       "        text-align: right;\n",
       "    }\n",
       "</style>\n",
       "<table border=\"1\" class=\"dataframe\">\n",
       "  <thead>\n",
       "    <tr style=\"text-align: right;\">\n",
       "      <th></th>\n",
       "      <th>TourCode</th>\n",
       "      <th>TourDescription</th>\n",
       "      <th>Year</th>\n",
       "      <th>TournamentNum</th>\n",
       "      <th>PlayerNum</th>\n",
       "      <th>CourseNum</th>\n",
       "      <th>PermanentTournamentNum</th>\n",
       "      <th>PlayerFirstName</th>\n",
       "      <th>PlayerLastName</th>\n",
       "      <th>Round</th>\n",
       "      <th>...</th>\n",
       "      <th>DistanceFromEdge</th>\n",
       "      <th>Date</th>\n",
       "      <th>LeftRight</th>\n",
       "      <th>StrokesGainedBaseline</th>\n",
       "      <th>StrokesGainedCategory</th>\n",
       "      <th>RecoveryShot</th>\n",
       "      <th>AMWindSpd</th>\n",
       "      <th>PMWindSpd</th>\n",
       "      <th>AMWindDir</th>\n",
       "      <th>PMWindDir</th>\n",
       "    </tr>\n",
       "  </thead>\n",
       "  <tbody>\n",
       "    <tr>\n",
       "      <th>0</th>\n",
       "      <td>R</td>\n",
       "      <td>PGA TOUR</td>\n",
       "      <td>2017</td>\n",
       "      <td>10</td>\n",
       "      <td>1810</td>\n",
       "      <td>552</td>\n",
       "      <td>464</td>\n",
       "      <td>Phil</td>\n",
       "      <td>Mickelson</td>\n",
       "      <td>1</td>\n",
       "      <td>...</td>\n",
       "      <td>645</td>\n",
       "      <td>10/13/2016</td>\n",
       "      <td>R</td>\n",
       "      <td>-0.091</td>\n",
       "      <td>Off the Tee</td>\n",
       "      <td>No</td>\n",
       "      <td>C</td>\n",
       "      <td>5-10</td>\n",
       "      <td>C</td>\n",
       "      <td>DW</td>\n",
       "    </tr>\n",
       "    <tr>\n",
       "      <th>1</th>\n",
       "      <td>R</td>\n",
       "      <td>PGA TOUR</td>\n",
       "      <td>2017</td>\n",
       "      <td>10</td>\n",
       "      <td>1810</td>\n",
       "      <td>552</td>\n",
       "      <td>464</td>\n",
       "      <td>Phil</td>\n",
       "      <td>Mickelson</td>\n",
       "      <td>1</td>\n",
       "      <td>...</td>\n",
       "      <td>159</td>\n",
       "      <td>10/13/2016</td>\n",
       "      <td>R</td>\n",
       "      <td>0.076</td>\n",
       "      <td>Approach the Green</td>\n",
       "      <td>No</td>\n",
       "      <td>C</td>\n",
       "      <td>5-10</td>\n",
       "      <td>C</td>\n",
       "      <td>DW</td>\n",
       "    </tr>\n",
       "    <tr>\n",
       "      <th>2</th>\n",
       "      <td>R</td>\n",
       "      <td>PGA TOUR</td>\n",
       "      <td>2017</td>\n",
       "      <td>10</td>\n",
       "      <td>1810</td>\n",
       "      <td>552</td>\n",
       "      <td>464</td>\n",
       "      <td>Phil</td>\n",
       "      <td>Mickelson</td>\n",
       "      <td>1</td>\n",
       "      <td>...</td>\n",
       "      <td>483</td>\n",
       "      <td>10/13/2016</td>\n",
       "      <td>L</td>\n",
       "      <td>0.070</td>\n",
       "      <td>Putting</td>\n",
       "      <td>No</td>\n",
       "      <td>C</td>\n",
       "      <td>5-10</td>\n",
       "      <td>C</td>\n",
       "      <td>DW</td>\n",
       "    </tr>\n",
       "  </tbody>\n",
       "</table>\n",
       "<p>3 rows × 47 columns</p>\n",
       "</div>"
      ],
      "text/plain": [
       "  TourCode TourDescription  Year  TournamentNum  PlayerNum  CourseNum  \\\n",
       "0        R        PGA TOUR  2017             10       1810        552   \n",
       "1        R        PGA TOUR  2017             10       1810        552   \n",
       "2        R        PGA TOUR  2017             10       1810        552   \n",
       "\n",
       "   PermanentTournamentNum PlayerFirstName PlayerLastName  Round    ...     \\\n",
       "0                     464            Phil      Mickelson      1    ...      \n",
       "1                     464            Phil      Mickelson      1    ...      \n",
       "2                     464            Phil      Mickelson      1    ...      \n",
       "\n",
       "  DistanceFromEdge        Date  LeftRight  StrokesGainedBaseline  \\\n",
       "0              645  10/13/2016          R                 -0.091   \n",
       "1              159  10/13/2016          R                  0.076   \n",
       "2              483  10/13/2016          L                  0.070   \n",
       "\n",
       "   StrokesGainedCategory  RecoveryShot  AMWindSpd PMWindSpd  AMWindDir  \\\n",
       "0            Off the Tee            No          C      5-10          C   \n",
       "1     Approach the Green            No          C      5-10          C   \n",
       "2                Putting            No          C      5-10          C   \n",
       "\n",
       "  PMWindDir  \n",
       "0        DW  \n",
       "1        DW  \n",
       "2        DW  \n",
       "\n",
       "[3 rows x 47 columns]"
      ]
     },
     "execution_count": 5,
     "metadata": {},
     "output_type": "execute_result"
    }
   ],
   "source": [
    "d[:3]"
   ]
  },
  {
   "cell_type": "code",
   "execution_count": 9,
   "metadata": {
    "ExecuteTime": {
     "end_time": "2018-05-08T22:30:23.434705Z",
     "start_time": "2018-05-08T22:30:23.412090Z"
    },
    "scrolled": false
   },
   "outputs": [
    {
     "name": "stdout",
     "output_type": "stream",
     "text": [
      "TourCode\n",
      "R    1214437\n",
      "Name: TourCode, dtype: int64\n",
      "\n",
      "TourDescription\n",
      "PGA TOUR    1214437\n",
      "Name: TourDescription, dtype: int64\n",
      "\n",
      "Year\n",
      "2017    1214437\n",
      "Name: Year, dtype: int64\n",
      "\n",
      "TournamentNum\n",
      "130    38886\n",
      "160    38050\n",
      "450    33972\n",
      "270    33870\n",
      "290    33839\n",
      "140    33624\n",
      "340    33357\n",
      "360    33084\n",
      "310    32873\n",
      "420    32843\n",
      "350    32785\n",
      "300    32702\n",
      "390    32401\n",
      "280    32393\n",
      "460    32193\n",
      "70     32191\n",
      "240    31886\n",
      "380    31810\n",
      "200    30454\n",
      "120    30430\n",
      "10     30418\n",
      "170    30188\n",
      "50     30101\n",
      "180    29997\n",
      "30     29723\n",
      "220    29342\n",
      "260    29237\n",
      "150    29217\n",
      "400    29000\n",
      "330    28697\n",
      "60     28562\n",
      "210    28142\n",
      "370    27574\n",
      "320    27469\n",
      "470    27010\n",
      "480    24705\n",
      "190    21670\n",
      "440    21505\n",
      "490    19235\n",
      "230    11585\n",
      "110     9063\n",
      "500     8354\n",
      "Name: TournamentNum, dtype: int64\n",
      "\n",
      "PlayerNum\n",
      "35506    7406\n",
      "12716    7353\n",
      "30110    7149\n",
      "27958    7080\n",
      "33141    7067\n",
      "37189    6926\n",
      "27129    6924\n",
      "27644    6916\n",
      "28132    6906\n",
      "40058    6888\n",
      "29725    6888\n",
      "25493    6874\n",
      "27974    6826\n",
      "29479    6740\n",
      "34213    6724\n",
      "29221    6721\n",
      "34360    6692\n",
      "39975    6675\n",
      "48084    6629\n",
      "26476    6607\n",
      "24846    6579\n",
      "33461    6569\n",
      "25900    6561\n",
      "12510    6542\n",
      "30944    6531\n",
      "34431    6523\n",
      "32333    6512\n",
      "34021    6494\n",
      "48081    6490\n",
      "49771    6441\n",
      "         ... \n",
      "33936     144\n",
      "37076     144\n",
      "34296     143\n",
      "52330     143\n",
      "39359     143\n",
      "35572     143\n",
      "39337     143\n",
      "45729     143\n",
      "37214     143\n",
      "25661     143\n",
      "47624     143\n",
      "47662     143\n",
      "26735     142\n",
      "50757     142\n",
      "45702     141\n",
      "52567     141\n",
      "23778     141\n",
      "52560     141\n",
      "2246      141\n",
      "29378     141\n",
      "12397     141\n",
      "51414     140\n",
      "34306     140\n",
      "34259     139\n",
      "24449     138\n",
      "1797      135\n",
      "25369     134\n",
      "24808      79\n",
      "22294      77\n",
      "33115      76\n",
      "Name: PlayerNum, Length: 554, dtype: int64\n",
      "\n",
      "CourseNum\n",
      "241    33972\n",
      "770    33870\n",
      "235    33839\n",
      "513    33357\n",
      "503    33084\n",
      "19     32873\n",
      "32     32843\n",
      "236    32785\n",
      "11     32702\n",
      "669    32401\n",
      "714    32393\n",
      "752    32193\n",
      "729    31886\n",
      "771    31810\n",
      "665    30454\n",
      "6      30430\n",
      "552    30418\n",
      "500    30188\n",
      "538    30101\n",
      "734    29997\n",
      "746    29723\n",
      "742    29342\n",
      "12     29237\n",
      "510    29217\n",
      "819    29000\n",
      "23     28697\n",
      "733    28562\n",
      "9      28142\n",
      "237    27574\n",
      "21     27469\n",
      "238    27010\n",
      "700    24705\n",
      "4      22523\n",
      "240    21670\n",
      "36     21505\n",
      "776    21222\n",
      "789    19235\n",
      "704    16856\n",
      "5      15908\n",
      "185    11585\n",
      "233    11120\n",
      "205    11116\n",
      "104    11101\n",
      "769    11026\n",
      "231    10969\n",
      "202    10910\n",
      "656     9063\n",
      "688     8354\n",
      "Name: CourseNum, dtype: int64\n",
      "\n",
      "PermanentTournamentNum\n",
      "2      38886\n",
      "5      38050\n",
      "33     33972\n",
      "41     33870\n",
      "480    33839\n",
      "4      33624\n",
      "25     33357\n",
      "34     33084\n",
      "19     32873\n",
      "32     32843\n",
      "26     32785\n",
      "11     32702\n",
      "30     32401\n",
      "18     32393\n",
      "13     32193\n",
      "493    32191\n",
      "20     31886\n",
      "490    31810\n",
      "475    30454\n",
      "6      30430\n",
      "464    30418\n",
      "7      30188\n",
      "47     30101\n",
      "10     29997\n",
      "54     29723\n",
      "483    29342\n",
      "12     29237\n",
      "3      29217\n",
      "518    29000\n",
      "23     28697\n",
      "457    28562\n",
      "9      28142\n",
      "471    27574\n",
      "21     27469\n",
      "27     27010\n",
      "505    24705\n",
      "473    21670\n",
      "476    21505\n",
      "28     19235\n",
      "470    11585\n",
      "16      9063\n",
      "60      8354\n",
      "Name: PermanentTournamentNum, dtype: int64\n",
      "\n",
      "PlayerFirstName\n",
      "Kevin        30663\n",
      "Ryan         28186\n",
      "Jason        22907\n",
      "Brian        22531\n",
      "Scott        18644\n",
      "Cameron      17478\n",
      "Matt         16690\n",
      "Patrick      15515\n",
      "John         15017\n",
      "Michael      13925\n",
      "Martin       13753\n",
      "Kyle         13746\n",
      "David        13389\n",
      "Chris        12999\n",
      "Robert       12958\n",
      "J.J.         12642\n",
      "Nick         12480\n",
      "Ben          12416\n",
      "Mark         12257\n",
      "Daniel       12128\n",
      "Billy        11584\n",
      "Chad         11130\n",
      "Russell      10865\n",
      "Luke         10497\n",
      "Brett         9837\n",
      "Justin        9660\n",
      "Adam          9389\n",
      "Steve         9133\n",
      "Jim           9039\n",
      "Steven        8916\n",
      "             ...  \n",
      "Cliff          147\n",
      "Jhared         147\n",
      "Bradley        147\n",
      "Casey          147\n",
      "Mason          146\n",
      "Tadd           146\n",
      "Kent           146\n",
      "Joey           145\n",
      "Dudley         145\n",
      "Len            145\n",
      "Martín         144\n",
      "Marcelo        144\n",
      "Edward         144\n",
      "Gregor         144\n",
      "Gunner         144\n",
      "Collin         144\n",
      "Mookie         143\n",
      "Wes            143\n",
      "Johnny         143\n",
      "Bryn           143\n",
      "Christian      143\n",
      "Marty          142\n",
      "Rodolfo        141\n",
      "Daisuke        141\n",
      "Duffy          141\n",
      "Sung Min       141\n",
      "Brent          140\n",
      "Parker         138\n",
      "Rocco          135\n",
      "Jinho           76\n",
      "Name: PlayerFirstName, Length: 321, dtype: int64\n",
      "\n",
      "PlayerLastName\n",
      "Kim            18497\n",
      "Taylor         12991\n",
      "Campbell       10508\n",
      "Johnson        10479\n",
      "Bradley         7640\n",
      "Hughes          7406\n",
      "Hoffman         7353\n",
      "Stanley         7149\n",
      "Blaum           7080\n",
      "Varner III      6926\n",
      "List            6924\n",
      "Harman          6916\n",
      "Van Aswegen     6906\n",
      "Finau           6888\n",
      "Blair           6888\n",
      "Kang            6826\n",
      "Lee             6806\n",
      "Brown           6740\n",
      "Murray          6724\n",
      "Simpson         6721\n",
      "Reed            6692\n",
      "Bryan           6629\n",
      "Reavie          6607\n",
      "Barnes          6579\n",
      "Hoffmann        6569\n",
      "Glover          6561\n",
      "Kokrak          6531\n",
      "Streb           6523\n",
      "Tway            6512\n",
      "Cauley          6494\n",
      "               ...  \n",
      "Rowell           144\n",
      "Rozo             144\n",
      "Flesch           144\n",
      "Wiebe            144\n",
      "Figueroa         144\n",
      "Homan            143\n",
      "DeMoss           143\n",
      "Meyer            143\n",
      "Rende            143\n",
      "Miller           143\n",
      "Nesbitt          143\n",
      "Brand            143\n",
      "Ruiz             143\n",
      "Parry            143\n",
      "Jertson          142\n",
      "Bernard          142\n",
      "Waldorf          141\n",
      "Kataoka          141\n",
      "Cazaubón         141\n",
      "Adamonis         141\n",
      "Lawrence         141\n",
      "Widener          141\n",
      "Chin             140\n",
      "Grant            140\n",
      "Silvers          139\n",
      "McLachlin        138\n",
      "Mediate          135\n",
      "Donaldson        134\n",
      "Shields           79\n",
      "Smock             77\n",
      "Name: PlayerLastName, Length: 521, dtype: int64\n",
      "\n",
      "Round\n",
      "1    391503\n",
      "2    385609\n",
      "3    231468\n",
      "4    205857\n",
      "Name: Round, dtype: int64\n",
      "\n",
      "TournamentName\n",
      "CareerBuilder Challenge                                  38886\n",
      "AT&T Pebble Beach Pro-Am                                 38050\n",
      "PGA Championship                                         33972\n",
      "Valero Texas Open                                        33870\n",
      "Wells Fargo Championship                                 33839\n",
      "Farmers Insurance Open                                   33624\n",
      "FedEx St. Jude Classic                                   33357\n",
      "Travelers Championship                                   33084\n",
      "AT&T Byron Nelson                                        32873\n",
      "RBC Canadian Open                                        32843\n",
      "U.S. Open                                                32785\n",
      "THE PLAYERS Championship                                 32702\n",
      "John Deere Classic                                       32401\n",
      "Zurich Classic of New Orleans                            32393\n",
      "Wyndham Championship                                     32193\n",
      "The RSM Classic                                          32191\n",
      "Shell Houston Open                                       31886\n",
      "The Greenbrier Classic                                   31810\n",
      "Valspar Championship                                     30454\n",
      "Sony Open in Hawaii                                      30430\n",
      "Safeway Open                                             30418\n",
      "Genesis Open                                             30188\n",
      "Shriners Hospitals for Children Open                     30101\n",
      "The Honda Classic                                        29997\n",
      "Sanderson Farms Championship                             29723\n",
      "Puerto Rico Open                                         29342\n",
      "RBC Heritage                                             29237\n",
      "Waste Management Phoenix Open                            29217\n",
      "Barbasol Championship                                    29000\n",
      "the Memorial Tournament presented by Nationwide          28697\n",
      "OHL Classic at Mayakoba                                  28562\n",
      "Arnold Palmer Invitational presented by Mastercard       28142\n",
      "Quicken Loans National                                   27574\n",
      "DEAN & DELUCA Invitational                               27469\n",
      "THE NORTHERN TRUST                                       27010\n",
      "Dell Technologies Championship                           24705\n",
      "World Golf Championships-Mexico Championship             21670\n",
      "World Golf Championships-Bridgestone Invitational        21505\n",
      "BMW Championship                                         19235\n",
      "World Golf Championships-Dell Technologies Match Play    11585\n",
      "SBS Tournament of Champions                               9063\n",
      "TOUR Championship                                         8354\n",
      "Name: TournamentName, dtype: int64\n",
      "\n",
      "CourseName\n",
      "Quail Hollow-PGA Championship     33972\n",
      "TPC San Antonio - AT&T Oaks       33870\n",
      "Eagle Point Golf Club             33839\n",
      "TPC Southwind                     33357\n",
      "TPC River Highlands               33084\n",
      "TPC Four Seasons Resort           32873\n",
      "Glen Abbey GC                     32843\n",
      "Erin Hills                        32785\n",
      "TPC Sawgrass                      32702\n",
      "TPC Deere Run                     32401\n",
      "TPC Louisiana                     32393\n",
      "Sedgefield CC                     32193\n",
      "GC of Houston                     31886\n",
      "The Old White TPC                 31810\n",
      "Innisbrook Resort (Copperhead)    30454\n",
      "Waialae CC                        30430\n",
      "Silverado Resort and Spa North    30418\n",
      "Riviera CC                        30188\n",
      "TPC Summerlin                     30101\n",
      "PGA National (Champion)           29997\n",
      "CC of Jackson                     29723\n",
      "Coco Beach Golf & CC              29342\n",
      "Harbour Town GL                   29237\n",
      "TPC Scottsdale                    29217\n",
      "RTJ Trail (Grand National)        29000\n",
      "Muirfield Village GC              28697\n",
      "El Camaleon GC                    28562\n",
      "Bay Hill Club & Lodge             28142\n",
      "TPC Potomac at Avenel Farm        27574\n",
      "Colonial CC                       27469\n",
      "Glen Oaks Club                    27010\n",
      "TPC Boston                        24705\n",
      "Torrey Pines GC (South)           22523\n",
      "Club de Golf Chapultepec          21670\n",
      "Firestone CC (South)              21505\n",
      "Sea Island Resort (Seaside)       21222\n",
      "Conway Farms GC                   19235\n",
      "Stadium Course                    16856\n",
      "Pebble Beach GL                   15908\n",
      "Austin Country Club               11585\n",
      "Nicklaus Tournament Course        11120\n",
      "Spyglass Hill GC                  11116\n",
      "Torrey Pines (North)              11101\n",
      "Monterey Peninsula CC             11026\n",
      "Sea Island Resort (Plantation)    10969\n",
      "La Quinta CC                      10910\n",
      "Plantation Course at Kapalua       9063\n",
      "East Lake GC                       8354\n",
      "Name: CourseName, dtype: int64\n",
      "\n",
      "Hole\n"
     ]
    },
    {
     "name": "stdout",
     "output_type": "stream",
     "text": [
      "18    73743\n",
      "1     69801\n",
      "2     69089\n",
      "10    68932\n",
      "5     68886\n",
      "9     68777\n",
      "11    68530\n",
      "6     68375\n",
      "14    67945\n",
      "13    67760\n",
      "15    67063\n",
      "12    66232\n",
      "16    66148\n",
      "3     65599\n",
      "4     65368\n",
      "8     64708\n",
      "7     64399\n",
      "17    63082\n",
      "Name: Hole, dtype: int64\n",
      "\n",
      "HoleScore\n",
      " 4.0     604378\n",
      " 5.0     291802\n",
      " 3.0     233966\n",
      " 6.0      51607\n",
      " 2.0      18419\n",
      " 7.0       8139\n",
      "NaN        4232\n",
      " 8.0       1374\n",
      " 9.0        389\n",
      " 10.0        66\n",
      " 11.0        38\n",
      " 1.0         27\n",
      "Name: HoleScore, dtype: int64\n",
      "\n",
      "ParValue\n",
      "4    750616\n",
      "5    252913\n",
      "3    210908\n",
      "Name: ParValue, dtype: int64\n",
      "\n",
      "Yardage\n",
      "442    17170\n",
      "434    16765\n",
      "440    14194\n",
      "445    13383\n",
      "465    12709\n",
      "470    12201\n",
      "458    11847\n",
      "430    11802\n",
      "462    11465\n",
      "223    11137\n",
      "406    11104\n",
      "408    10305\n",
      "464    10236\n",
      "448    10096\n",
      "471     9674\n",
      "490     9499\n",
      "560     9151\n",
      "455     9095\n",
      "452     9041\n",
      "454     8550\n",
      "472     8354\n",
      "438     8300\n",
      "590     8293\n",
      "558     8135\n",
      "554     8121\n",
      "447     8110\n",
      "481     8071\n",
      "482     8029\n",
      "215     7874\n",
      "421     7859\n",
      "       ...  \n",
      "468      970\n",
      "219      939\n",
      "371      880\n",
      "218      864\n",
      "331      856\n",
      "578      851\n",
      "572      808\n",
      "599      777\n",
      "595      764\n",
      "317      728\n",
      "544      723\n",
      "519      703\n",
      "500      660\n",
      "106      649\n",
      "426      636\n",
      "325      606\n",
      "339      600\n",
      "364      593\n",
      "521      591\n",
      "663      591\n",
      "322      588\n",
      "305      497\n",
      "354      495\n",
      "157      480\n",
      "206      478\n",
      "209      469\n",
      "130      452\n",
      "164      377\n",
      "211      370\n",
      "150      284\n",
      "Name: Yardage, Length: 332, dtype: int64\n",
      "\n",
      "Shot\n",
      "1     306424\n",
      "2     306329\n",
      "3     296717\n",
      "4     218370\n",
      "5      68828\n",
      "6      13021\n",
      "7       3679\n",
      "8        745\n",
      "9        207\n",
      "10        80\n",
      "11        24\n",
      "12         9\n",
      "13         3\n",
      "14         1\n",
      "Name: Shot, dtype: int64\n",
      "\n",
      "ShotType\n",
      "S     1197403\n",
      "D        8381\n",
      "P        7162\n",
      "C        1250\n",
      "Pr        241\n",
      "Name: ShotType, dtype: int64\n",
      "\n",
      "NumStrokes\n",
      "1    1205803\n",
      "0       8622\n",
      "2         12\n",
      "Name: NumStrokes, dtype: int64\n",
      "\n",
      "FromLocationScorer\n",
      "Green                 493486\n",
      "Tee Box               307435\n",
      "Fairway               208319\n",
      "Primary Rough          97724\n",
      "Green Side Bunker      27449\n",
      "Intermediate Rough     26977\n",
      "Fairway Bunker         15415\n",
      "Unknown                15007\n",
      "Fringe                 11732\n",
      "Native Area             6455\n",
      "Other                   3846\n",
      "NaN                      493\n",
      "Water                     99\n",
      "Name: FromLocationScorer, dtype: int64\n",
      "\n",
      "FromLocationEnhanced\n",
      "Unmapped                          487397\n",
      "NaN                               405486\n",
      "Right Fairway                      95238\n",
      "Left Fairway                       91362\n",
      "Right Rough                        44960\n",
      "Left Rough                         43072\n",
      "Left Intermediate                  11427\n",
      "Right Intermediate                 10933\n",
      "Right Front Green Side Bunker       6326\n",
      "Front Left Green Side Bunker        5447\n",
      "Right Green Side Bunker             3941\n",
      "Left Green Side Bunker              3823\n",
      "Front Center Green Side Bunker      2728\n",
      "Rear Green Side Bunker               974\n",
      "Left Rear Green Side Bunker          816\n",
      "Right Rear Green Side Bunker         469\n",
      "Unknown                               38\n",
      "Name: FromLocationEnhanced, dtype: int64\n",
      "\n",
      "ToLocationScorer\n",
      "Green                 444497\n",
      "NaN                   394958\n",
      "Fairway               186184\n",
      "Primary Rough          88610\n",
      "Green Side Bunker      25049\n",
      "Intermediate Rough     24312\n",
      "Fairway Bunker         14224\n",
      "Fringe                 11867\n",
      "Unknown                10604\n",
      "Water                   4669\n",
      "Native Area             4257\n",
      "Tree Outline            1961\n",
      "Dirt Outline            1511\n",
      "Tee Box                  728\n",
      "Cart Path                591\n",
      "Other                    271\n",
      "Rock Outline              52\n",
      "Landscaping               50\n",
      "Bush                      13\n",
      "Wall                      13\n",
      "Path                      12\n",
      "Bridge                     4\n",
      "Name: ToLocationScorer, dtype: int64\n",
      "\n",
      "ToLocationEnhanced\n",
      "Unmapped                          489934\n",
      "NaN                               394746\n",
      "Right Fairway                      95289\n",
      "Left Fairway                       91409\n",
      "Right Rough                        44978\n",
      "Left Rough                         43100\n",
      "Left Intermediate                  11431\n",
      "Right Intermediate                 10933\n",
      "Unknown                             8084\n",
      "Right Front Green Side Bunker       6327\n",
      "Front Left Green Side Bunker        5449\n",
      "Right Green Side Bunker             3941\n",
      "Left Green Side Bunker              3826\n",
      "Front Center Green Side Bunker      2730\n",
      "Rear Green Side Bunker               974\n",
      "Left Rear Green Side Bunker          817\n",
      "Right Rear Green Side Bunker         469\n",
      "Name: ToLocationEnhanced, dtype: int64\n",
      "\n",
      "Distance\n",
      "0        130667\n",
      "13         5661\n",
      "14         5637\n",
      "11         5569\n",
      "16         5562\n",
      "15         5559\n",
      "17         5516\n",
      "10         5485\n",
      "12         5468\n",
      "20         5425\n",
      "18         5397\n",
      "19         5372\n",
      "9          5220\n",
      "22         5210\n",
      "23         5150\n",
      "21         5149\n",
      "8          5063\n",
      "7          4949\n",
      "24         4912\n",
      "25         4765\n",
      "6          4568\n",
      "26         4507\n",
      "27         4455\n",
      "5          4357\n",
      "28         4355\n",
      "29         4087\n",
      "30         3984\n",
      "31         3924\n",
      "32         3835\n",
      "4          3799\n",
      "          ...  \n",
      "13108         1\n",
      "13123         1\n",
      "13924         1\n",
      "14584         1\n",
      "13143         1\n",
      "13911         1\n",
      "13557         1\n",
      "13139         1\n",
      "15602         1\n",
      "14162         1\n",
      "13661         1\n",
      "13552         1\n",
      "13909         1\n",
      "12882         1\n",
      "14684         1\n",
      "13415         1\n",
      "13916         1\n",
      "13121         1\n",
      "12890         1\n",
      "13914         1\n",
      "13915         1\n",
      "13565         1\n",
      "13660         1\n",
      "13131         1\n",
      "13133         1\n",
      "12889         1\n",
      "13135         1\n",
      "13134         1\n",
      "13926         1\n",
      "13840         1\n",
      "Name: Distance, Length: 13571, dtype: int64\n",
      "\n",
      "DistanceToPin\n",
      "0        124146\n",
      "13         5645\n",
      "14         5627\n",
      "11         5554\n",
      "16         5551\n",
      "15         5545\n",
      "17         5502\n",
      "10         5474\n",
      "12         5459\n",
      "20         5421\n",
      "18         5385\n",
      "19         5365\n",
      "9          5210\n",
      "22         5197\n",
      "23         5141\n",
      "21         5135\n",
      "8          5051\n",
      "7          4942\n",
      "24         4913\n",
      "25         4772\n",
      "6          4558\n",
      "26         4509\n",
      "27         4467\n",
      "28         4386\n",
      "5          4343\n",
      "29         4104\n",
      "30         4013\n",
      "31         3937\n",
      "32         3895\n",
      "4          3792\n",
      "          ...  \n",
      "17300         1\n",
      "12908         1\n",
      "12443         1\n",
      "13210         1\n",
      "12422         1\n",
      "13201         1\n",
      "12445         1\n",
      "14492         1\n",
      "12632         1\n",
      "15122         1\n",
      "14855         1\n",
      "12807         1\n",
      "13657         1\n",
      "12765         1\n",
      "12183         1\n",
      "13205         1\n",
      "12328         1\n",
      "13928         1\n",
      "14005         1\n",
      "13658         1\n",
      "12718         1\n",
      "13659         1\n",
      "12804         1\n",
      "13742         1\n",
      "13077         1\n",
      "12331         1\n",
      "13203         1\n",
      "12635         1\n",
      "12904         1\n",
      "13735         1\n",
      "Name: DistanceToPin, Length: 13481, dtype: int64\n",
      "\n",
      "InTheHoleFlag\n",
      "N    909452\n",
      "Y    304985\n",
      "Name: InTheHoleFlag, dtype: int64\n",
      "\n",
      "AroundTheGreenFlag\n",
      "N    1092561\n",
      "Y     121876\n",
      "Name: AroundTheGreenFlag, dtype: int64\n",
      "\n",
      "FirstPuttFlag\n",
      "N    943592\n",
      "Y    270845\n",
      "Name: FirstPuttFlag, dtype: int64\n",
      "\n",
      "DistanceToHoleAfterShot\n",
      "0        399088\n",
      "13         5645\n",
      "14         5627\n",
      "11         5554\n",
      "16         5551\n",
      "15         5545\n",
      "17         5502\n",
      "10         5474\n",
      "12         5459\n",
      "20         5421\n",
      "18         5385\n",
      "19         5365\n",
      "9          5210\n",
      "22         5197\n",
      "23         5141\n",
      "21         5135\n",
      "8          5051\n",
      "7          4942\n",
      "24         4913\n",
      "25         4772\n",
      "6          4558\n",
      "26         4509\n",
      "27         4467\n",
      "28         4386\n",
      "5          4343\n",
      "29         4104\n",
      "30         4013\n",
      "31         3937\n",
      "32         3895\n",
      "4          3792\n",
      "          ...  \n",
      "13217         1\n",
      "13544         1\n",
      "14005         1\n",
      "12534         1\n",
      "12985         1\n",
      "11973         1\n",
      "13541         1\n",
      "12330         1\n",
      "12511         1\n",
      "13002         1\n",
      "12508         1\n",
      "12735         1\n",
      "12328         1\n",
      "13004         1\n",
      "12507         1\n",
      "14030         1\n",
      "13531         1\n",
      "12504         1\n",
      "14017         1\n",
      "12331         1\n",
      "12505         1\n",
      "12993         1\n",
      "12992         1\n",
      "14312         1\n",
      "11969         1\n",
      "22500         1\n",
      "12516         1\n",
      "12996         1\n",
      "15588         1\n",
      "13005         1\n",
      "Name: DistanceToHoleAfterShot, Length: 13364, dtype: int64\n",
      "\n",
      "Time\n",
      "1316    2833\n",
      "1311    2822\n",
      "1251    2820\n",
      "1211    2808\n",
      "1310    2802\n",
      "1326    2799\n",
      "1321    2797\n",
      "1256    2784\n",
      "1306    2778\n",
      "1245    2772\n",
      "1230    2771\n",
      "1330    2766\n",
      "1241    2764\n",
      "1305    2761\n",
      "1247    2760\n",
      "1236    2759\n",
      "1300    2755\n",
      "1240    2749\n",
      "1331    2749\n",
      "1303    2748\n",
      "1322    2748\n",
      "1332    2745\n",
      "1250    2745\n",
      "1231    2744\n",
      "1252    2742\n",
      "1221    2735\n",
      "1328    2733\n",
      "1226    2729\n",
      "1217    2727\n",
      "1210    2727\n",
      "        ... \n",
      "2038       8\n",
      "2042       7\n",
      "2027       7\n",
      "2039       7\n",
      "2030       7\n",
      "641        7\n",
      "2031       7\n",
      "2045       6\n",
      "2048       6\n",
      "2041       6\n",
      "2036       6\n",
      "2028       6\n",
      "2040       5\n",
      "2051       5\n",
      "2029       5\n",
      "2052       5\n",
      "2034       5\n",
      "649        4\n",
      "2044       4\n",
      "2050       4\n",
      "642        3\n",
      "648        3\n",
      "2056       3\n",
      "2055       3\n",
      "2054       3\n",
      "640        3\n",
      "2053       2\n",
      "644        2\n",
      "2058       1\n",
      "2057       1\n",
      "Name: Time, Length: 858, dtype: int64\n",
      "\n",
      "Lie\n",
      "Good       1011457\n",
      "NaN         142863\n",
      "Unknown      59634\n",
      "Buried         338\n",
      "Divot          145\n",
      "Name: Lie, dtype: int64\n",
      "\n",
      "Elevation\n",
      "With          1178546\n",
      "Unknown         15920\n",
      "Above Ball       9855\n",
      "Below Ball       9623\n",
      "NaN               493\n",
      "Name: Elevation, dtype: int64\n",
      "\n",
      "Slope\n"
     ]
    },
    {
     "name": "stdout",
     "output_type": "stream",
     "text": [
      "Level       1178548\n",
      "Unknown       15919\n",
      "Uphill        12107\n",
      "Downhill       7370\n",
      "NaN             493\n",
      "Name: Slope, dtype: int64\n",
      "\n",
      "XCoordinate\n",
      "       .0000    404160\n",
      "  7,912.3640         7\n",
      " 10,848.9000         6\n",
      "  9,823.6940         6\n",
      " 10,044.0000         6\n",
      " 10,251.1980         6\n",
      "  8,784.6230         6\n",
      " 10,537.8000         6\n",
      " 11,211.6000         6\n",
      " 10,586.0000         6\n",
      " 10,298.3000         6\n",
      "  9,822.2540         5\n",
      " 10,627.4090         5\n",
      " 10,192.5470         5\n",
      " 10,930.1000         5\n",
      " 10,637.1330         5\n",
      " 10,879.1000         5\n",
      "  9,286.7470         5\n",
      " 10,450.8990         5\n",
      " 10,691.2000         5\n",
      " 10,629.1830         5\n",
      "  9,827.4530         5\n",
      "  9,287.0510         5\n",
      " 10,671.6000         5\n",
      " 10,885.3000         5\n",
      "  9,808.2360         5\n",
      " 11,578.5000         5\n",
      " 10,047.8000         5\n",
      " 10,902.3000         5\n",
      " 10,030.0000         5\n",
      "                 ...  \n",
      " 11,219.3760         1\n",
      " 11,358.2610         1\n",
      " 11,683.4760         1\n",
      " 11,015.1620         1\n",
      "  9,488.0600         1\n",
      "  7,943.6890         1\n",
      "  9,310.2810         1\n",
      "90,392.6460-         1\n",
      "  9,779.6300         1\n",
      " 12,134.9230         1\n",
      "  8,577.2550         1\n",
      "  9,915.8800         1\n",
      " 11,705.1350         1\n",
      " 10,303.9130         1\n",
      "  9,946.1600         1\n",
      " 11,180.9810         1\n",
      " 11,111.8180         1\n",
      " 10,291.3370         1\n",
      "  7,636.6300         1\n",
      "  8,592.9270         1\n",
      "  9,819.4770         1\n",
      " 10,915.2550         1\n",
      " 10,493.5030         1\n",
      "  9,663.1790         1\n",
      "  9,991.5020         1\n",
      " 12,091.7600         1\n",
      " 10,841.6070         1\n",
      "  7,339.1960         1\n",
      " 11,187.0490         1\n",
      " 10,041.2860         1\n",
      "Name: XCoordinate, Length: 744154, dtype: int64\n",
      "\n",
      "YCoordinate\n",
      "       .0000    404160\n",
      " 13,010.1510         7\n",
      "  9,676.0600         6\n",
      " 10,652.1000         6\n",
      "  9,674.4000         6\n",
      "  9,291.3940         6\n",
      " 10,104.0000         6\n",
      " 10,596.2000         5\n",
      "  9,102.6500         5\n",
      " 10,342.8000         5\n",
      " 10,520.6000         5\n",
      " 10,528.6000         5\n",
      "  9,264.4750         5\n",
      "  9,257.7890         5\n",
      " 10,229.5000         5\n",
      " 10,748.8000         5\n",
      " 10,182.4000         5\n",
      " 10,640.0000         5\n",
      "  8,617.5510         5\n",
      " 10,491.7000         5\n",
      " 10,391.6000         5\n",
      " 10,516.3000         5\n",
      "  9,671.3100         5\n",
      "  9,313.4500         5\n",
      " 10,557.7550         5\n",
      " 10,982.2000         5\n",
      " 10,419.5000         5\n",
      "  8,674.2450         5\n",
      " 10,714.1000         5\n",
      " 10,918.5000         5\n",
      "                 ...  \n",
      "  9,918.1640         1\n",
      " 11,349.0600         1\n",
      " 10,096.4950         1\n",
      " 11,860.9470         1\n",
      " 12,098.3760         1\n",
      " 11,438.6900         1\n",
      "  9,559.9960         1\n",
      "  9,824.2320         1\n",
      "  9,299.8390         1\n",
      "  7,519.3420         1\n",
      "  7,767.7580         1\n",
      " 11,556.1190         1\n",
      "  9,324.3410         1\n",
      "  5,783.2320         1\n",
      "  9,613.6410         1\n",
      " 11,032.2040         1\n",
      " 10,648.4780         1\n",
      " 10,481.7100         1\n",
      "  8,484.5540         1\n",
      " 10,130.1270         1\n",
      "  4,822.3480         1\n",
      " 10,155.6170         1\n",
      "  6,624.2060         1\n",
      "  7,911.2310         1\n",
      "  9,898.3800         1\n",
      " 10,258.9640         1\n",
      "  9,888.1760         1\n",
      "  7,715.1280         1\n",
      "  8,755.5000         1\n",
      " 11,315.3160         1\n",
      "Name: YCoordinate, Length: 753833, dtype: int64\n",
      "\n",
      "ZCoordinate\n",
      "       .0000    404555\n",
      "       .2500       218\n",
      "      9.1890       198\n",
      "  1,518.9400       139\n",
      "      7.2000       133\n",
      "     87.0000       100\n",
      "     91.4000        93\n",
      "    484.8990        87\n",
      "       .5990        82\n",
      "     92.5000        82\n",
      "     14.4000        78\n",
      "    575.1000        78\n",
      "    432.1990        76\n",
      "    119.9000        69\n",
      "    672.7500        62\n",
      "    326.6990        62\n",
      "    299.3000        61\n",
      "    518.6000        61\n",
      "    491.2500        53\n",
      "    15.7690-        51\n",
      "     90.0000        51\n",
      "    456.0500        45\n",
      "     12.7400        45\n",
      "    479.8000        44\n",
      "    295.2400        44\n",
      "      9.1800        43\n",
      "    16.0000-        42\n",
      "    300.6900        41\n",
      "      7.6690        41\n",
      "    340.8000        40\n",
      "                 ...  \n",
      "    700.1490         1\n",
      "    804.5780         1\n",
      "    667.4390         1\n",
      "    326.9480         1\n",
      "    241.2190         1\n",
      "    795.9040         1\n",
      "    793.1130         1\n",
      "    526.1970         1\n",
      "    982.2890         1\n",
      "    968.3870         1\n",
      "    294.5100         1\n",
      "     55.3910         1\n",
      "     48.4920         1\n",
      "    190.8900         1\n",
      "    360.1610         1\n",
      "    147.3920         1\n",
      "    297.2670         1\n",
      "    247.5240         1\n",
      "  1,526.4150         1\n",
      "     57.2800         1\n",
      "  2,798.1150         1\n",
      "    651.2910         1\n",
      "    155.1260         1\n",
      "    26.8500-         1\n",
      "  1,874.7310         1\n",
      "    690.3030         1\n",
      "     49.8980         1\n",
      "  7,649.0180         1\n",
      "    693.2250         1\n",
      "    157.9180         1\n",
      "Name: ZCoordinate, Length: 413337, dtype: int64\n",
      "\n",
      "DistanceFromCenter\n",
      "0       435274\n",
      "4        10476\n",
      "5        10283\n",
      "3        10279\n",
      "6        10088\n",
      "2         9814\n",
      "7         9713\n",
      "8         9559\n",
      "1         9447\n",
      "9         9039\n",
      "10        8837\n",
      "12        8282\n",
      "11        8203\n",
      "13        7927\n",
      "14        7589\n",
      "15        7273\n",
      "16        7079\n",
      "17        6786\n",
      "18        6480\n",
      "19        6200\n",
      "20        6063\n",
      "21        5765\n",
      "22        5406\n",
      "23        5335\n",
      "24        5205\n",
      "26        4871\n",
      "25        4850\n",
      "27        4538\n",
      "28        4359\n",
      "29        4154\n",
      "         ...  \n",
      "2721         1\n",
      "3740         1\n",
      "2714         1\n",
      "2186         1\n",
      "2713         1\n",
      "2705         1\n",
      "2698         1\n",
      "2190         1\n",
      "2697         1\n",
      "2690         1\n",
      "2688         1\n",
      "3217         1\n",
      "3216         1\n",
      "2686         1\n",
      "2684         1\n",
      "2685         1\n",
      "2681         1\n",
      "2678         1\n",
      "3700         1\n",
      "2676         1\n",
      "2672         1\n",
      "2673         1\n",
      "2198         1\n",
      "3222         1\n",
      "2662         1\n",
      "2663         1\n",
      "4251         1\n",
      "2654         1\n",
      "2655         1\n",
      "3531         1\n",
      "Name: DistanceFromCenter, Length: 2724, dtype: int64\n",
      "\n",
      "DistanceFromEdge\n",
      "0       444486\n",
      "183       2353\n",
      "190       2348\n",
      "194       2339\n",
      "193       2331\n",
      "179       2322\n",
      "187       2319\n",
      "178       2306\n",
      "191       2298\n",
      "177       2292\n",
      "184       2289\n",
      "185       2287\n",
      "196       2284\n",
      "170       2270\n",
      "180       2266\n",
      "189       2264\n",
      "195       2260\n",
      "175       2257\n",
      "186       2256\n",
      "200       2243\n",
      "188       2242\n",
      "176       2238\n",
      "172       2238\n",
      "211       2238\n",
      "181       2235\n",
      "201       2225\n",
      "192       2225\n",
      "173       2223\n",
      "197       2223\n",
      "205       2219\n",
      "         ...  \n",
      "2441         1\n",
      "2077         1\n",
      "1985         1\n",
      "2188         1\n",
      "2431         1\n",
      "1733         1\n",
      "2428         1\n",
      "2429         1\n",
      "2310         1\n",
      "2072         1\n",
      "2422         1\n",
      "2313         1\n",
      "1981         1\n",
      "2444         1\n",
      "2447         1\n",
      "2448         1\n",
      "2453         1\n",
      "2452         1\n",
      "2192         1\n",
      "2301         1\n",
      "2195         1\n",
      "2469         1\n",
      "2474         1\n",
      "2083         1\n",
      "2480         1\n",
      "2082         1\n",
      "2492         1\n",
      "2199         1\n",
      "2504         1\n",
      "2435         1\n",
      "Name: DistanceFromEdge, Length: 2326, dtype: int64\n",
      "\n",
      "Date\n",
      "02/11/2017    13120\n",
      "03/23/2017    12897\n",
      "03/24/2017    12605\n",
      "08/10/2017    11735\n",
      "04/27/2017    11498\n",
      "06/15/2017    11471\n",
      "05/04/2017    11427\n",
      "04/21/2017    11391\n",
      "06/16/2017    11372\n",
      "01/27/2017    11346\n",
      "05/18/2017    11335\n",
      "01/26/2017    11322\n",
      "06/08/2017    11231\n",
      "04/20/2017    11196\n",
      "01/21/2017    11180\n",
      "07/28/2017    11174\n",
      "01/19/2017    11096\n",
      "05/19/2017    11084\n",
      "01/20/2017    11058\n",
      "07/13/2017    11024\n",
      "08/11/2017    11016\n",
      "06/22/2017    11007\n",
      "07/27/2017    10928\n",
      "06/23/2017    10914\n",
      "06/09/2017    10896\n",
      "11/18/2016    10881\n",
      "07/06/2017    10869\n",
      "11/17/2016    10775\n",
      "08/17/2017    10736\n",
      "07/14/2017    10725\n",
      "              ...  \n",
      "08/27/2017     5050\n",
      "06/18/2017     5034\n",
      "01/15/2017     5020\n",
      "03/11/2017     4996\n",
      "10/16/2016     4982\n",
      "11/12/2016     4982\n",
      "04/02/2017     4971\n",
      "03/26/2017     4954\n",
      "08/26/2017     4942\n",
      "02/25/2017     4925\n",
      "03/12/2017     4910\n",
      "06/17/2017     4908\n",
      "11/20/2016     4901\n",
      "07/23/2017     4864\n",
      "09/16/2017     4824\n",
      "09/15/2017     4816\n",
      "09/17/2017     4810\n",
      "09/14/2017     4785\n",
      "02/17/2017     4764\n",
      "02/12/2017     4616\n",
      "04/30/2017     4556\n",
      "03/22/2017     4012\n",
      "01/08/2017     2294\n",
      "01/05/2017     2265\n",
      "01/06/2017     2257\n",
      "01/07/2017     2247\n",
      "09/24/2017     2103\n",
      "09/23/2017     2097\n",
      "09/21/2017     2082\n",
      "09/22/2017     2072\n",
      "Name: Date, Length: 165, dtype: int64\n",
      "\n",
      "LeftRight\n",
      "NaN    547023\n",
      "R      335832\n",
      "L      331582\n",
      "Name: LeftRight, dtype: int64\n",
      "\n",
      "StrokesGainedBaseline\n",
      " 0.000    81268\n",
      " 0.001    41419\n",
      " 0.218    26908\n",
      " 0.151    26203\n",
      " 0.002    12410\n",
      " 0.003    12122\n",
      " 0.004    11817\n",
      " 0.005    11785\n",
      " 0.006    11389\n",
      " 0.007    11072\n",
      " 0.325    10268\n",
      " 0.011     5803\n",
      " 0.014     5548\n",
      " 0.017     5527\n",
      " 0.020     5299\n",
      " 0.023     5136\n",
      " 0.029     4985\n",
      " 0.026     4958\n",
      " 0.032     4836\n",
      " 0.035     4668\n",
      " 0.038     4583\n",
      " 0.042     4337\n",
      " 0.045     4149\n",
      " 0.052     4091\n",
      " 0.060     3925\n",
      " 0.067     3875\n",
      " 0.074     3825\n",
      " 0.566     3712\n",
      " 0.082     3671\n",
      " 0.089     3610\n",
      "          ...  \n",
      "-1.646        1\n",
      "-2.392        1\n",
      "-2.389        1\n",
      "-1.813        1\n",
      " 1.239        1\n",
      "-1.502        1\n",
      " 2.962        1\n",
      "-1.451        1\n",
      "-2.380        1\n",
      " 2.964        1\n",
      " 3.686        1\n",
      "-2.408        1\n",
      " 2.950        1\n",
      " 3.184        1\n",
      " 2.939        1\n",
      "-1.475        1\n",
      "-2.437        1\n",
      " 2.992        1\n",
      " 2.433        1\n",
      "-2.276        1\n",
      " 1.823        1\n",
      " 2.941        1\n",
      " 1.817        1\n",
      "-2.427        1\n",
      "-2.425        1\n",
      " 1.908        1\n",
      "-2.422        1\n",
      " 1.818        1\n",
      "-2.420        1\n",
      " 3.349        1\n",
      "Name: StrokesGainedBaseline, Length: 4424, dtype: int64\n",
      "\n",
      "StrokesGainedCategory\n",
      "Putting               492248\n",
      "Approach the Green    348959\n",
      "Off the Tee           238605\n",
      "Around the Green      117591\n",
      "NaN                    17034\n",
      "Name: StrokesGainedCategory, dtype: int64\n",
      "\n",
      "RecoveryShot\n",
      "No     1209217\n",
      "Yes       5220\n",
      "Name: RecoveryShot, dtype: int64\n",
      "\n",
      "AMWindSpd\n",
      "NaN               99027\n",
      " Calm             53116\n",
      "  Var 5           42905\n",
      "  Calm            41903\n",
      "  calm            38088\n",
      " 5-10             34243\n",
      "  2-6             28538\n",
      "  20 mph          28091\n",
      "  8 mph           27124\n",
      "  15 mph          24472\n",
      " 10 mph           23666\n",
      "  10 mph          23006\n",
      "  NW 8-15         21749\n",
      " Var 5            21457\n",
      "  Var 5-10        21076\n",
      "  5-10            20194\n",
      "  c               16722\n",
      "  12 mph          16252\n",
      " 8 mph            15775\n",
      " 5                15287\n",
      " C                15260\n",
      "  6-12            14923\n",
      " 2-6              14221\n",
      " 8-15             14104\n",
      "  N/NW 6-12       11498\n",
      " E 10-15          11427\n",
      "  S 10-20         11335\n",
      " S 10-20          11272\n",
      "  NNE 5-10        11231\n",
      " W 10-15          11140\n",
      "                  ...  \n",
      " 12 mph            5304\n",
      " ENE 10            5294\n",
      " CALM              5292\n",
      " W 6-12            5204\n",
      " 5mph              5167\n",
      " 10-20             5160\n",
      " NW 10-15          5160\n",
      " 13                5099\n",
      "  WNW 8-12         5096\n",
      "   SSW 5-10        5073\n",
      "  E 10             5020\n",
      "  SW 5             5014\n",
      "  NE 10            4996\n",
      " 2-5               4954\n",
      " 9                 4925\n",
      " N 10-15           4901\n",
      " Lt                4879\n",
      " Variable 5-9      4864\n",
      " S 7-11            4824\n",
      " S 8-12 G 15       4816\n",
      " Variable 4-8      4810\n",
      "  E/SE 4-10        4785\n",
      " SE 15-25          4556\n",
      " 25 mph            3927\n",
      "  SE 10-15         3891\n",
      "  C                3747\n",
      " 3-6               3732\n",
      " E-NE 5-10         2103\n",
      " Variable 5        2072\n",
      "  variable 2-6        0\n",
      "Name: AMWindSpd, Length: 102, dtype: int64\n",
      "\n",
      "PMWindSpd\n",
      "NaN                    99027\n",
      " 6-12                  58821\n",
      " 20 mph                48756\n",
      " 15 mph                46870\n",
      " 4-8                   42136\n",
      " 8-14                  32859\n",
      " 5-10                  30334\n",
      " 12 mph                29927\n",
      " calm                  29217\n",
      " NW 10                 28481\n",
      " 17 mph                26819\n",
      " SW 5-10               25906\n",
      " Calm                  25105\n",
      " 5 mph                 24996\n",
      " W 10-15               21611\n",
      " 10 mph                16458\n",
      " 8 mph                 15657\n",
      " Lt                    15158\n",
      " SE 5-10               15147\n",
      " Var 5                 15002\n",
      " 10                    14995\n",
      " 15-25                 13702\n",
      " 2-6                   13443\n",
      " E 10                  11635\n",
      " Var 2-8               11498\n",
      " SE 12-18              11427\n",
      " S 15-25               11335\n",
      " S 20-30               11272\n",
      "  NNE 5-10             11231\n",
      " S 10-20               11084\n",
      "                       ...  \n",
      " W 6-12                 5204\n",
      " 5mph                   5167\n",
      " Light                  5166\n",
      " NW 10-15               5160\n",
      " 17                     5099\n",
      " ENE 8-15               5096\n",
      " SE 4-8l                5093\n",
      " S 8-14                 5073\n",
      " 10-18                  5051\n",
      " SE 6-12                5020\n",
      "  E - 5                 5014\n",
      " S 9-14 G 17            4824\n",
      " S 8-12 G 15            4816\n",
      " NW 6-12                4810\n",
      " E/SE 5-10              4785\n",
      " S 10 -16               4556\n",
      " 30 mph                 3927\n",
      " SE 10-20               3891\n",
      " 10-20                  3825\n",
      " VAR 4-8                3774\n",
      " SW                     3747\n",
      " NE 5-10                2265\n",
      " N 10-15                2247\n",
      " E-NE 10                2103\n",
      " Variable 4-8           2072\n",
      " Variable 6-12 g 15        0\n",
      " 22 mph                    0\n",
      " variable 4-12             0\n",
      " variable 5-10             0\n",
      " w/sw 6-12 G15             0\n",
      "Name: PMWindSpd, Length: 102, dtype: int64\n",
      "\n",
      "AMWindDir\n",
      "RL     221924\n",
      "LR     219000\n",
      "C      208856\n",
      "IW     161417\n",
      "DW     154985\n",
      "SW     149228\n",
      "NaN     99027\n",
      "Name: AMWindDir, dtype: int64\n",
      "\n",
      "PMWindDir\n",
      "RL     283335\n",
      "LR     273145\n",
      "DW     182830\n",
      "IW     181358\n",
      "SW     134381\n",
      "NaN     99430\n",
      "C       59958\n",
      "Name: PMWindDir, dtype: int64\n",
      "\n"
     ]
    }
   ],
   "source": [
    "for col in d.columns:\n",
    "    print(col)\n",
    "    print(d[col].value_counts(dropna=False))\n",
    "    print()"
   ]
  },
  {
   "cell_type": "code",
   "execution_count": 7,
   "metadata": {
    "ExecuteTime": {
     "end_time": "2018-05-08T22:20:52.847970Z",
     "start_time": "2018-05-08T22:20:52.831516Z"
    }
   },
   "outputs": [
    {
     "data": {
      "text/plain": [
       "TourCode                                                R\n",
       "TourDescription                                  PGA TOUR\n",
       "Year                                                 2017\n",
       "TournamentNum                                          10\n",
       "PlayerNum                                            1810\n",
       "CourseNum                                             552\n",
       "PermanentTournamentNum                                464\n",
       "PlayerFirstName                                      Phil\n",
       "PlayerLastName                                  Mickelson\n",
       "Round                                                   1\n",
       "TournamentName                               Safeway Open\n",
       "CourseName                 Silverado Resort and Spa North\n",
       "Hole                                                    1\n",
       "HoleScore                                               5\n",
       "ParValue                                                4\n",
       "Yardage                                               436\n",
       "Shot                                                    1\n",
       "ShotType                                                S\n",
       "NumStrokes                                              1\n",
       "FromLocationScorer                                Tee Box\n",
       "FromLocationEnhanced                                  NaN\n",
       "ToLocationScorer                            Primary Rough\n",
       "ToLocationEnhanced                            Right Rough\n",
       "Distance                                            10327\n",
       "DistanceToPin                                       15804\n",
       "InTheHoleFlag                                           N\n",
       "AroundTheGreenFlag                                      N\n",
       "FirstPuttFlag                                           N\n",
       "DistanceToHoleAfterShot                              5496\n",
       "Time                                                 1241\n",
       "Lie                                                  Good\n",
       "Elevation                                            With\n",
       "Slope                                               Level\n",
       "XCoordinate                                   10,734.3430\n",
       "YCoordinate                                    9,531.0870\n",
       "ZCoordinate                                       84.1040\n",
       "DistanceFromCenter                                   1104\n",
       "DistanceFromEdge                                      645\n",
       "Date                                           10/13/2016\n",
       "LeftRight                                               R\n",
       "StrokesGainedBaseline                              -0.091\n",
       "StrokesGainedCategory                         Off the Tee\n",
       "RecoveryShot                                           No\n",
       "AMWindSpd                                               C\n",
       "PMWindSpd                                            5-10\n",
       "AMWindDir                                               C\n",
       "PMWindDir                                              DW\n",
       "Name: 0, dtype: object"
      ]
     },
     "execution_count": 7,
     "metadata": {},
     "output_type": "execute_result"
    }
   ],
   "source": [
    "d.iloc[0]"
   ]
  },
  {
   "cell_type": "code",
   "execution_count": 27,
   "metadata": {
    "ExecuteTime": {
     "end_time": "2018-05-08T22:46:51.120535Z",
     "start_time": "2018-05-08T22:46:51.101007Z"
    }
   },
   "outputs": [
    {
     "data": {
      "text/plain": [
       "RL     283335\n",
       "LR     273145\n",
       "DW     182830\n",
       "IW     181358\n",
       "SW     134381\n",
       "NaN     99430\n",
       "C       59958\n",
       "Name: PMWindDir, dtype: int64"
      ]
     },
     "execution_count": 27,
     "metadata": {},
     "output_type": "execute_result"
    }
   ],
   "source": [
    "d['PMWindDir'].value_counts(dropna=False)"
   ]
  },
  {
   "cell_type": "code",
   "execution_count": 8,
   "metadata": {
    "ExecuteTime": {
     "end_time": "2018-05-08T22:31:08.151841Z",
     "start_time": "2018-05-08T22:31:08.130184Z"
    }
   },
   "outputs": [
    {
     "data": {
      "text/plain": [
       "RL     283335\n",
       "LR     273145\n",
       "DW     182830\n",
       "IW     181358\n",
       "SW     134381\n",
       "NaN     99430\n",
       "C       59958\n",
       "Name: PMWindDir, dtype: int64"
      ]
     },
     "execution_count": 8,
     "metadata": {},
     "output_type": "execute_result"
    }
   ],
   "source": [
    "d['PMWindDir'].value_counts(dropna=False)"
   ]
  },
  {
   "cell_type": "code",
   "execution_count": 9,
   "metadata": {
    "ExecuteTime": {
     "end_time": "2018-05-08T22:31:08.430061Z",
     "start_time": "2018-05-08T22:31:08.390361Z"
    }
   },
   "outputs": [
    {
     "data": {
      "text/plain": [
       "236    32785\n",
       "233    11120\n",
       "205    11116\n",
       "104    11101\n",
       "769    11026\n",
       "231    10969\n",
       "202    10910\n",
       "Name: CourseNum, dtype: int64"
      ]
     },
     "execution_count": 9,
     "metadata": {},
     "output_type": "execute_result"
    }
   ],
   "source": [
    "d[d['AMWindDir'].isnull()]['CourseNum'].value_counts(dropna=False)"
   ]
  },
  {
   "cell_type": "code",
   "execution_count": 10,
   "metadata": {
    "ExecuteTime": {
     "end_time": "2018-05-08T22:31:08.762902Z",
     "start_time": "2018-05-08T22:31:08.735275Z"
    }
   },
   "outputs": [
    {
     "data": {
      "text/plain": [
       "241    33972\n",
       "770    33870\n",
       "235    33839\n",
       "513    33357\n",
       "503    33084\n",
       "19     32873\n",
       "32     32843\n",
       "236    32785\n",
       "11     32702\n",
       "669    32401\n",
       "714    32393\n",
       "752    32193\n",
       "729    31886\n",
       "771    31810\n",
       "665    30454\n",
       "6      30430\n",
       "552    30418\n",
       "500    30188\n",
       "538    30101\n",
       "734    29997\n",
       "746    29723\n",
       "742    29342\n",
       "12     29237\n",
       "510    29217\n",
       "819    29000\n",
       "23     28697\n",
       "733    28562\n",
       "9      28142\n",
       "237    27574\n",
       "21     27469\n",
       "238    27010\n",
       "700    24705\n",
       "4      22523\n",
       "240    21670\n",
       "36     21505\n",
       "776    21222\n",
       "789    19235\n",
       "704    16856\n",
       "5      15908\n",
       "185    11585\n",
       "233    11120\n",
       "205    11116\n",
       "104    11101\n",
       "769    11026\n",
       "231    10969\n",
       "202    10910\n",
       "656     9063\n",
       "688     8354\n",
       "Name: CourseNum, dtype: int64"
      ]
     },
     "execution_count": 10,
     "metadata": {},
     "output_type": "execute_result"
    }
   ],
   "source": [
    "d['CourseNum'].value_counts(dropna=False)"
   ]
  },
  {
   "cell_type": "code",
   "execution_count": 11,
   "metadata": {
    "ExecuteTime": {
     "end_time": "2018-05-08T22:31:09.782952Z",
     "start_time": "2018-05-08T22:31:09.752176Z"
    }
   },
   "outputs": [
    {
     "data": {
      "text/plain": [
       "350    32785\n",
       "160    22142\n",
       "130    22030\n",
       "140    11101\n",
       "70     10969\n",
       "Name: TournamentNum, dtype: int64"
      ]
     },
     "execution_count": 11,
     "metadata": {},
     "output_type": "execute_result"
    }
   ],
   "source": [
    "d[d['AMWindDir'].isnull()]['TournamentNum'].value_counts(dropna=False)"
   ]
  },
  {
   "cell_type": "code",
   "execution_count": 12,
   "metadata": {
    "ExecuteTime": {
     "end_time": "2018-05-08T22:31:10.801651Z",
     "start_time": "2018-05-08T22:31:10.776005Z"
    }
   },
   "outputs": [
    {
     "data": {
      "text/plain": [
       "130    38886\n",
       "160    38050\n",
       "450    33972\n",
       "270    33870\n",
       "290    33839\n",
       "140    33624\n",
       "340    33357\n",
       "360    33084\n",
       "310    32873\n",
       "420    32843\n",
       "350    32785\n",
       "300    32702\n",
       "390    32401\n",
       "280    32393\n",
       "460    32193\n",
       "70     32191\n",
       "240    31886\n",
       "380    31810\n",
       "200    30454\n",
       "120    30430\n",
       "10     30418\n",
       "170    30188\n",
       "50     30101\n",
       "180    29997\n",
       "30     29723\n",
       "220    29342\n",
       "260    29237\n",
       "150    29217\n",
       "400    29000\n",
       "330    28697\n",
       "60     28562\n",
       "210    28142\n",
       "370    27574\n",
       "320    27469\n",
       "470    27010\n",
       "480    24705\n",
       "190    21670\n",
       "440    21505\n",
       "490    19235\n",
       "230    11585\n",
       "110     9063\n",
       "500     8354\n",
       "Name: TournamentNum, dtype: int64"
      ]
     },
     "execution_count": 12,
     "metadata": {},
     "output_type": "execute_result"
    }
   ],
   "source": [
    "d['TournamentNum'].value_counts(dropna=False)"
   ]
  },
  {
   "cell_type": "code",
   "execution_count": 16,
   "metadata": {
    "ExecuteTime": {
     "end_time": "2018-05-08T22:32:02.933821Z",
     "start_time": "2018-05-08T22:32:02.913103Z"
    }
   },
   "outputs": [
    {
     "data": {
      "text/plain": [
       "[both]\n",
       "Categories (1, object): [both]"
      ]
     },
     "execution_count": 16,
     "metadata": {},
     "output_type": "execute_result"
    }
   ],
   "source": [
    "d[d['CourseNum'] == 236]['_merge'].unique()"
   ]
  },
  {
   "cell_type": "code",
   "execution_count": 19,
   "metadata": {
    "ExecuteTime": {
     "end_time": "2018-05-08T22:33:43.565047Z",
     "start_time": "2018-05-08T22:33:43.543669Z"
    }
   },
   "outputs": [
    {
     "data": {
      "text/plain": [
       "233    11120\n",
       "205    11116\n",
       "104    11101\n",
       "769    11026\n",
       "231    10969\n",
       "202    10910\n",
       "Name: CourseNum, dtype: int64"
      ]
     },
     "execution_count": 19,
     "metadata": {},
     "output_type": "execute_result"
    }
   ],
   "source": [
    "d[d['_merge'] == 'left_only']['CourseNum'].value_counts(dropna=False)"
   ]
  },
  {
   "cell_type": "code",
   "execution_count": 20,
   "metadata": {
    "ExecuteTime": {
     "end_time": "2018-05-08T22:34:05.713531Z",
     "start_time": "2018-05-08T22:34:05.680303Z"
    }
   },
   "outputs": [
    {
     "data": {
      "text/plain": [
       "TournamentName            CourseName                    \n",
       "The RSM Classic           Sea Island Resort (Plantation)    10969\n",
       "CareerBuilder Challenge   La Quinta CC                      10910\n",
       "                          Nicklaus Tournament Course        11120\n",
       "Farmers Insurance Open    Torrey Pines (North)              11101\n",
       "AT&T Pebble Beach Pro-Am  Monterey Peninsula CC             11026\n",
       "                          Spyglass Hill GC                  11116\n",
       "dtype: int64"
      ]
     },
     "execution_count": 20,
     "metadata": {},
     "output_type": "execute_result"
    }
   ],
   "source": [
    "d[d['_merge'] == 'left_only'].groupby(['TournamentName','CourseName']).size()"
   ]
  },
  {
   "cell_type": "code",
   "execution_count": 22,
   "metadata": {
    "ExecuteTime": {
     "end_time": "2018-05-08T22:36:17.741567Z",
     "start_time": "2018-05-08T22:36:17.640364Z"
    }
   },
   "outputs": [
    {
     "data": {
      "text/plain": [
       "TournamentName            CourseName                    \n",
       "The RSM Classic           Sea Island Resort (Plantation)    10969\n",
       "                          Sea Island Resort (Seaside)       21222\n",
       "CareerBuilder Challenge   La Quinta CC                      10910\n",
       "                          Nicklaus Tournament Course        11120\n",
       "                          Stadium Course                    16856\n",
       "Farmers Insurance Open    Torrey Pines (North)              11101\n",
       "                          Torrey Pines GC (South)           22523\n",
       "AT&T Pebble Beach Pro-Am  Monterey Peninsula CC             11026\n",
       "                          Pebble Beach GL                   15908\n",
       "                          Spyglass Hill GC                  11116\n",
       "dtype: int64"
      ]
     },
     "execution_count": 22,
     "metadata": {},
     "output_type": "execute_result"
    }
   ],
   "source": [
    "d[d['TournamentName'].isin(['The RSM Classic',\n",
    "                            'CareerBuilder Challenge',\n",
    "                            'Farmers Insurance Open',\n",
    "                            'AT&T Pebble Beach Pro-Am'])].groupby(['TournamentName','CourseName']).size()"
   ]
  },
  {
   "cell_type": "markdown",
   "metadata": {},
   "source": [
    "# get_courselevels"
   ]
  },
  {
   "cell_type": "code",
   "execution_count": 8,
   "metadata": {
    "ExecuteTime": {
     "end_time": "2018-05-05T19:50:22.279168Z",
     "start_time": "2018-05-05T19:50:22.224314Z"
    }
   },
   "outputs": [
    {
     "data": {
      "text/plain": [
       "(3438, 34)"
      ]
     },
     "execution_count": 8,
     "metadata": {},
     "output_type": "execute_result"
    }
   ],
   "source": [
    "cls = shotlink.get_courselevels([2017], data_path)\n",
    "cls.shape"
   ]
  },
  {
   "cell_type": "code",
   "execution_count": 9,
   "metadata": {
    "ExecuteTime": {
     "end_time": "2018-05-05T19:50:22.923199Z",
     "start_time": "2018-05-05T19:50:22.916168Z"
    }
   },
   "outputs": [
    {
     "data": {
      "text/plain": [
       "Index(['Year', 'CourseNum', 'CourseName', 'Round', 'Hole', 'FwyWidth250',\n",
       "       'Actual250Distance', 'FwyWidth275', 'Actual275Distance', 'FwyWidth300',\n",
       "       'Actual300Distance', 'FwyWidth325', 'Actual325 Distance', 'FwyWidth350',\n",
       "       'Actual350Distance', 'FwyFirmness', 'GrnFirmness', 'GrnHeight',\n",
       "       'RoughHeight', 'FwyHeight', 'Stimp', 'AMWindSpd', 'AMWindDir',\n",
       "       'PMWindSpd', 'PMWind Dir', 'ScorecardYdg', 'ActualYdg', 'Par',\n",
       "       'GreenGrass', 'FwyGrass', 'TeeGrass', 'BunkerGrass', 'RoughGrass',\n",
       "       'ExtraColumn'],\n",
       "      dtype='object')"
      ]
     },
     "execution_count": 9,
     "metadata": {},
     "output_type": "execute_result"
    }
   ],
   "source": [
    "cls.columns"
   ]
  },
  {
   "cell_type": "code",
   "execution_count": 10,
   "metadata": {
    "ExecuteTime": {
     "end_time": "2018-05-05T19:50:23.452150Z",
     "start_time": "2018-05-05T19:50:23.440980Z"
    }
   },
   "outputs": [
    {
     "data": {
      "text/plain": [
       "185    126\n",
       "819     72\n",
       "752     72\n",
       "742     72\n",
       "734     72\n",
       "714     72\n",
       "704     72\n",
       "700     72\n",
       "688     72\n",
       "660     72\n",
       "656     72\n",
       "552     72\n",
       "538     72\n",
       "510     72\n",
       "500     72\n",
       "240     72\n",
       "238     72\n",
       "236     72\n",
       "232     72\n",
       "36      72\n",
       "32      72\n",
       "12      72\n",
       "6       72\n",
       "746     72\n",
       "766     72\n",
       "789     72\n",
       "770     72\n",
       "771     72\n",
       "733     72\n",
       "729     72\n",
       "669     72\n",
       "665     72\n",
       "513     72\n",
       "503     72\n",
       "241     72\n",
       "239     72\n",
       "237     72\n",
       "235     72\n",
       "23      72\n",
       "21      72\n",
       "19      72\n",
       "11      72\n",
       "9       72\n",
       "5       72\n",
       "800     72\n",
       "776     72\n",
       "4       72\n",
       "Name: CourseNum, dtype: int64"
      ]
     },
     "execution_count": 10,
     "metadata": {},
     "output_type": "execute_result"
    }
   ],
   "source": [
    "cls['CourseNum'].value_counts(dropna=False)"
   ]
  },
  {
   "cell_type": "code",
   "execution_count": 11,
   "metadata": {
    "ExecuteTime": {
     "end_time": "2018-05-05T19:50:23.872968Z",
     "start_time": "2018-05-05T19:50:23.861777Z"
    }
   },
   "outputs": [
    {
     "data": {
      "text/plain": [
       "'0.33 MB'"
      ]
     },
     "execution_count": 11,
     "metadata": {},
     "output_type": "execute_result"
    }
   ],
   "source": [
    "mem_usage(cls)"
   ]
  },
  {
   "cell_type": "code",
   "execution_count": 12,
   "metadata": {
    "ExecuteTime": {
     "end_time": "2018-05-05T19:50:24.507624Z",
     "start_time": "2018-05-05T19:50:24.501323Z"
    }
   },
   "outputs": [
    {
     "data": {
      "text/plain": [
       "Year                    uint16\n",
       "CourseNum               uint16\n",
       "CourseName            category\n",
       "Round                    uint8\n",
       "Hole                     uint8\n",
       "FwyWidth250             uint16\n",
       "Actual250Distance       uint16\n",
       "FwyWidth275             uint16\n",
       "Actual275Distance       uint16\n",
       "FwyWidth300             uint16\n",
       "Actual300Distance       uint16\n",
       "FwyWidth325             uint16\n",
       "Actual325 Distance      uint16\n",
       "FwyWidth350             uint16\n",
       "Actual350Distance       uint16\n",
       "FwyFirmness           category\n",
       "GrnFirmness           category\n",
       "GrnHeight              float32\n",
       "RoughHeight            float32\n",
       "FwyHeight              float32\n",
       "Stimp                 category\n",
       "AMWindSpd             category\n",
       "AMWindDir             category\n",
       "PMWindSpd             category\n",
       "PMWind Dir            category\n",
       "ScorecardYdg            uint16\n",
       "ActualYdg              float32\n",
       "Par                      uint8\n",
       "GreenGrass            category\n",
       "FwyGrass              category\n",
       "TeeGrass              category\n",
       "BunkerGrass           category\n",
       "RoughGrass            category\n",
       "ExtraColumn             object\n",
       "dtype: object"
      ]
     },
     "execution_count": 12,
     "metadata": {},
     "output_type": "execute_result"
    }
   ],
   "source": [
    "cls.dtypes"
   ]
  },
  {
   "cell_type": "code",
   "execution_count": 13,
   "metadata": {
    "ExecuteTime": {
     "end_time": "2018-05-05T19:50:25.013646Z",
     "start_time": "2018-05-05T19:50:25.007723Z"
    }
   },
   "outputs": [
    {
     "data": {
      "text/plain": [
       "odict_keys(['TourCode', 'TourDescription', 'Year', 'TournamentNum', 'PlayerNum', 'CourseNum', 'PermanentTournamentNum', 'PlayerFirstName', 'PlayerLastName', 'Round', 'TournamentName', 'CourseName', 'Hole', 'HoleScore', 'ParValue', 'Yardage', 'Shot', 'ShotType', 'NumStrokes', 'FromLocationScorer', 'FromLocationEnhanced', 'ToLocationScorer', 'ToLocationEnhanced', 'Distance', 'DistanceToPin', 'InTheHoleFlag', 'AroundTheGreenFlag', 'FirstPuttFlag', 'DistanceToHoleAfterShot', 'Time', 'Lie', 'Elevation', 'Slope', 'XCoordinate', 'YCoordinate', 'ZCoordinate', 'DistanceFromCenter', 'DistanceFromEdge', 'Date', 'LeftRight', 'StrokesGainedBaseline', 'StrokesGainedCategory', 'RecoveryShot'])"
      ]
     },
     "execution_count": 13,
     "metadata": {},
     "output_type": "execute_result"
    }
   ],
   "source": [
    "shotlink.shot_dtypes.keys()"
   ]
  },
  {
   "cell_type": "code",
   "execution_count": 14,
   "metadata": {
    "ExecuteTime": {
     "end_time": "2018-05-05T19:50:25.716745Z",
     "start_time": "2018-05-05T19:50:25.707784Z"
    }
   },
   "outputs": [
    {
     "data": {
      "text/plain": [
       "['TourCode',\n",
       " 'TourDescription',\n",
       " 'Year',\n",
       " 'TournamentNum',\n",
       " 'PlayerNum',\n",
       " 'CourseNum',\n",
       " 'PermanentTournamentNum',\n",
       " 'PlayerFirstName',\n",
       " 'PlayerLastName',\n",
       " 'Round',\n",
       " 'TournamentName',\n",
       " 'CourseName',\n",
       " 'Hole',\n",
       " 'HoleScore',\n",
       " 'ParValue',\n",
       " 'Yardage',\n",
       " 'Shot',\n",
       " 'ShotType',\n",
       " 'NumStrokes',\n",
       " 'FromLocationScorer',\n",
       " 'FromLocationEnhanced',\n",
       " 'ToLocationScorer',\n",
       " 'ToLocationEnhanced',\n",
       " 'Distance',\n",
       " 'DistanceToPin',\n",
       " 'InTheHoleFlag',\n",
       " 'AroundTheGreenFlag',\n",
       " 'FirstPuttFlag',\n",
       " 'DistanceToHoleAfterShot',\n",
       " 'Time',\n",
       " 'Lie',\n",
       " 'Elevation',\n",
       " 'Slope',\n",
       " 'XCoordinate',\n",
       " 'YCoordinate',\n",
       " 'ZCoordinate',\n",
       " 'DistanceFromCenter',\n",
       " 'DistanceFromEdge',\n",
       " 'Date',\n",
       " 'LeftRight',\n",
       " 'StrokesGainedBaseline',\n",
       " 'StrokesGainedCategory',\n",
       " 'RecoveryShot']"
      ]
     },
     "execution_count": 14,
     "metadata": {},
     "output_type": "execute_result"
    }
   ],
   "source": [
    "list(shotlink.shot_dtypes.keys())"
   ]
  },
  {
   "cell_type": "code",
   "execution_count": 15,
   "metadata": {
    "ExecuteTime": {
     "end_time": "2018-05-05T19:50:26.250527Z",
     "start_time": "2018-05-05T19:50:26.233698Z"
    }
   },
   "outputs": [
    {
     "data": {
      "text/plain": [
       "NaN       505\n",
       " 437.0     31\n",
       " 443.0     23\n",
       " 442.0     23\n",
       " 452.0     21\n",
       " 430.0     20\n",
       " 438.0     20\n",
       " 444.0     20\n",
       " 448.0     20\n",
       " 421.0     19\n",
       " 459.0     18\n",
       " 434.0     18\n",
       " 461.0     18\n",
       " 406.0     18\n",
       " 420.0     18\n",
       " 435.0     18\n",
       " 447.0     17\n",
       " 454.0     17\n",
       " 431.0     17\n",
       " 451.0     17\n",
       " 432.0     16\n",
       " 467.0     16\n",
       " 453.0     16\n",
       " 457.0     16\n",
       " 470.0     16\n",
       " 456.0     16\n",
       " 415.0     16\n",
       " 393.0     16\n",
       " 183.0     16\n",
       " 189.0     16\n",
       "         ... \n",
       " 585.0      1\n",
       " 287.0      1\n",
       " 331.0      1\n",
       " 338.0      1\n",
       " 649.0      1\n",
       " 105.0      1\n",
       " 123.0      1\n",
       " 648.0      1\n",
       " 293.0      1\n",
       " 595.0      1\n",
       " 594.0      1\n",
       " 273.0      1\n",
       " 251.0      1\n",
       " 741.0      1\n",
       " 607.0      1\n",
       " 259.0      1\n",
       " 773.0      1\n",
       " 999.0      1\n",
       " 358.0      1\n",
       " 612.0      1\n",
       " 660.0      1\n",
       " 620.0      1\n",
       " 614.0      1\n",
       " 481.0      1\n",
       " 764.0      1\n",
       " 133.0      1\n",
       " 995.0      1\n",
       " 109.0      1\n",
       " 333.0      1\n",
       " 677.0      1\n",
       "Name: ActualYdg, Length: 493, dtype: int64"
      ]
     },
     "execution_count": 15,
     "metadata": {},
     "output_type": "execute_result"
    }
   ],
   "source": [
    "cls['ActualYdg'].value_counts(dropna=False)"
   ]
  },
  {
   "cell_type": "markdown",
   "metadata": {},
   "source": [
    "# get_shots"
   ]
  },
  {
   "cell_type": "code",
   "execution_count": 4,
   "metadata": {
    "ExecuteTime": {
     "end_time": "2018-05-10T15:09:17.567782Z",
     "start_time": "2018-05-10T15:09:08.122392Z"
    }
   },
   "outputs": [
    {
     "data": {
      "text/plain": [
       "(1214437, 43)"
      ]
     },
     "execution_count": 4,
     "metadata": {},
     "output_type": "execute_result"
    }
   ],
   "source": [
    "foo = shotlink.get_shots([2017], data_path)\n",
    "foo.shape"
   ]
  },
  {
   "cell_type": "code",
   "execution_count": 5,
   "metadata": {
    "ExecuteTime": {
     "end_time": "2018-05-10T15:11:46.549549Z",
     "start_time": "2018-05-10T15:09:34.100684Z"
    }
   },
   "outputs": [
    {
     "data": {
      "text/plain": [
       "(1214437, 43)"
      ]
     },
     "execution_count": 5,
     "metadata": {},
     "output_type": "execute_result"
    }
   ],
   "source": [
    "foo = shotlink.prepare_shots(foo)\n",
    "foo.shape"
   ]
  },
  {
   "cell_type": "code",
   "execution_count": 59,
   "metadata": {
    "ExecuteTime": {
     "end_time": "2018-05-10T15:25:51.540357Z",
     "start_time": "2018-05-10T15:25:51.467799Z"
    }
   },
   "outputs": [
    {
     "data": {
      "text/html": [
       "<div>\n",
       "<style scoped>\n",
       "    .dataframe tbody tr th:only-of-type {\n",
       "        vertical-align: middle;\n",
       "    }\n",
       "\n",
       "    .dataframe tbody tr th {\n",
       "        vertical-align: top;\n",
       "    }\n",
       "\n",
       "    .dataframe thead th {\n",
       "        text-align: right;\n",
       "    }\n",
       "</style>\n",
       "<table border=\"1\" class=\"dataframe\">\n",
       "  <thead>\n",
       "    <tr style=\"text-align: right;\">\n",
       "      <th></th>\n",
       "      <th>CourseName</th>\n",
       "      <th>Date</th>\n",
       "    </tr>\n",
       "  </thead>\n",
       "  <tbody>\n",
       "    <tr>\n",
       "      <th>0</th>\n",
       "      <td>Silverado Resort and Spa North</td>\n",
       "      <td>2016-10-13</td>\n",
       "    </tr>\n",
       "    <tr>\n",
       "      <th>1</th>\n",
       "      <td>Silverado Resort and Spa North</td>\n",
       "      <td>2016-10-14</td>\n",
       "    </tr>\n",
       "    <tr>\n",
       "      <th>2</th>\n",
       "      <td>Silverado Resort and Spa North</td>\n",
       "      <td>2016-10-15</td>\n",
       "    </tr>\n",
       "    <tr>\n",
       "      <th>3</th>\n",
       "      <td>Silverado Resort and Spa North</td>\n",
       "      <td>2016-10-16</td>\n",
       "    </tr>\n",
       "    <tr>\n",
       "      <th>4</th>\n",
       "      <td>CC of Jackson</td>\n",
       "      <td>2016-10-27</td>\n",
       "    </tr>\n",
       "    <tr>\n",
       "      <th>5</th>\n",
       "      <td>CC of Jackson</td>\n",
       "      <td>2016-10-28</td>\n",
       "    </tr>\n",
       "    <tr>\n",
       "      <th>6</th>\n",
       "      <td>CC of Jackson</td>\n",
       "      <td>2016-10-29</td>\n",
       "    </tr>\n",
       "    <tr>\n",
       "      <th>7</th>\n",
       "      <td>CC of Jackson</td>\n",
       "      <td>2016-10-30</td>\n",
       "    </tr>\n",
       "    <tr>\n",
       "      <th>8</th>\n",
       "      <td>TPC Summerlin</td>\n",
       "      <td>2016-11-03</td>\n",
       "    </tr>\n",
       "    <tr>\n",
       "      <th>9</th>\n",
       "      <td>TPC Summerlin</td>\n",
       "      <td>2016-11-04</td>\n",
       "    </tr>\n",
       "  </tbody>\n",
       "</table>\n",
       "</div>"
      ],
      "text/plain": [
       "                       CourseName       Date\n",
       "0  Silverado Resort and Spa North 2016-10-13\n",
       "1  Silverado Resort and Spa North 2016-10-14\n",
       "2  Silverado Resort and Spa North 2016-10-15\n",
       "3  Silverado Resort and Spa North 2016-10-16\n",
       "4                   CC of Jackson 2016-10-27\n",
       "5                   CC of Jackson 2016-10-28\n",
       "6                   CC of Jackson 2016-10-29\n",
       "7                   CC of Jackson 2016-10-30\n",
       "8                   TPC Summerlin 2016-11-03\n",
       "9                   TPC Summerlin 2016-11-04"
      ]
     },
     "execution_count": 59,
     "metadata": {},
     "output_type": "execute_result"
    }
   ],
   "source": [
    "bar = foo.groupby(['CourseName','Date'], as_index=True).size()\n",
    "sky = pd.DataFrame(bar).reset_index(level=[0,1])[['CourseName', 'Date']]\n",
    "sky[:10]"
   ]
  },
  {
   "cell_type": "code",
   "execution_count": 60,
   "metadata": {
    "ExecuteTime": {
     "end_time": "2018-05-10T15:29:08.245069Z",
     "start_time": "2018-05-10T15:29:08.226468Z"
    }
   },
   "outputs": [
    {
     "data": {
      "text/plain": [
       "183"
      ]
     },
     "execution_count": 60,
     "metadata": {},
     "output_type": "execute_result"
    }
   ],
   "source": [
    "len(sky)"
   ]
  },
  {
   "cell_type": "code",
   "execution_count": 65,
   "metadata": {
    "ExecuteTime": {
     "end_time": "2018-05-10T15:29:56.550010Z",
     "start_time": "2018-05-10T15:29:56.539888Z"
    }
   },
   "outputs": [
    {
     "data": {
      "text/plain": [
       "East Lake GC                      4\n",
       "Pebble Beach GL                   4\n",
       "GC of Houston                     4\n",
       "Conway Farms GC                   4\n",
       "Coco Beach Golf & CC              4\n",
       "Bay Hill Club & Lodge             4\n",
       "Innisbrook Resort (Copperhead)    4\n",
       "Club de Golf Chapultepec          4\n",
       "PGA National (Champion)           4\n",
       "Riviera CC                        4\n",
       "TPC Scottsdale                    4\n",
       "TPC San Antonio - AT&T Oaks       4\n",
       "Torrey Pines GC (South)           4\n",
       "Stadium Course                    4\n",
       "Waialae CC                        4\n",
       "Plantation Course at Kapalua      4\n",
       "Sea Island Resort (Seaside)       4\n",
       "El Camaleon GC                    4\n",
       "TPC Summerlin                     4\n",
       "CC of Jackson                     4\n",
       "Harbour Town GL                   4\n",
       "Silverado Resort and Spa North    4\n",
       "TPC Louisiana                     4\n",
       "The Old White TPC                 4\n",
       "TPC Boston                        4\n",
       "Glen Oaks Club                    4\n",
       "Sedgefield CC                     4\n",
       "Quail Hollow-PGA Championship     4\n",
       "Firestone CC (South)              4\n",
       "Glen Abbey GC                     4\n",
       "RTJ Trail (Grand National)        4\n",
       "Eagle Point Golf Club             4\n",
       "TPC Deere Run                     4\n",
       "TPC Potomac at Avenel Farm        4\n",
       "TPC River Highlands               4\n",
       "Erin Hills                        4\n",
       "TPC Southwind                     4\n",
       "Muirfield Village GC              4\n",
       "Colonial CC                       4\n",
       "TPC Four Seasons Resort           4\n",
       "TPC Sawgrass                      4\n",
       "Monterey Peninsula CC             3\n",
       "Spyglass Hill GC                  3\n",
       "Nicklaus Tournament Course        3\n",
       "La Quinta CC                      3\n",
       "Austin Country Club               3\n",
       "Torrey Pines (North)              2\n",
       "Sea Island Resort (Plantation)    2\n",
       "Name: CourseName, dtype: int64"
      ]
     },
     "execution_count": 65,
     "metadata": {},
     "output_type": "execute_result"
    }
   ],
   "source": [
    "sky['CourseName'].value_counts(dropna=False)"
   ]
  },
  {
   "cell_type": "code",
   "execution_count": 64,
   "metadata": {
    "ExecuteTime": {
     "end_time": "2018-05-10T15:29:50.803818Z",
     "start_time": "2018-05-10T15:29:50.797544Z"
    }
   },
   "outputs": [
    {
     "data": {
      "text/plain": [
       "48"
      ]
     },
     "execution_count": 64,
     "metadata": {},
     "output_type": "execute_result"
    }
   ],
   "source": [
    "len(sky['CourseName'].unique())"
   ]
  },
  {
   "cell_type": "code",
   "execution_count": 55,
   "metadata": {
    "ExecuteTime": {
     "end_time": "2018-05-10T15:24:45.224769Z",
     "start_time": "2018-05-10T15:24:45.219632Z"
    }
   },
   "outputs": [
    {
     "data": {
      "text/plain": [
       "pandas.core.series.Series"
      ]
     },
     "execution_count": 55,
     "metadata": {},
     "output_type": "execute_result"
    }
   ],
   "source": [
    "type(sky)"
   ]
  },
  {
   "cell_type": "code",
   "execution_count": 56,
   "metadata": {
    "ExecuteTime": {
     "end_time": "2018-05-10T15:24:45.962799Z",
     "start_time": "2018-05-10T15:24:45.956481Z"
    }
   },
   "outputs": [
    {
     "data": {
      "text/plain": [
       "Timestamp('2016-10-13 00:00:00')"
      ]
     },
     "execution_count": 56,
     "metadata": {},
     "output_type": "execute_result"
    }
   ],
   "source": [
    "sky.iloc[0]"
   ]
  },
  {
   "cell_type": "code",
   "execution_count": 57,
   "metadata": {
    "ExecuteTime": {
     "end_time": "2018-05-10T15:24:47.140342Z",
     "start_time": "2018-05-10T15:24:47.132566Z"
    }
   },
   "outputs": [
    {
     "data": {
      "text/plain": [
       "0   2016-10-13\n",
       "0   2016-10-14\n",
       "0   2016-10-15\n",
       "0   2016-10-16\n",
       "Name: Date, dtype: datetime64[ns]"
      ]
     },
     "execution_count": 57,
     "metadata": {},
     "output_type": "execute_result"
    }
   ],
   "source": [
    "sky[0]"
   ]
  },
  {
   "cell_type": "code",
   "execution_count": null,
   "metadata": {},
   "outputs": [],
   "source": []
  },
  {
   "cell_type": "code",
   "execution_count": 17,
   "metadata": {
    "ExecuteTime": {
     "end_time": "2018-05-05T19:50:38.012814Z",
     "start_time": "2018-05-05T19:50:38.002913Z"
    }
   },
   "outputs": [
    {
     "data": {
      "text/plain": [
       "TourCode                   category\n",
       "TourDescription            category\n",
       "Year                         uint16\n",
       "TournamentNum                uint16\n",
       "PlayerNum                    uint16\n",
       "CourseNum                    uint16\n",
       "PermanentTournamentNum       uint16\n",
       "PlayerFirstName            category\n",
       "PlayerLastName             category\n",
       "Round                         uint8\n",
       "TournamentName             category\n",
       "CourseName                 category\n",
       "Hole                          uint8\n",
       "HoleScore                   float32\n",
       "ParValue                      uint8\n",
       "Yardage                      uint16\n",
       "Shot                          uint8\n",
       "ShotType                   category\n",
       "NumStrokes                    uint8\n",
       "FromLocationScorer         category\n",
       "FromLocationEnhanced         object\n",
       "ToLocationScorer           category\n",
       "ToLocationEnhanced         category\n",
       "Distance                     uint16\n",
       "DistanceToPin                uint16\n",
       "InTheHoleFlag              category\n",
       "AroundTheGreenFlag         category\n",
       "FirstPuttFlag              category\n",
       "DistanceToHoleAfterShot      uint16\n",
       "Time                         uint16\n",
       "Lie                        category\n",
       "Elevation                  category\n",
       "Slope                      category\n",
       "XCoordinate                  object\n",
       "YCoordinate                  object\n",
       "ZCoordinate                  object\n",
       "DistanceFromCenter           uint16\n",
       "DistanceFromEdge             uint16\n",
       "Date                         object\n",
       "LeftRight                  category\n",
       "StrokesGainedBaseline       float32\n",
       "StrokesGainedCategory      category\n",
       "RecoveryShot               category\n",
       "dtype: object"
      ]
     },
     "execution_count": 17,
     "metadata": {},
     "output_type": "execute_result"
    }
   ],
   "source": [
    "foo.dtypes"
   ]
  },
  {
   "cell_type": "code",
   "execution_count": 22,
   "metadata": {
    "ExecuteTime": {
     "end_time": "2018-05-05T19:51:42.062320Z",
     "start_time": "2018-05-05T19:51:41.776943Z"
    }
   },
   "outputs": [
    {
     "data": {
      "text/plain": [
       "<matplotlib.axes._subplots.AxesSubplot at 0x10dc5c710>"
      ]
     },
     "execution_count": 22,
     "metadata": {},
     "output_type": "execute_result"
    },
    {
     "data": {
      "image/png": "[encoded data removed]",
      "text/plain": [
       "<matplotlib.figure.Figure at 0x117abfc18>"
      ]
     },
     "metadata": {},
     "output_type": "display_data"
    }
   ],
   "source": [
    "foo['Time'].plot.hist()"
   ]
  },
  {
   "cell_type": "code",
   "execution_count": 24,
   "metadata": {
    "ExecuteTime": {
     "end_time": "2018-05-05T19:52:17.601127Z",
     "start_time": "2018-05-05T19:52:17.581434Z"
    }
   },
   "outputs": [
    {
     "data": {
      "text/plain": [
       "(640, 2058, 1418)"
      ]
     },
     "execution_count": 24,
     "metadata": {},
     "output_type": "execute_result"
    }
   ],
   "source": [
    "foo['Time'].min(), foo['Time'].max(), foo['Time'].max() - foo['Time'].min()"
   ]
  },
  {
   "cell_type": "code",
   "execution_count": 27,
   "metadata": {
    "ExecuteTime": {
     "end_time": "2018-05-05T19:54:02.839288Z",
     "start_time": "2018-05-05T19:54:02.822249Z"
    }
   },
   "outputs": [
    {
     "data": {
      "text/plain": [
       "42"
      ]
     },
     "execution_count": 27,
     "metadata": {},
     "output_type": "execute_result"
    }
   ],
   "source": [
    "len(foo['TournamentNum'].unique())"
   ]
  },
  {
   "cell_type": "code",
   "execution_count": 28,
   "metadata": {
    "ExecuteTime": {
     "end_time": "2018-05-05T19:54:42.342337Z",
     "start_time": "2018-05-05T19:54:42.330038Z"
    }
   },
   "outputs": [
    {
     "data": {
      "text/plain": [
       "TourCode                                                R\n",
       "TourDescription                                  PGA TOUR\n",
       "Year                                                 2017\n",
       "TournamentNum                                          10\n",
       "PlayerNum                                            1810\n",
       "CourseNum                                             552\n",
       "PermanentTournamentNum                                464\n",
       "PlayerFirstName                                      Phil\n",
       "PlayerLastName                                  Mickelson\n",
       "Round                                                   1\n",
       "TournamentName                               Safeway Open\n",
       "CourseName                 Silverado Resort and Spa North\n",
       "Hole                                                    1\n",
       "HoleScore                                               5\n",
       "ParValue                                                4\n",
       "Yardage                                               436\n",
       "Shot                                                    1\n",
       "ShotType                                                S\n",
       "NumStrokes                                              1\n",
       "FromLocationScorer                                Tee Box\n",
       "FromLocationEnhanced                                  NaN\n",
       "ToLocationScorer                            Primary Rough\n",
       "ToLocationEnhanced                            Right Rough\n",
       "Distance                                            10327\n",
       "DistanceToPin                                       15804\n",
       "InTheHoleFlag                                           N\n",
       "AroundTheGreenFlag                                      N\n",
       "FirstPuttFlag                                           N\n",
       "DistanceToHoleAfterShot                              5496\n",
       "Time                                                 1241\n",
       "Lie                                                  Good\n",
       "Elevation                                            With\n",
       "Slope                                               Level\n",
       "XCoordinate                                   10,734.3430\n",
       "YCoordinate                                    9,531.0870\n",
       "ZCoordinate                                       84.1040\n",
       "DistanceFromCenter                                   1104\n",
       "DistanceFromEdge                                      645\n",
       "Date                                           10/13/2016\n",
       "LeftRight                                               R\n",
       "StrokesGainedBaseline                              -0.091\n",
       "StrokesGainedCategory                         Off the Tee\n",
       "RecoveryShot                                           No\n",
       "Name: 0, dtype: object"
      ]
     },
     "execution_count": 28,
     "metadata": {},
     "output_type": "execute_result"
    }
   ],
   "source": [
    "foo.iloc[0]"
   ]
  },
  {
   "cell_type": "code",
   "execution_count": 29,
   "metadata": {
    "ExecuteTime": {
     "end_time": "2018-05-05T19:54:44.402115Z",
     "start_time": "2018-05-05T19:54:44.394331Z"
    }
   },
   "outputs": [
    {
     "data": {
      "text/plain": [
       "TourCode                   category\n",
       "TourDescription            category\n",
       "Year                         uint16\n",
       "TournamentNum                uint16\n",
       "PlayerNum                    uint16\n",
       "CourseNum                    uint16\n",
       "PermanentTournamentNum       uint16\n",
       "PlayerFirstName            category\n",
       "PlayerLastName             category\n",
       "Round                         uint8\n",
       "TournamentName             category\n",
       "CourseName                 category\n",
       "Hole                          uint8\n",
       "HoleScore                   float32\n",
       "ParValue                      uint8\n",
       "Yardage                      uint16\n",
       "Shot                          uint8\n",
       "ShotType                   category\n",
       "NumStrokes                    uint8\n",
       "FromLocationScorer         category\n",
       "FromLocationEnhanced         object\n",
       "ToLocationScorer           category\n",
       "ToLocationEnhanced         category\n",
       "Distance                     uint16\n",
       "DistanceToPin                uint16\n",
       "InTheHoleFlag              category\n",
       "AroundTheGreenFlag         category\n",
       "FirstPuttFlag              category\n",
       "DistanceToHoleAfterShot      uint16\n",
       "Time                         uint16\n",
       "Lie                        category\n",
       "Elevation                  category\n",
       "Slope                      category\n",
       "XCoordinate                  object\n",
       "YCoordinate                  object\n",
       "ZCoordinate                  object\n",
       "DistanceFromCenter           uint16\n",
       "DistanceFromEdge             uint16\n",
       "Date                         object\n",
       "LeftRight                  category\n",
       "StrokesGainedBaseline       float32\n",
       "StrokesGainedCategory      category\n",
       "RecoveryShot               category\n",
       "dtype: object"
      ]
     },
     "execution_count": 29,
     "metadata": {},
     "output_type": "execute_result"
    }
   ],
   "source": [
    "foo.dtypes"
   ]
  },
  {
   "cell_type": "code",
   "execution_count": 14,
   "metadata": {},
   "outputs": [],
   "source": [
    "foo['Date'] = pd.to_datetime(foo['Date'])"
   ]
  },
  {
   "cell_type": "code",
   "execution_count": 15,
   "metadata": {},
   "outputs": [
    {
     "data": {
      "text/plain": [
       "TourCode                         category\n",
       "TourDescription                  category\n",
       "Year                               uint16\n",
       "TournamentNum                      uint16\n",
       "PlayerNum                          uint16\n",
       "CourseNum                          uint16\n",
       "PermanentTournamentNum             uint16\n",
       "PlayerFirstName                  category\n",
       "PlayerLastName                   category\n",
       "Round                               uint8\n",
       "TournamentName                   category\n",
       "CourseName                       category\n",
       "Hole                                uint8\n",
       "HoleScore                         float32\n",
       "ParValue                            uint8\n",
       "Yardage                            uint16\n",
       "Shot                                uint8\n",
       "ShotType                         category\n",
       "NumStrokes                          uint8\n",
       "FromLocationScorer               category\n",
       "FromLocationEnhanced               object\n",
       "ToLocationScorer                 category\n",
       "ToLocationEnhanced               category\n",
       "Distance                           uint16\n",
       "DistanceToPin                      uint16\n",
       "InTheHoleFlag                    category\n",
       "AroundTheGreenFlag               category\n",
       "FirstPuttFlag                    category\n",
       "DistanceToHoleAfterShot            uint16\n",
       "Time                               uint16\n",
       "Lie                              category\n",
       "Elevation                        category\n",
       "Slope                            category\n",
       "XCoordinate                        object\n",
       "YCoordinate                        object\n",
       "ZCoordinate                        object\n",
       "DistanceFromCenter                 uint16\n",
       "DistanceFromEdge                   uint16\n",
       "Date                       datetime64[ns]\n",
       "LeftRight                        category\n",
       "StrokesGainedBaseline             float32\n",
       "StrokesGainedCategory            category\n",
       "RecoveryShot                     category\n",
       "dtype: object"
      ]
     },
     "execution_count": 15,
     "metadata": {},
     "output_type": "execute_result"
    }
   ],
   "source": [
    "foo.dtypes"
   ]
  },
  {
   "cell_type": "code",
   "execution_count": 18,
   "metadata": {},
   "outputs": [
    {
     "data": {
      "text/plain": [
       "'datetime64[ns]'"
      ]
     },
     "execution_count": 18,
     "metadata": {},
     "output_type": "execute_result"
    }
   ],
   "source": [
    "str(foo['Date'].dtype)"
   ]
  },
  {
   "cell_type": "code",
   "execution_count": null,
   "metadata": {},
   "outputs": [],
   "source": []
  },
  {
   "cell_type": "code",
   "execution_count": 14,
   "metadata": {
    "ExecuteTime": {
     "end_time": "2018-05-11T03:14:23.942345Z",
     "start_time": "2018-05-11T03:14:15.261599Z"
    }
   },
   "outputs": [
    {
     "data": {
      "text/plain": [
       "(1125170, 43)"
      ]
     },
     "execution_count": 14,
     "metadata": {},
     "output_type": "execute_result"
    }
   ],
   "source": [
    "foo = shotlink.get_shots([2011], data_path)\n",
    "foo.shape"
   ]
  },
  {
   "cell_type": "code",
   "execution_count": 15,
   "metadata": {
    "ExecuteTime": {
     "end_time": "2018-05-11T03:14:24.276491Z",
     "start_time": "2018-05-11T03:14:23.945059Z"
    }
   },
   "outputs": [
    {
     "data": {
      "text/html": [
       "<div>\n",
       "<style scoped>\n",
       "    .dataframe tbody tr th:only-of-type {\n",
       "        vertical-align: middle;\n",
       "    }\n",
       "\n",
       "    .dataframe tbody tr th {\n",
       "        vertical-align: top;\n",
       "    }\n",
       "\n",
       "    .dataframe thead th {\n",
       "        text-align: right;\n",
       "    }\n",
       "</style>\n",
       "<table border=\"1\" class=\"dataframe\">\n",
       "  <thead>\n",
       "    <tr style=\"text-align: right;\">\n",
       "      <th></th>\n",
       "      <th>TourCode</th>\n",
       "      <th>TourDescription</th>\n",
       "      <th>Year</th>\n",
       "      <th>TournamentNum</th>\n",
       "      <th>PlayerNum</th>\n",
       "      <th>CourseNum</th>\n",
       "      <th>PermanentTournamentNum</th>\n",
       "      <th>PlayerFirstName</th>\n",
       "      <th>PlayerLastName</th>\n",
       "      <th>Round</th>\n",
       "      <th>...</th>\n",
       "      <th>XCoordinate</th>\n",
       "      <th>YCoordinate</th>\n",
       "      <th>ZCoordinate</th>\n",
       "      <th>DistanceFromCenter</th>\n",
       "      <th>DistanceFromEdge</th>\n",
       "      <th>Date</th>\n",
       "      <th>LeftRight</th>\n",
       "      <th>StrokesGainedBaseline</th>\n",
       "      <th>StrokesGainedCategory</th>\n",
       "      <th>RecoveryShot</th>\n",
       "    </tr>\n",
       "  </thead>\n",
       "  <tbody>\n",
       "    <tr>\n",
       "      <th>210142</th>\n",
       "      <td>R</td>\n",
       "      <td>PGA TOUR</td>\n",
       "      <td>2011</td>\n",
       "      <td>100</td>\n",
       "      <td>1381</td>\n",
       "      <td>734</td>\n",
       "      <td>10</td>\n",
       "      <td>Fred</td>\n",
       "      <td>Funk</td>\n",
       "      <td>1</td>\n",
       "      <td>...</td>\n",
       "      <td>11,037.8140</td>\n",
       "      <td>11,212.6590</td>\n",
       "      <td>13.6290</td>\n",
       "      <td>237</td>\n",
       "      <td>135</td>\n",
       "      <td>12/30/1899</td>\n",
       "      <td>L</td>\n",
       "      <td>0.132</td>\n",
       "      <td>Off the Tee</td>\n",
       "      <td>No</td>\n",
       "    </tr>\n",
       "  </tbody>\n",
       "</table>\n",
       "<p>1 rows × 43 columns</p>\n",
       "</div>"
      ],
      "text/plain": [
       "       TourCode TourDescription  Year  TournamentNum  PlayerNum  CourseNum  \\\n",
       "210142        R        PGA TOUR  2011            100       1381        734   \n",
       "\n",
       "        PermanentTournamentNum PlayerFirstName PlayerLastName  Round  \\\n",
       "210142                      10            Fred           Funk      1   \n",
       "\n",
       "           ...        XCoordinate   YCoordinate   ZCoordinate  \\\n",
       "210142     ...        11,037.8140   11,212.6590       13.6290   \n",
       "\n",
       "        DistanceFromCenter  DistanceFromEdge        Date  LeftRight  \\\n",
       "210142                 237               135  12/30/1899          L   \n",
       "\n",
       "       StrokesGainedBaseline  StrokesGainedCategory RecoveryShot  \n",
       "210142                 0.132            Off the Tee           No  \n",
       "\n",
       "[1 rows x 43 columns]"
      ]
     },
     "execution_count": 15,
     "metadata": {},
     "output_type": "execute_result"
    }
   ],
   "source": [
    "foo[foo['Date'] == '12/30/1899']"
   ]
  },
  {
   "cell_type": "code",
   "execution_count": 16,
   "metadata": {
    "ExecuteTime": {
     "end_time": "2018-05-11T03:14:24.333380Z",
     "start_time": "2018-05-11T03:14:24.279219Z"
    }
   },
   "outputs": [
    {
     "data": {
      "text/plain": [
       "'12/30/1899'"
      ]
     },
     "execution_count": 16,
     "metadata": {},
     "output_type": "execute_result"
    }
   ],
   "source": [
    "foo.loc[210142]['Date']"
   ]
  },
  {
   "cell_type": "code",
   "execution_count": 17,
   "metadata": {
    "ExecuteTime": {
     "end_time": "2018-05-11T03:14:24.344157Z",
     "start_time": "2018-05-11T03:14:24.335444Z"
    }
   },
   "outputs": [
    {
     "data": {
      "text/plain": [
       "dtype('O')"
      ]
     },
     "execution_count": 17,
     "metadata": {},
     "output_type": "execute_result"
    }
   ],
   "source": [
    "foo.dtypes['Date']"
   ]
  },
  {
   "cell_type": "code",
   "execution_count": 18,
   "metadata": {
    "ExecuteTime": {
     "end_time": "2018-05-11T03:14:31.402148Z",
     "start_time": "2018-05-11T03:14:28.721726Z"
    }
   },
   "outputs": [
    {
     "data": {
      "text/plain": [
       "(1125170, 43)"
      ]
     },
     "execution_count": 18,
     "metadata": {},
     "output_type": "execute_result"
    }
   ],
   "source": [
    "foo_prepared = shotlink.prepare_shots(foo)\n",
    "foo_prepared.shape"
   ]
  },
  {
   "cell_type": "code",
   "execution_count": 21,
   "metadata": {
    "ExecuteTime": {
     "end_time": "2018-05-11T03:14:53.437492Z",
     "start_time": "2018-05-11T03:14:53.429561Z"
    }
   },
   "outputs": [
    {
     "data": {
      "text/plain": [
       "dtype('<M8[ns]')"
      ]
     },
     "execution_count": 21,
     "metadata": {},
     "output_type": "execute_result"
    }
   ],
   "source": [
    "foo_prepared.dtypes['Date']"
   ]
  },
  {
   "cell_type": "code",
   "execution_count": 22,
   "metadata": {
    "ExecuteTime": {
     "end_time": "2018-05-11T03:14:55.109461Z",
     "start_time": "2018-05-11T03:14:55.102388Z"
    }
   },
   "outputs": [
    {
     "data": {
      "text/plain": [
       "Timestamp('2011-03-03 00:00:00')"
      ]
     },
     "execution_count": 22,
     "metadata": {},
     "output_type": "execute_result"
    }
   ],
   "source": [
    "foo_prepared.loc[210142]['Date']"
   ]
  },
  {
   "cell_type": "code",
   "execution_count": 25,
   "metadata": {
    "ExecuteTime": {
     "end_time": "2018-05-11T03:15:17.353407Z",
     "start_time": "2018-05-11T03:15:17.315175Z"
    }
   },
   "outputs": [
    {
     "data": {
      "text/html": [
       "<div>\n",
       "<style scoped>\n",
       "    .dataframe tbody tr th:only-of-type {\n",
       "        vertical-align: middle;\n",
       "    }\n",
       "\n",
       "    .dataframe tbody tr th {\n",
       "        vertical-align: top;\n",
       "    }\n",
       "\n",
       "    .dataframe thead th {\n",
       "        text-align: right;\n",
       "    }\n",
       "</style>\n",
       "<table border=\"1\" class=\"dataframe\">\n",
       "  <thead>\n",
       "    <tr style=\"text-align: right;\">\n",
       "      <th></th>\n",
       "      <th>TourCode</th>\n",
       "      <th>TourDescription</th>\n",
       "      <th>Year</th>\n",
       "      <th>TournamentNum</th>\n",
       "      <th>PlayerNum</th>\n",
       "      <th>CourseNum</th>\n",
       "      <th>PermanentTournamentNum</th>\n",
       "      <th>PlayerFirstName</th>\n",
       "      <th>PlayerLastName</th>\n",
       "      <th>Round</th>\n",
       "      <th>...</th>\n",
       "      <th>XCoordinate</th>\n",
       "      <th>YCoordinate</th>\n",
       "      <th>ZCoordinate</th>\n",
       "      <th>DistanceFromCenter</th>\n",
       "      <th>DistanceFromEdge</th>\n",
       "      <th>Date</th>\n",
       "      <th>LeftRight</th>\n",
       "      <th>StrokesGainedBaseline</th>\n",
       "      <th>StrokesGainedCategory</th>\n",
       "      <th>RecoveryShot</th>\n",
       "    </tr>\n",
       "  </thead>\n",
       "  <tbody>\n",
       "    <tr>\n",
       "      <th>210137</th>\n",
       "      <td>R</td>\n",
       "      <td>PGA TOUR</td>\n",
       "      <td>2011</td>\n",
       "      <td>100</td>\n",
       "      <td>1161</td>\n",
       "      <td>734</td>\n",
       "      <td>10</td>\n",
       "      <td>Mark</td>\n",
       "      <td>Calcavecchia</td>\n",
       "      <td>1</td>\n",
       "      <td>...</td>\n",
       "      <td>11,721.8550</td>\n",
       "      <td>10,504.8570</td>\n",
       "      <td>15.0190</td>\n",
       "      <td>195</td>\n",
       "      <td>469</td>\n",
       "      <td>2011-03-03</td>\n",
       "      <td>L</td>\n",
       "      <td>-0.099</td>\n",
       "      <td>Off the Tee</td>\n",
       "      <td>No</td>\n",
       "    </tr>\n",
       "    <tr>\n",
       "      <th>210138</th>\n",
       "      <td>R</td>\n",
       "      <td>PGA TOUR</td>\n",
       "      <td>2011</td>\n",
       "      <td>100</td>\n",
       "      <td>1161</td>\n",
       "      <td>734</td>\n",
       "      <td>10</td>\n",
       "      <td>Mark</td>\n",
       "      <td>Calcavecchia</td>\n",
       "      <td>1</td>\n",
       "      <td>...</td>\n",
       "      <td>12,029.8870</td>\n",
       "      <td>10,996.0090</td>\n",
       "      <td>12.4520</td>\n",
       "      <td>387</td>\n",
       "      <td>0</td>\n",
       "      <td>2011-03-03</td>\n",
       "      <td>R</td>\n",
       "      <td>-0.052</td>\n",
       "      <td>Approach to the Green</td>\n",
       "      <td>No</td>\n",
       "    </tr>\n",
       "    <tr>\n",
       "      <th>210139</th>\n",
       "      <td>R</td>\n",
       "      <td>PGA TOUR</td>\n",
       "      <td>2011</td>\n",
       "      <td>100</td>\n",
       "      <td>1161</td>\n",
       "      <td>734</td>\n",
       "      <td>10</td>\n",
       "      <td>Mark</td>\n",
       "      <td>Calcavecchia</td>\n",
       "      <td>1</td>\n",
       "      <td>...</td>\n",
       "      <td>12,287.3800</td>\n",
       "      <td>11,255.6980</td>\n",
       "      <td>14.9770</td>\n",
       "      <td>146</td>\n",
       "      <td>209</td>\n",
       "      <td>2011-03-03</td>\n",
       "      <td>NaN</td>\n",
       "      <td>-0.212</td>\n",
       "      <td>Approach to the Green</td>\n",
       "      <td>No</td>\n",
       "    </tr>\n",
       "    <tr>\n",
       "      <th>210140</th>\n",
       "      <td>R</td>\n",
       "      <td>PGA TOUR</td>\n",
       "      <td>2011</td>\n",
       "      <td>100</td>\n",
       "      <td>1161</td>\n",
       "      <td>734</td>\n",
       "      <td>10</td>\n",
       "      <td>Mark</td>\n",
       "      <td>Calcavecchia</td>\n",
       "      <td>1</td>\n",
       "      <td>...</td>\n",
       "      <td>12,269.0940</td>\n",
       "      <td>11,249.5880</td>\n",
       "      <td>14.6310</td>\n",
       "      <td>51</td>\n",
       "      <td>250</td>\n",
       "      <td>2011-03-03</td>\n",
       "      <td>L</td>\n",
       "      <td>-0.254</td>\n",
       "      <td>Around the Green</td>\n",
       "      <td>No</td>\n",
       "    </tr>\n",
       "    <tr>\n",
       "      <th>210141</th>\n",
       "      <td>R</td>\n",
       "      <td>PGA TOUR</td>\n",
       "      <td>2011</td>\n",
       "      <td>100</td>\n",
       "      <td>1161</td>\n",
       "      <td>734</td>\n",
       "      <td>10</td>\n",
       "      <td>Mark</td>\n",
       "      <td>Calcavecchia</td>\n",
       "      <td>1</td>\n",
       "      <td>...</td>\n",
       "      <td>.0000</td>\n",
       "      <td>.0000</td>\n",
       "      <td>.0000</td>\n",
       "      <td>0</td>\n",
       "      <td>0</td>\n",
       "      <td>2011-03-03</td>\n",
       "      <td>NaN</td>\n",
       "      <td>0.302</td>\n",
       "      <td>Putting</td>\n",
       "      <td>No</td>\n",
       "    </tr>\n",
       "    <tr>\n",
       "      <th>210142</th>\n",
       "      <td>R</td>\n",
       "      <td>PGA TOUR</td>\n",
       "      <td>2011</td>\n",
       "      <td>100</td>\n",
       "      <td>1381</td>\n",
       "      <td>734</td>\n",
       "      <td>10</td>\n",
       "      <td>Fred</td>\n",
       "      <td>Funk</td>\n",
       "      <td>1</td>\n",
       "      <td>...</td>\n",
       "      <td>11,037.8140</td>\n",
       "      <td>11,212.6590</td>\n",
       "      <td>13.6290</td>\n",
       "      <td>237</td>\n",
       "      <td>135</td>\n",
       "      <td>2011-03-03</td>\n",
       "      <td>L</td>\n",
       "      <td>0.132</td>\n",
       "      <td>Off the Tee</td>\n",
       "      <td>No</td>\n",
       "    </tr>\n",
       "    <tr>\n",
       "      <th>210143</th>\n",
       "      <td>R</td>\n",
       "      <td>PGA TOUR</td>\n",
       "      <td>2011</td>\n",
       "      <td>100</td>\n",
       "      <td>1381</td>\n",
       "      <td>734</td>\n",
       "      <td>10</td>\n",
       "      <td>Fred</td>\n",
       "      <td>Funk</td>\n",
       "      <td>1</td>\n",
       "      <td>...</td>\n",
       "      <td>10,743.7660</td>\n",
       "      <td>11,139.5740</td>\n",
       "      <td>15.6070</td>\n",
       "      <td>420</td>\n",
       "      <td>157</td>\n",
       "      <td>2011-03-03</td>\n",
       "      <td>R</td>\n",
       "      <td>-0.230</td>\n",
       "      <td>Approach to the Green</td>\n",
       "      <td>No</td>\n",
       "    </tr>\n",
       "    <tr>\n",
       "      <th>210144</th>\n",
       "      <td>R</td>\n",
       "      <td>PGA TOUR</td>\n",
       "      <td>2011</td>\n",
       "      <td>100</td>\n",
       "      <td>1381</td>\n",
       "      <td>734</td>\n",
       "      <td>10</td>\n",
       "      <td>Fred</td>\n",
       "      <td>Funk</td>\n",
       "      <td>1</td>\n",
       "      <td>...</td>\n",
       "      <td>10,751.0090</td>\n",
       "      <td>11,096.3160</td>\n",
       "      <td>16.6180</td>\n",
       "      <td>88</td>\n",
       "      <td>414</td>\n",
       "      <td>2011-03-03</td>\n",
       "      <td>L</td>\n",
       "      <td>-0.428</td>\n",
       "      <td>Putting</td>\n",
       "      <td>No</td>\n",
       "    </tr>\n",
       "    <tr>\n",
       "      <th>210145</th>\n",
       "      <td>R</td>\n",
       "      <td>PGA TOUR</td>\n",
       "      <td>2011</td>\n",
       "      <td>100</td>\n",
       "      <td>1381</td>\n",
       "      <td>734</td>\n",
       "      <td>10</td>\n",
       "      <td>Fred</td>\n",
       "      <td>Funk</td>\n",
       "      <td>1</td>\n",
       "      <td>...</td>\n",
       "      <td>.0000</td>\n",
       "      <td>.0000</td>\n",
       "      <td>.0000</td>\n",
       "      <td>0</td>\n",
       "      <td>0</td>\n",
       "      <td>2011-03-03</td>\n",
       "      <td>NaN</td>\n",
       "      <td>0.459</td>\n",
       "      <td>Putting</td>\n",
       "      <td>No</td>\n",
       "    </tr>\n",
       "    <tr>\n",
       "      <th>210146</th>\n",
       "      <td>R</td>\n",
       "      <td>PGA TOUR</td>\n",
       "      <td>2011</td>\n",
       "      <td>100</td>\n",
       "      <td>1381</td>\n",
       "      <td>734</td>\n",
       "      <td>10</td>\n",
       "      <td>Fred</td>\n",
       "      <td>Funk</td>\n",
       "      <td>1</td>\n",
       "      <td>...</td>\n",
       "      <td>10,062.6670</td>\n",
       "      <td>11,701.5800</td>\n",
       "      <td>14.1800</td>\n",
       "      <td>474</td>\n",
       "      <td>78</td>\n",
       "      <td>2011-03-03</td>\n",
       "      <td>R</td>\n",
       "      <td>0.025</td>\n",
       "      <td>Off the Tee</td>\n",
       "      <td>No</td>\n",
       "    </tr>\n",
       "  </tbody>\n",
       "</table>\n",
       "<p>10 rows × 43 columns</p>\n",
       "</div>"
      ],
      "text/plain": [
       "       TourCode TourDescription  Year  TournamentNum  PlayerNum  CourseNum  \\\n",
       "210137        R        PGA TOUR  2011            100       1161        734   \n",
       "210138        R        PGA TOUR  2011            100       1161        734   \n",
       "210139        R        PGA TOUR  2011            100       1161        734   \n",
       "210140        R        PGA TOUR  2011            100       1161        734   \n",
       "210141        R        PGA TOUR  2011            100       1161        734   \n",
       "210142        R        PGA TOUR  2011            100       1381        734   \n",
       "210143        R        PGA TOUR  2011            100       1381        734   \n",
       "210144        R        PGA TOUR  2011            100       1381        734   \n",
       "210145        R        PGA TOUR  2011            100       1381        734   \n",
       "210146        R        PGA TOUR  2011            100       1381        734   \n",
       "\n",
       "        PermanentTournamentNum PlayerFirstName PlayerLastName  Round  \\\n",
       "210137                      10            Mark   Calcavecchia      1   \n",
       "210138                      10            Mark   Calcavecchia      1   \n",
       "210139                      10            Mark   Calcavecchia      1   \n",
       "210140                      10            Mark   Calcavecchia      1   \n",
       "210141                      10            Mark   Calcavecchia      1   \n",
       "210142                      10            Fred           Funk      1   \n",
       "210143                      10            Fred           Funk      1   \n",
       "210144                      10            Fred           Funk      1   \n",
       "210145                      10            Fred           Funk      1   \n",
       "210146                      10            Fred           Funk      1   \n",
       "\n",
       "           ...        XCoordinate   YCoordinate   ZCoordinate  \\\n",
       "210137     ...        11,721.8550   10,504.8570       15.0190   \n",
       "210138     ...        12,029.8870   10,996.0090       12.4520   \n",
       "210139     ...        12,287.3800   11,255.6980       14.9770   \n",
       "210140     ...        12,269.0940   11,249.5880       14.6310   \n",
       "210141     ...              .0000         .0000         .0000   \n",
       "210142     ...        11,037.8140   11,212.6590       13.6290   \n",
       "210143     ...        10,743.7660   11,139.5740       15.6070   \n",
       "210144     ...        10,751.0090   11,096.3160       16.6180   \n",
       "210145     ...              .0000         .0000         .0000   \n",
       "210146     ...        10,062.6670   11,701.5800       14.1800   \n",
       "\n",
       "        DistanceFromCenter  DistanceFromEdge       Date  LeftRight  \\\n",
       "210137                 195               469 2011-03-03          L   \n",
       "210138                 387                 0 2011-03-03          R   \n",
       "210139                 146               209 2011-03-03        NaN   \n",
       "210140                  51               250 2011-03-03          L   \n",
       "210141                   0                 0 2011-03-03        NaN   \n",
       "210142                 237               135 2011-03-03          L   \n",
       "210143                 420               157 2011-03-03          R   \n",
       "210144                  88               414 2011-03-03          L   \n",
       "210145                   0                 0 2011-03-03        NaN   \n",
       "210146                 474                78 2011-03-03          R   \n",
       "\n",
       "       StrokesGainedBaseline  StrokesGainedCategory RecoveryShot  \n",
       "210137                -0.099            Off the Tee           No  \n",
       "210138                -0.052  Approach to the Green           No  \n",
       "210139                -0.212  Approach to the Green           No  \n",
       "210140                -0.254       Around the Green           No  \n",
       "210141                 0.302                Putting           No  \n",
       "210142                 0.132            Off the Tee           No  \n",
       "210143                -0.230  Approach to the Green           No  \n",
       "210144                -0.428                Putting           No  \n",
       "210145                 0.459                Putting           No  \n",
       "210146                 0.025            Off the Tee           No  \n",
       "\n",
       "[10 rows x 43 columns]"
      ]
     },
     "execution_count": 25,
     "metadata": {},
     "output_type": "execute_result"
    }
   ],
   "source": [
    "foo_prepared[210142 - 5:210142 + 5]"
   ]
  },
  {
   "cell_type": "code",
   "execution_count": null,
   "metadata": {},
   "outputs": [],
   "source": []
  },
  {
   "cell_type": "code",
   "execution_count": null,
   "metadata": {},
   "outputs": [],
   "source": []
  },
  {
   "cell_type": "code",
   "execution_count": 31,
   "metadata": {
    "ExecuteTime": {
     "end_time": "2018-05-05T19:55:23.568317Z",
     "start_time": "2018-05-05T19:55:23.562916Z"
    }
   },
   "outputs": [
    {
     "data": {
      "text/plain": [
       "[2008, 2009, 2010, 2011, 2012, 2013, 2014, 2015, 2016, 2017]"
      ]
     },
     "execution_count": 31,
     "metadata": {},
     "output_type": "execute_result"
    }
   ],
   "source": [
    "list(range(2008, 2018))"
   ]
  },
  {
   "cell_type": "code",
   "execution_count": 69,
   "metadata": {
    "ExecuteTime": {
     "end_time": "2018-05-10T23:09:54.385296Z",
     "start_time": "2018-05-10T23:08:15.139045Z"
    }
   },
   "outputs": [
    {
     "data": {
      "text/plain": [
       "(11365769, 43)"
      ]
     },
     "execution_count": 69,
     "metadata": {},
     "output_type": "execute_result"
    }
   ],
   "source": [
    "shots_all_years = shotlink.get_shots(range(2008, 2018), data_path)\n",
    "shots_all_years.shape"
   ]
  },
  {
   "cell_type": "markdown",
   "metadata": {},
   "source": [
    "The first time I ran the line below I got back 11,555mb, or ~11.5gb, however, my machine only shows Python using ~2.1gb total. The code below seems to run pretty quickly too."
   ]
  },
  {
   "cell_type": "code",
   "execution_count": 70,
   "metadata": {
    "ExecuteTime": {
     "end_time": "2018-05-10T23:10:10.708043Z",
     "start_time": "2018-05-10T23:09:54.390114Z"
    }
   },
   "outputs": [
    {
     "data": {
      "text/plain": [
       "'11555.21 MB'"
      ]
     },
     "execution_count": 70,
     "metadata": {},
     "output_type": "execute_result"
    }
   ],
   "source": [
    "mem_usage(shots_all_years)"
   ]
  },
  {
   "cell_type": "code",
   "execution_count": 75,
   "metadata": {
    "ExecuteTime": {
     "end_time": "2018-05-10T23:14:05.063807Z",
     "start_time": "2018-05-10T23:14:04.187431Z"
    }
   },
   "outputs": [
    {
     "data": {
      "text/plain": [
       "03/03/2011    10714\n",
       "03/04/2010    10483\n",
       "02/25/2016    10475\n",
       "03/05/2009    10421\n",
       "02/26/2015    10410\n",
       "02/28/2008    10405\n",
       "03/04/2011    10340\n",
       "02/26/2016    10328\n",
       "02/29/2008    10316\n",
       "03/01/2012    10286\n",
       "03/02/2012    10250\n",
       "02/27/2014    10210\n",
       "03/06/2009    10176\n",
       "02/28/2013    10106\n",
       "02/23/2017    10070\n",
       "03/05/2010    10056\n",
       "02/28/2014    10042\n",
       "03/01/2013    10025\n",
       "02/24/2017     9903\n",
       "03/01/2015     8046\n",
       "02/27/2015     7225\n",
       "03/05/2011     5681\n",
       "03/02/2008     5673\n",
       "03/07/2009     5651\n",
       "03/03/2013     5596\n",
       "02/28/2016     5571\n",
       "03/01/2014     5570\n",
       "02/27/2016     5558\n",
       "03/03/2012     5543\n",
       "03/04/2012     5541\n",
       "03/02/2013     5523\n",
       "03/01/2008     5454\n",
       "03/06/2011     5408\n",
       "03/07/2010     5403\n",
       "03/06/2010     5309\n",
       "03/08/2009     5123\n",
       "02/26/2017     5099\n",
       "03/02/2014     5017\n",
       "02/25/2017     4925\n",
       "02/28/2015     3228\n",
       "03/02/2015     1876\n",
       "12/30/1899        1\n",
       "Name: Date, dtype: int64"
      ]
     },
     "execution_count": 75,
     "metadata": {},
     "output_type": "execute_result"
    }
   ],
   "source": [
    "shots_all_years[shots_all_years['CourseName'] == 'PGA National (Champion)']['Date'].value_counts(dropna=False)"
   ]
  },
  {
   "cell_type": "code",
   "execution_count": 76,
   "metadata": {
    "ExecuteTime": {
     "end_time": "2018-05-10T23:14:45.997995Z",
     "start_time": "2018-05-10T23:14:45.133681Z"
    }
   },
   "outputs": [
    {
     "data": {
      "text/html": [
       "<div>\n",
       "<style scoped>\n",
       "    .dataframe tbody tr th:only-of-type {\n",
       "        vertical-align: middle;\n",
       "    }\n",
       "\n",
       "    .dataframe tbody tr th {\n",
       "        vertical-align: top;\n",
       "    }\n",
       "\n",
       "    .dataframe thead th {\n",
       "        text-align: right;\n",
       "    }\n",
       "</style>\n",
       "<table border=\"1\" class=\"dataframe\">\n",
       "  <thead>\n",
       "    <tr style=\"text-align: right;\">\n",
       "      <th></th>\n",
       "      <th>TourCode</th>\n",
       "      <th>TourDescription</th>\n",
       "      <th>Year</th>\n",
       "      <th>TournamentNum</th>\n",
       "      <th>PlayerNum</th>\n",
       "      <th>CourseNum</th>\n",
       "      <th>PermanentTournamentNum</th>\n",
       "      <th>PlayerFirstName</th>\n",
       "      <th>PlayerLastName</th>\n",
       "      <th>Round</th>\n",
       "      <th>...</th>\n",
       "      <th>XCoordinate</th>\n",
       "      <th>YCoordinate</th>\n",
       "      <th>ZCoordinate</th>\n",
       "      <th>DistanceFromCenter</th>\n",
       "      <th>DistanceFromEdge</th>\n",
       "      <th>Date</th>\n",
       "      <th>LeftRight</th>\n",
       "      <th>StrokesGainedBaseline</th>\n",
       "      <th>StrokesGainedCategory</th>\n",
       "      <th>RecoveryShot</th>\n",
       "    </tr>\n",
       "  </thead>\n",
       "  <tbody>\n",
       "    <tr>\n",
       "      <th>3713977</th>\n",
       "      <td>R</td>\n",
       "      <td>PGA TOUR</td>\n",
       "      <td>2011</td>\n",
       "      <td>100</td>\n",
       "      <td>1381</td>\n",
       "      <td>734</td>\n",
       "      <td>10</td>\n",
       "      <td>Fred</td>\n",
       "      <td>Funk</td>\n",
       "      <td>1</td>\n",
       "      <td>...</td>\n",
       "      <td>11,037.8140</td>\n",
       "      <td>11,212.6590</td>\n",
       "      <td>13.6290</td>\n",
       "      <td>237</td>\n",
       "      <td>135</td>\n",
       "      <td>12/30/1899</td>\n",
       "      <td>L</td>\n",
       "      <td>0.132</td>\n",
       "      <td>Off the Tee</td>\n",
       "      <td>No</td>\n",
       "    </tr>\n",
       "  </tbody>\n",
       "</table>\n",
       "<p>1 rows × 43 columns</p>\n",
       "</div>"
      ],
      "text/plain": [
       "        TourCode TourDescription  Year  TournamentNum  PlayerNum  CourseNum  \\\n",
       "3713977        R        PGA TOUR  2011            100       1381        734   \n",
       "\n",
       "         PermanentTournamentNum PlayerFirstName PlayerLastName  Round  \\\n",
       "3713977                      10            Fred           Funk      1   \n",
       "\n",
       "            ...        XCoordinate   YCoordinate   ZCoordinate  \\\n",
       "3713977     ...        11,037.8140   11,212.6590       13.6290   \n",
       "\n",
       "         DistanceFromCenter  DistanceFromEdge        Date  LeftRight  \\\n",
       "3713977                 237               135  12/30/1899          L   \n",
       "\n",
       "        StrokesGainedBaseline  StrokesGainedCategory RecoveryShot  \n",
       "3713977                 0.132            Off the Tee           No  \n",
       "\n",
       "[1 rows x 43 columns]"
      ]
     },
     "execution_count": 76,
     "metadata": {},
     "output_type": "execute_result"
    }
   ],
   "source": [
    "shots_all_years[shots_all_years['Date'] == '12/30/1899']"
   ]
  },
  {
   "cell_type": "code",
   "execution_count": null,
   "metadata": {},
   "outputs": [],
   "source": []
  },
  {
   "cell_type": "code",
   "execution_count": null,
   "metadata": {},
   "outputs": [],
   "source": []
  },
  {
   "cell_type": "code",
   "execution_count": null,
   "metadata": {},
   "outputs": [],
   "source": []
  },
  {
   "cell_type": "code",
   "execution_count": 37,
   "metadata": {
    "ExecuteTime": {
     "end_time": "2018-05-05T19:59:59.569340Z",
     "start_time": "2018-05-05T19:59:57.494493Z"
    }
   },
   "outputs": [
    {
     "data": {
      "text/plain": [
       "<matplotlib.axes._subplots.AxesSubplot at 0x13110a358>"
      ]
     },
     "execution_count": 37,
     "metadata": {},
     "output_type": "execute_result"
    },
    {
     "data": {
      "image/png": "[encoded data removed]",
      "text/plain": [
       "<matplotlib.figure.Figure at 0x1306d8048>"
      ]
     },
     "metadata": {},
     "output_type": "display_data"
    }
   ],
   "source": [
    "shots_all_years['Time'].plot.hist()"
   ]
  },
  {
   "cell_type": "code",
   "execution_count": 36,
   "metadata": {
    "ExecuteTime": {
     "end_time": "2018-05-05T19:59:46.752817Z",
     "start_time": "2018-05-05T19:59:46.658948Z"
    }
   },
   "outputs": [
    {
     "data": {
      "text/plain": [
       "(0, 2109)"
      ]
     },
     "execution_count": 36,
     "metadata": {},
     "output_type": "execute_result"
    }
   ],
   "source": [
    "shots_all_years['Time'].min(), shots_all_years['Time'].max()"
   ]
  },
  {
   "cell_type": "code",
   "execution_count": 38,
   "metadata": {
    "ExecuteTime": {
     "end_time": "2018-05-05T20:00:42.498545Z",
     "start_time": "2018-05-05T20:00:42.347909Z"
    }
   },
   "outputs": [
    {
     "data": {
      "text/plain": [
       "10"
      ]
     },
     "execution_count": 38,
     "metadata": {},
     "output_type": "execute_result"
    }
   ],
   "source": [
    "len(shots_all_years['Year'].unique())"
   ]
  },
  {
   "cell_type": "code",
   "execution_count": 39,
   "metadata": {
    "ExecuteTime": {
     "end_time": "2018-05-05T20:03:00.802101Z",
     "start_time": "2018-05-05T20:03:00.695576Z"
    }
   },
   "outputs": [
    {
     "data": {
      "text/plain": [
       "50"
      ]
     },
     "execution_count": 39,
     "metadata": {},
     "output_type": "execute_result"
    }
   ],
   "source": [
    "len(shots_all_years['TournamentNum'].unique())"
   ]
  },
  {
   "cell_type": "markdown",
   "metadata": {},
   "source": [
    "Total number of tournaments, for all years (I think)."
   ]
  },
  {
   "cell_type": "code",
   "execution_count": 41,
   "metadata": {
    "ExecuteTime": {
     "end_time": "2018-05-05T20:04:09.077062Z",
     "start_time": "2018-05-05T20:04:08.340696Z"
    }
   },
   "outputs": [
    {
     "data": {
      "text/plain": [
       "392"
      ]
     },
     "execution_count": 41,
     "metadata": {},
     "output_type": "execute_result"
    }
   ],
   "source": [
    "len(shots_all_years.groupby(['Year','TournamentNum']).size())"
   ]
  },
  {
   "cell_type": "code",
   "execution_count": 43,
   "metadata": {
    "ExecuteTime": {
     "end_time": "2018-05-05T20:07:33.240546Z",
     "start_time": "2018-05-05T20:07:32.056914Z"
    }
   },
   "outputs": [
    {
     "data": {
      "text/plain": [
       "TournamentNum  CourseName                    \n",
       "10             Silverado Resort and Spa North    30418\n",
       "30             CC of Jackson                     29723\n",
       "50             TPC Summerlin                     30101\n",
       "60             El Camaleon GC                    28562\n",
       "70             Sea Island Resort (Plantation)    10969\n",
       "               Sea Island Resort (Seaside)       21222\n",
       "110            Plantation Course at Kapalua       9063\n",
       "120            Waialae CC                        30430\n",
       "130            La Quinta CC                      10910\n",
       "               Nicklaus Tournament Course        11120\n",
       "               Stadium Course                    16856\n",
       "140            Torrey Pines (North)              11101\n",
       "               Torrey Pines GC (South)           22523\n",
       "150            TPC Scottsdale                    29217\n",
       "160            Monterey Peninsula CC             11026\n",
       "               Pebble Beach GL                   15908\n",
       "               Spyglass Hill GC                  11116\n",
       "170            Riviera CC                        30188\n",
       "180            PGA National (Champion)           29997\n",
       "190            Club de Golf Chapultepec          21670\n",
       "200            Innisbrook Resort (Copperhead)    30454\n",
       "210            Bay Hill Club & Lodge             28142\n",
       "220            Coco Beach Golf & CC              29342\n",
       "230            Austin Country Club               11585\n",
       "240            GC of Houston                     31886\n",
       "260            Harbour Town GL                   29237\n",
       "270            TPC San Antonio - AT&T Oaks       33870\n",
       "280            TPC Louisiana                     32393\n",
       "290            Eagle Point Golf Club             33839\n",
       "300            TPC Sawgrass                      32702\n",
       "310            TPC Four Seasons Resort           32873\n",
       "320            Colonial CC                       27469\n",
       "330            Muirfield Village GC              28697\n",
       "340            TPC Southwind                     33357\n",
       "350            Erin Hills                        32785\n",
       "360            TPC River Highlands               33084\n",
       "370            TPC Potomac at Avenel Farm        27574\n",
       "380            The Old White TPC                 31810\n",
       "390            TPC Deere Run                     32401\n",
       "400            RTJ Trail (Grand National)        29000\n",
       "420            Glen Abbey GC                     32843\n",
       "440            Firestone CC (South)              21505\n",
       "450            Quail Hollow-PGA Championship     33972\n",
       "460            Sedgefield CC                     32193\n",
       "470            Glen Oaks Club                    27010\n",
       "480            TPC Boston                        24705\n",
       "490            Conway Farms GC                   19235\n",
       "500            East Lake GC                       8354\n",
       "dtype: int64"
      ]
     },
     "execution_count": 43,
     "metadata": {},
     "output_type": "execute_result"
    }
   ],
   "source": [
    "foo.groupby(['TournamentNum','CourseName']).size()"
   ]
  },
  {
   "cell_type": "code",
   "execution_count": 44,
   "metadata": {
    "ExecuteTime": {
     "end_time": "2018-05-05T20:33:42.381793Z",
     "start_time": "2018-05-05T20:33:42.251883Z"
    }
   },
   "outputs": [
    {
     "data": {
      "text/plain": [
       "TournamentName                                         CourseName                    \n",
       "Safeway Open                                           Silverado Resort and Spa North    30418\n",
       "Sanderson Farms Championship                           CC of Jackson                     29723\n",
       "Shriners Hospitals for Children Open                   TPC Summerlin                     30101\n",
       "OHL Classic at Mayakoba                                El Camaleon GC                    28562\n",
       "The RSM Classic                                        Sea Island Resort (Plantation)    10969\n",
       "                                                       Sea Island Resort (Seaside)       21222\n",
       "SBS Tournament of Champions                            Plantation Course at Kapalua       9063\n",
       "Sony Open in Hawaii                                    Waialae CC                        30430\n",
       "CareerBuilder Challenge                                La Quinta CC                      10910\n",
       "                                                       Nicklaus Tournament Course        11120\n",
       "                                                       Stadium Course                    16856\n",
       "Farmers Insurance Open                                 Torrey Pines (North)              11101\n",
       "                                                       Torrey Pines GC (South)           22523\n",
       "Waste Management Phoenix Open                          TPC Scottsdale                    29217\n",
       "AT&T Pebble Beach Pro-Am                               Monterey Peninsula CC             11026\n",
       "                                                       Pebble Beach GL                   15908\n",
       "                                                       Spyglass Hill GC                  11116\n",
       "Genesis Open                                           Riviera CC                        30188\n",
       "The Honda Classic                                      PGA National (Champion)           29997\n",
       "World Golf Championships-Mexico Championship           Club de Golf Chapultepec          21670\n",
       "Valspar Championship                                   Innisbrook Resort (Copperhead)    30454\n",
       "Arnold Palmer Invitational presented by Mastercard     Bay Hill Club & Lodge             28142\n",
       "Puerto Rico Open                                       Coco Beach Golf & CC              29342\n",
       "World Golf Championships-Dell Technologies Match Play  Austin Country Club               11585\n",
       "Shell Houston Open                                     GC of Houston                     31886\n",
       "RBC Heritage                                           Harbour Town GL                   29237\n",
       "Valero Texas Open                                      TPC San Antonio - AT&T Oaks       33870\n",
       "Zurich Classic of New Orleans                          TPC Louisiana                     32393\n",
       "Wells Fargo Championship                               Eagle Point Golf Club             33839\n",
       "THE PLAYERS Championship                               TPC Sawgrass                      32702\n",
       "AT&T Byron Nelson                                      TPC Four Seasons Resort           32873\n",
       "DEAN & DELUCA Invitational                             Colonial CC                       27469\n",
       "the Memorial Tournament presented by Nationwide        Muirfield Village GC              28697\n",
       "FedEx St. Jude Classic                                 TPC Southwind                     33357\n",
       "U.S. Open                                              Erin Hills                        32785\n",
       "Travelers Championship                                 TPC River Highlands               33084\n",
       "Quicken Loans National                                 TPC Potomac at Avenel Farm        27574\n",
       "The Greenbrier Classic                                 The Old White TPC                 31810\n",
       "John Deere Classic                                     TPC Deere Run                     32401\n",
       "Barbasol Championship                                  RTJ Trail (Grand National)        29000\n",
       "RBC Canadian Open                                      Glen Abbey GC                     32843\n",
       "World Golf Championships-Bridgestone Invitational      Firestone CC (South)              21505\n",
       "PGA Championship                                       Quail Hollow-PGA Championship     33972\n",
       "Wyndham Championship                                   Sedgefield CC                     32193\n",
       "THE NORTHERN TRUST                                     Glen Oaks Club                    27010\n",
       "Dell Technologies Championship                         TPC Boston                        24705\n",
       "BMW Championship                                       Conway Farms GC                   19235\n",
       "TOUR Championship                                      East Lake GC                       8354\n",
       "dtype: int64"
      ]
     },
     "execution_count": 44,
     "metadata": {},
     "output_type": "execute_result"
    }
   ],
   "source": [
    "foo.groupby(['TournamentName','CourseName']).size()"
   ]
  },
  {
   "cell_type": "code",
   "execution_count": null,
   "metadata": {},
   "outputs": [],
   "source": []
  }
 ],
 "metadata": {
  "kernelspec": {
   "display_name": "Python 3",
   "language": "python",
   "name": "python3"
  },
  "language_info": {
   "codemirror_mode": {
    "name": "ipython",
    "version": 3
   },
   "file_extension": ".py",
   "mimetype": "text/x-python",
   "name": "python",
   "nbconvert_exporter": "python",
   "pygments_lexer": "ipython3",
   "version": "3.6.4"
  }
 },
 "nbformat": 4,
 "nbformat_minor": 2
}
