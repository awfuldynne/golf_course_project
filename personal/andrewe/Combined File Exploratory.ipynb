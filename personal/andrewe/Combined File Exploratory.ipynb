{
 "cells": [
  {
   "cell_type": "code",
   "execution_count": 27,
   "metadata": {
    "ExecuteTime": {
     "end_time": "2018-05-16T01:41:53.764287Z",
     "start_time": "2018-05-16T01:41:53.756873Z"
    }
   },
   "outputs": [],
   "source": [
    "import pandas as pd\n",
    "\n",
    "from datetime import datetime\n",
    "import time\n",
    "\n",
    "import sys\n",
    "sys.path.append('../../')\n",
    "\n",
    "from pygolfdata.data import shotlink\n",
    "\n",
    "pd.options.display.max_rows = 200"
   ]
  },
  {
   "cell_type": "code",
   "execution_count": 2,
   "metadata": {
    "ExecuteTime": {
     "end_time": "2018-05-16T01:28:50.865173Z",
     "start_time": "2018-05-16T01:28:50.856982Z"
    }
   },
   "outputs": [],
   "source": [
    "def mem_usage(pandas_obj):\n",
    "    if isinstance(pandas_obj,pd.DataFrame):\n",
    "        usage_b = pandas_obj.memory_usage(deep=True).sum()\n",
    "    else: # we assume if not a df it's a series\n",
    "        usage_b = pandas_obj.memory_usage(deep=True)\n",
    "    usage_mb = usage_b / 1024 ** 2 # convert bytes to megabytes\n",
    "    return \"{:03.2f} MB\".format(usage_mb)"
   ]
  },
  {
   "cell_type": "code",
   "execution_count": 3,
   "metadata": {
    "ExecuteTime": {
     "end_time": "2018-05-16T01:30:07.160447Z",
     "start_time": "2018-05-16T01:28:50.868262Z"
    }
   },
   "outputs": [
    {
     "name": "stderr",
     "output_type": "stream",
     "text": [
      "/Users/andrewenfield/miniconda3/envs/anaconda/lib/python3.6/site-packages/IPython/core/interactiveshell.py:2728: DtypeWarning: Columns (43,44,45,46,60) have mixed types. Specify dtype option on import or set low_memory=False.\n",
      "  interactivity=interactivity, compiler=compiler, result=result)\n"
     ]
    },
    {
     "data": {
      "text/plain": [
       "(5522327, 64)"
      ]
     },
     "execution_count": 3,
     "metadata": {},
     "output_type": "execute_result"
    }
   ],
   "source": [
    "d = pd.read_csv('../../pygolfdata/data/combined_shots_and_weather_2012-2016.csv', \n",
    "                dtype=shotlink.shot_dtypes)\n",
    "d.shape"
   ]
  },
  {
   "cell_type": "code",
   "execution_count": 4,
   "metadata": {
    "ExecuteTime": {
     "end_time": "2018-05-16T01:30:14.539493Z",
     "start_time": "2018-05-16T01:30:07.165752Z"
    }
   },
   "outputs": [
    {
     "data": {
      "text/plain": [
       "'6607.52 MB'"
      ]
     },
     "execution_count": 4,
     "metadata": {},
     "output_type": "execute_result"
    }
   ],
   "source": [
    "mem_usage(d)"
   ]
  },
  {
   "cell_type": "code",
   "execution_count": 5,
   "metadata": {
    "ExecuteTime": {
     "end_time": "2018-05-16T01:30:14.567864Z",
     "start_time": "2018-05-16T01:30:14.542408Z"
    }
   },
   "outputs": [
    {
     "data": {
      "text/plain": [
       "TourCode                   category\n",
       "TourDescription            category\n",
       "Year                         uint16\n",
       "TournamentNum                uint16\n",
       "PlayerNum                    uint16\n",
       "CourseNum                    uint16\n",
       "PermanentTournamentNum       uint16\n",
       "PlayerFirstName            category\n",
       "PlayerLastName             category\n",
       "Round                         uint8\n",
       "TournamentName             category\n",
       "CourseName_shots             object\n",
       "Hole                          uint8\n",
       "HoleScore                   float32\n",
       "ParValue                      uint8\n",
       "Yardage                      uint16\n",
       "Shot                          uint8\n",
       "ShotType                   category\n",
       "NumStrokes                    uint8\n",
       "FromLocationScorer         category\n",
       "FromLocationEnhanced         object\n",
       "ToLocationScorer           category\n",
       "ToLocationEnhanced         category\n",
       "Distance                     uint16\n",
       "DistanceToPin                uint16\n",
       "InTheHoleFlag              category\n",
       "AroundTheGreenFlag         category\n",
       "FirstPuttFlag              category\n",
       "DistanceToHoleAfterShot      uint16\n",
       "Time                         uint16\n",
       "Lie                        category\n",
       "Elevation                  category\n",
       "Slope                      category\n",
       "XCoordinate                  object\n",
       "YCoordinate                  object\n",
       "ZCoordinate                  object\n",
       "DistanceFromCenter           uint16\n",
       "DistanceFromEdge             uint16\n",
       "Date_shots                   object\n",
       "LeftRight                  category\n",
       "StrokesGainedBaseline       float32\n",
       "StrokesGainedCategory      category\n",
       "RecoveryShot               category\n",
       "AMWindSpd                    object\n",
       "PMWindSpd                    object\n",
       "AMWindDir                    object\n",
       "PMWindDir                    object\n",
       "ShotDateAndTime              object\n",
       "Date_weather                 object\n",
       "Hour                          int64\n",
       "Latitude                    float64\n",
       "Longitude                   float64\n",
       "Summary                      object\n",
       "DegreesFahrenheit           float64\n",
       "Humidity                    float64\n",
       "Visibility                  float64\n",
       "WindBearing                 float64\n",
       "WindGust                    float64\n",
       "WindSpeed                   float64\n",
       "PrecipitationIntensity      float64\n",
       "PrecipitationType            object\n",
       "CourseName_weather           object\n",
       "WeatherDateAndHour           object\n",
       "TimeDifference               object\n",
       "dtype: object"
      ]
     },
     "execution_count": 5,
     "metadata": {},
     "output_type": "execute_result"
    }
   ],
   "source": [
    "d.dtypes"
   ]
  },
  {
   "cell_type": "code",
   "execution_count": 6,
   "metadata": {
    "ExecuteTime": {
     "end_time": "2018-05-16T01:30:14.665874Z",
     "start_time": "2018-05-16T01:30:14.572249Z"
    }
   },
   "outputs": [
    {
     "data": {
      "text/plain": [
       "(0, 2055)"
      ]
     },
     "execution_count": 6,
     "metadata": {},
     "output_type": "execute_result"
    }
   ],
   "source": [
    "d['Time'].min(), d['Time'].max()"
   ]
  },
  {
   "cell_type": "code",
   "execution_count": 7,
   "metadata": {
    "ExecuteTime": {
     "end_time": "2018-05-16T01:30:14.770523Z",
     "start_time": "2018-05-16T01:30:14.668576Z"
    }
   },
   "outputs": [
    {
     "data": {
      "text/plain": [
       "array([2012, 2013, 2014, 2015, 2016], dtype=uint64)"
      ]
     },
     "execution_count": 7,
     "metadata": {},
     "output_type": "execute_result"
    }
   ],
   "source": [
    "d['Year'].unique()"
   ]
  },
  {
   "cell_type": "code",
   "execution_count": 8,
   "metadata": {
    "ExecuteTime": {
     "end_time": "2018-05-16T01:30:14.830240Z",
     "start_time": "2018-05-16T01:30:14.777690Z"
    }
   },
   "outputs": [
    {
     "data": {
      "text/html": [
       "<div>\n",
       "<style scoped>\n",
       "    .dataframe tbody tr th:only-of-type {\n",
       "        vertical-align: middle;\n",
       "    }\n",
       "\n",
       "    .dataframe tbody tr th {\n",
       "        vertical-align: top;\n",
       "    }\n",
       "\n",
       "    .dataframe thead th {\n",
       "        text-align: right;\n",
       "    }\n",
       "</style>\n",
       "<table border=\"1\" class=\"dataframe\">\n",
       "  <thead>\n",
       "    <tr style=\"text-align: right;\">\n",
       "      <th></th>\n",
       "      <th>TourCode</th>\n",
       "      <th>TourDescription</th>\n",
       "      <th>Year</th>\n",
       "      <th>TournamentNum</th>\n",
       "      <th>PlayerNum</th>\n",
       "      <th>CourseNum</th>\n",
       "      <th>PermanentTournamentNum</th>\n",
       "      <th>PlayerFirstName</th>\n",
       "      <th>PlayerLastName</th>\n",
       "      <th>Round</th>\n",
       "      <th>...</th>\n",
       "      <th>Humidity</th>\n",
       "      <th>Visibility</th>\n",
       "      <th>WindBearing</th>\n",
       "      <th>WindGust</th>\n",
       "      <th>WindSpeed</th>\n",
       "      <th>PrecipitationIntensity</th>\n",
       "      <th>PrecipitationType</th>\n",
       "      <th>CourseName_weather</th>\n",
       "      <th>WeatherDateAndHour</th>\n",
       "      <th>TimeDifference</th>\n",
       "    </tr>\n",
       "  </thead>\n",
       "  <tbody>\n",
       "    <tr>\n",
       "      <th>0</th>\n",
       "      <td>R</td>\n",
       "      <td>PGA TOUR</td>\n",
       "      <td>2012</td>\n",
       "      <td>10</td>\n",
       "      <td>23800</td>\n",
       "      <td>656</td>\n",
       "      <td>16</td>\n",
       "      <td>Bryce</td>\n",
       "      <td>Molder</td>\n",
       "      <td>1</td>\n",
       "      <td>...</td>\n",
       "      <td>0.51</td>\n",
       "      <td>9.94</td>\n",
       "      <td>56.0</td>\n",
       "      <td>NaN</td>\n",
       "      <td>17.48</td>\n",
       "      <td>0.0</td>\n",
       "      <td>NaN</td>\n",
       "      <td>Plantation Course at Kapalua</td>\n",
       "      <td>2012-01-06 11:00:00</td>\n",
       "      <td>-1 days +23:35:00.000000000</td>\n",
       "    </tr>\n",
       "    <tr>\n",
       "      <th>1</th>\n",
       "      <td>R</td>\n",
       "      <td>PGA TOUR</td>\n",
       "      <td>2012</td>\n",
       "      <td>10</td>\n",
       "      <td>1116</td>\n",
       "      <td>656</td>\n",
       "      <td>16</td>\n",
       "      <td>Michael</td>\n",
       "      <td>Bradley</td>\n",
       "      <td>1</td>\n",
       "      <td>...</td>\n",
       "      <td>0.51</td>\n",
       "      <td>9.94</td>\n",
       "      <td>56.0</td>\n",
       "      <td>NaN</td>\n",
       "      <td>17.48</td>\n",
       "      <td>0.0</td>\n",
       "      <td>NaN</td>\n",
       "      <td>Plantation Course at Kapalua</td>\n",
       "      <td>2012-01-06 11:00:00</td>\n",
       "      <td>-1 days +23:36:00.000000000</td>\n",
       "    </tr>\n",
       "    <tr>\n",
       "      <th>2</th>\n",
       "      <td>R</td>\n",
       "      <td>PGA TOUR</td>\n",
       "      <td>2012</td>\n",
       "      <td>10</td>\n",
       "      <td>23800</td>\n",
       "      <td>656</td>\n",
       "      <td>16</td>\n",
       "      <td>Bryce</td>\n",
       "      <td>Molder</td>\n",
       "      <td>1</td>\n",
       "      <td>...</td>\n",
       "      <td>0.51</td>\n",
       "      <td>9.94</td>\n",
       "      <td>56.0</td>\n",
       "      <td>NaN</td>\n",
       "      <td>17.48</td>\n",
       "      <td>0.0</td>\n",
       "      <td>NaN</td>\n",
       "      <td>Plantation Course at Kapalua</td>\n",
       "      <td>2012-01-06 11:00:00</td>\n",
       "      <td>-1 days +23:41:00.000000000</td>\n",
       "    </tr>\n",
       "  </tbody>\n",
       "</table>\n",
       "<p>3 rows × 64 columns</p>\n",
       "</div>"
      ],
      "text/plain": [
       "  TourCode TourDescription  Year  TournamentNum  PlayerNum  CourseNum  \\\n",
       "0        R        PGA TOUR  2012             10      23800        656   \n",
       "1        R        PGA TOUR  2012             10       1116        656   \n",
       "2        R        PGA TOUR  2012             10      23800        656   \n",
       "\n",
       "   PermanentTournamentNum PlayerFirstName PlayerLastName  Round  \\\n",
       "0                      16           Bryce         Molder      1   \n",
       "1                      16         Michael        Bradley      1   \n",
       "2                      16           Bryce         Molder      1   \n",
       "\n",
       "              ...              Humidity Visibility  WindBearing  WindGust  \\\n",
       "0             ...                  0.51       9.94         56.0       NaN   \n",
       "1             ...                  0.51       9.94         56.0       NaN   \n",
       "2             ...                  0.51       9.94         56.0       NaN   \n",
       "\n",
       "   WindSpeed  PrecipitationIntensity  PrecipitationType  \\\n",
       "0      17.48                     0.0                NaN   \n",
       "1      17.48                     0.0                NaN   \n",
       "2      17.48                     0.0                NaN   \n",
       "\n",
       "             CourseName_weather   WeatherDateAndHour  \\\n",
       "0  Plantation Course at Kapalua  2012-01-06 11:00:00   \n",
       "1  Plantation Course at Kapalua  2012-01-06 11:00:00   \n",
       "2  Plantation Course at Kapalua  2012-01-06 11:00:00   \n",
       "\n",
       "                TimeDifference  \n",
       "0  -1 days +23:35:00.000000000  \n",
       "1  -1 days +23:36:00.000000000  \n",
       "2  -1 days +23:41:00.000000000  \n",
       "\n",
       "[3 rows x 64 columns]"
      ]
     },
     "execution_count": 8,
     "metadata": {},
     "output_type": "execute_result"
    }
   ],
   "source": [
    "d[:3]"
   ]
  },
  {
   "cell_type": "code",
   "execution_count": 22,
   "metadata": {
    "ExecuteTime": {
     "end_time": "2018-05-16T01:39:17.528210Z",
     "start_time": "2018-05-16T01:39:17.518806Z"
    },
    "scrolled": false
   },
   "outputs": [
    {
     "data": {
      "text/plain": [
       "TourCode                                                 R\n",
       "TourDescription                                   PGA TOUR\n",
       "Year                                                  2012\n",
       "TournamentNum                                           10\n",
       "PlayerNum                                            23800\n",
       "CourseNum                                              656\n",
       "PermanentTournamentNum                                  16\n",
       "PlayerFirstName                                      Bryce\n",
       "PlayerLastName                                      Molder\n",
       "Round                                                    1\n",
       "TournamentName             Hyundai Tournament of Champions\n",
       "CourseName_shots              Plantation Course at Kapalua\n",
       "Hole                                                     1\n",
       "HoleScore                                                4\n",
       "ParValue                                                 4\n",
       "Yardage                                                520\n",
       "Shot                                                     1\n",
       "ShotType                                                 S\n",
       "NumStrokes                                               1\n",
       "FromLocationScorer                                 Tee Box\n",
       "FromLocationEnhanced                                   NaN\n",
       "ToLocationScorer                                   Unknown\n",
       "ToLocationEnhanced                                Unmapped\n",
       "Distance                                             11454\n",
       "DistanceToPin                                        18900\n",
       "InTheHoleFlag                                            N\n",
       "AroundTheGreenFlag                                       N\n",
       "FirstPuttFlag                                          NaN\n",
       "DistanceToHoleAfterShot                               7562\n",
       "Time                                                  1035\n",
       "Lie                                                   Good\n",
       "Elevation                                             With\n",
       "Slope                                                Level\n",
       "XCoordinate                                     7,303.6530\n",
       "YCoordinate                                    11,969.9590\n",
       "ZCoordinate                                       218.3110\n",
       "DistanceFromCenter                                    1836\n",
       "DistanceFromEdge                                       668\n",
       "Date_shots                                      2012-01-06\n",
       "LeftRight                                              NaN\n",
       "StrokesGainedBaseline                                0.096\n",
       "StrokesGainedCategory                          Off the Tee\n",
       "RecoveryShot                                            No\n",
       "AMWindSpd                                         NE 10-15\n",
       "PMWindSpd                                         NE 10-20\n",
       "AMWindDir                                               RL\n",
       "PMWindDir                                               RL\n",
       "ShotDateAndTime                        2012-01-06 10:35:00\n",
       "Date_weather                                    2012-01-06\n",
       "Hour                                                    11\n",
       "Latitude                                           21.0068\n",
       "Longitude                                          -156.64\n",
       "Summary                                              Clear\n",
       "DegreesFahrenheit                                    77.25\n",
       "Humidity                                              0.51\n",
       "Visibility                                            9.94\n",
       "WindBearing                                             56\n",
       "WindGust                                               NaN\n",
       "WindSpeed                                            17.48\n",
       "PrecipitationIntensity                                   0\n",
       "PrecipitationType                                      NaN\n",
       "CourseName_weather            Plantation Course at Kapalua\n",
       "WeatherDateAndHour                     2012-01-06 11:00:00\n",
       "TimeDifference                 -1 days +23:35:00.000000000\n",
       "Name: 0, dtype: object"
      ]
     },
     "execution_count": 22,
     "metadata": {},
     "output_type": "execute_result"
    }
   ],
   "source": [
    "index = 0\n",
    "d.iloc[index]"
   ]
  },
  {
   "cell_type": "code",
   "execution_count": 36,
   "metadata": {
    "ExecuteTime": {
     "end_time": "2018-05-16T01:44:25.426072Z",
     "start_time": "2018-05-16T01:44:25.417863Z"
    }
   },
   "outputs": [
    {
     "data": {
      "text/plain": [
       "Timestamp('2012-01-06 11:00:00')"
      ]
     },
     "execution_count": 36,
     "metadata": {},
     "output_type": "execute_result"
    }
   ],
   "source": [
    "pd.to_datetime(d.iloc[index]['WeatherDateAndHour'])"
   ]
  },
  {
   "cell_type": "code",
   "execution_count": 45,
   "metadata": {
    "ExecuteTime": {
     "end_time": "2018-05-16T01:50:31.108540Z",
     "start_time": "2018-05-16T01:50:31.102373Z"
    }
   },
   "outputs": [
    {
     "data": {
      "text/plain": [
       "1325876400.0"
      ]
     },
     "execution_count": 45,
     "metadata": {},
     "output_type": "execute_result"
    }
   ],
   "source": [
    "pd.to_datetime('2012-01-06 11:00:00 PDT').timestamp()"
   ]
  },
  {
   "cell_type": "code",
   "execution_count": 43,
   "metadata": {
    "ExecuteTime": {
     "end_time": "2018-05-16T01:45:31.406167Z",
     "start_time": "2018-05-16T01:45:31.400249Z"
    }
   },
   "outputs": [
    {
     "data": {
      "text/plain": [
       "'2012-01-06 11:00:00'"
      ]
     },
     "execution_count": 43,
     "metadata": {},
     "output_type": "execute_result"
    }
   ],
   "source": [
    "time.strftime('%Y-%m-%d %H:%M:%S', time.localtime(1325847600 + 28800))"
   ]
  },
  {
   "cell_type": "code",
   "execution_count": 42,
   "metadata": {
    "ExecuteTime": {
     "end_time": "2018-05-16T01:45:26.926259Z",
     "start_time": "2018-05-16T01:45:26.921730Z"
    }
   },
   "outputs": [
    {
     "data": {
      "text/plain": [
       "28800"
      ]
     },
     "execution_count": 42,
     "metadata": {},
     "output_type": "execute_result"
    }
   ],
   "source": [
    "60*8*60"
   ]
  },
  {
   "cell_type": "code",
   "execution_count": 44,
   "metadata": {
    "ExecuteTime": {
     "end_time": "2018-05-16T01:45:44.961149Z",
     "start_time": "2018-05-16T01:45:44.954604Z"
    }
   },
   "outputs": [
    {
     "data": {
      "text/plain": [
       "1325876400"
      ]
     },
     "execution_count": 44,
     "metadata": {},
     "output_type": "execute_result"
    }
   ],
   "source": [
    "1325847600 + 28800"
   ]
  },
  {
   "cell_type": "code",
   "execution_count": null,
   "metadata": {},
   "outputs": [],
   "source": []
  },
  {
   "cell_type": "code",
   "execution_count": 2,
   "metadata": {
    "ExecuteTime": {
     "end_time": "2018-05-13T20:05:28.500303Z",
     "start_time": "2018-05-13T20:02:11.914116Z"
    }
   },
   "outputs": [
    {
     "name": "stderr",
     "output_type": "stream",
     "text": [
      "/Users/andrewenfield/miniconda3/envs/anaconda/lib/python3.6/site-packages/IPython/core/interactiveshell.py:2728: DtypeWarning: Columns (20,21,22,27,33,34,35,39,41,43,44,45,46,60) have mixed types. Specify dtype option on import or set low_memory=False.\n",
      "  interactivity=interactivity, compiler=compiler, result=result)\n"
     ]
    },
    {
     "data": {
      "text/plain": [
       "(11365769, 64)"
      ]
     },
     "execution_count": 2,
     "metadata": {},
     "output_type": "execute_result"
    }
   ],
   "source": [
    "d = pd.read_csv('../../pygolfdata/data/combined_shots_and_weather_2008-2017.csv')\n",
    "d.shape"
   ]
  },
  {
   "cell_type": "code",
   "execution_count": 4,
   "metadata": {
    "ExecuteTime": {
     "end_time": "2018-05-13T20:08:34.091185Z",
     "start_time": "2018-05-13T20:07:52.085039Z"
    }
   },
   "outputs": [
    {
     "data": {
      "text/plain": [
       "'26329.10 MB'"
      ]
     },
     "execution_count": 4,
     "metadata": {},
     "output_type": "execute_result"
    }
   ],
   "source": [
    "mem_usage(d)"
   ]
  },
  {
   "cell_type": "code",
   "execution_count": 5,
   "metadata": {
    "ExecuteTime": {
     "end_time": "2018-05-13T20:08:34.123056Z",
     "start_time": "2018-05-13T20:08:34.097575Z"
    }
   },
   "outputs": [
    {
     "data": {
      "text/plain": [
       "TourCode                    object\n",
       "TourDescription             object\n",
       "Year                         int64\n",
       "TournamentNum                int64\n",
       "PlayerNum                    int64\n",
       "CourseNum                    int64\n",
       "PermanentTournamentNum       int64\n",
       "PlayerFirstName             object\n",
       "PlayerLastName              object\n",
       "Round                        int64\n",
       "TournamentName              object\n",
       "CourseName_shots            object\n",
       "Hole                         int64\n",
       "HoleScore                  float64\n",
       "ParValue                     int64\n",
       "Yardage                      int64\n",
       "Shot                         int64\n",
       "ShotType                    object\n",
       "NumStrokes                   int64\n",
       "FromLocationScorer          object\n",
       "FromLocationEnhanced        object\n",
       "ToLocationScorer            object\n",
       "ToLocationEnhanced          object\n",
       "Distance                     int64\n",
       "DistanceToPin                int64\n",
       "InTheHoleFlag               object\n",
       "AroundTheGreenFlag          object\n",
       "FirstPuttFlag               object\n",
       "DistanceToHoleAfterShot      int64\n",
       "Time                         int64\n",
       "                            ...   \n",
       "YCoordinate                 object\n",
       "ZCoordinate                 object\n",
       "DistanceFromCenter           int64\n",
       "DistanceFromEdge             int64\n",
       "Date_shots                  object\n",
       "LeftRight                   object\n",
       "StrokesGainedBaseline      float64\n",
       "StrokesGainedCategory       object\n",
       "RecoveryShot                object\n",
       "AMWindSpd                   object\n",
       "PMWindSpd                   object\n",
       "AMWindDir                   object\n",
       "PMWindDir                   object\n",
       "ShotDateAndTime             object\n",
       "Date_weather                object\n",
       "Hour                         int64\n",
       "Latitude                   float64\n",
       "Longitude                  float64\n",
       "Summary                     object\n",
       "DegreesFahrenheit          float64\n",
       "Humidity                   float64\n",
       "Visibility                 float64\n",
       "WindBearing                float64\n",
       "WindGust                   float64\n",
       "WindSpeed                  float64\n",
       "PrecipitationIntensity     float64\n",
       "PrecipitationType           object\n",
       "CourseName_weather          object\n",
       "WeatherDateAndHour          object\n",
       "TimeDifference              object\n",
       "Length: 64, dtype: object"
      ]
     },
     "execution_count": 5,
     "metadata": {},
     "output_type": "execute_result"
    }
   ],
   "source": [
    "d.dtypes"
   ]
  },
  {
   "cell_type": "code",
   "execution_count": 1,
   "metadata": {
    "ExecuteTime": {
     "end_time": "2018-05-14T01:53:43.453382Z",
     "start_time": "2018-05-14T01:53:43.320736Z"
    }
   },
   "outputs": [
    {
     "ename": "NameError",
     "evalue": "name 'd' is not defined",
     "output_type": "error",
     "traceback": [
      "\u001b[0;31m----------------------------------------------------------------\u001b[0m",
      "\u001b[0;31mNameError\u001b[0m                      Traceback (most recent call last)",
      "\u001b[0;32m<ipython-input-1-72cf7ee63d2d>\u001b[0m in \u001b[0;36m<module>\u001b[0;34m()\u001b[0m\n\u001b[0;32m----> 1\u001b[0;31m \u001b[0md\u001b[0m\u001b[0;34m[\u001b[0m\u001b[0;34m:\u001b[0m\u001b[0;36m3\u001b[0m\u001b[0;34m]\u001b[0m\u001b[0;34m\u001b[0m\u001b[0m\n\u001b[0m",
      "\u001b[0;31mNameError\u001b[0m: name 'd' is not defined"
     ]
    }
   ],
   "source": [
    "d[:3]"
   ]
  },
  {
   "cell_type": "code",
   "execution_count": null,
   "metadata": {},
   "outputs": [],
   "source": []
  }
 ],
 "metadata": {
  "kernelspec": {
   "display_name": "Python 3",
   "language": "python",
   "name": "python3"
  },
  "language_info": {
   "codemirror_mode": {
    "name": "ipython",
    "version": 3
   },
   "file_extension": ".py",
   "mimetype": "text/x-python",
   "name": "python",
   "nbconvert_exporter": "python",
   "pygments_lexer": "ipython3",
   "version": "3.6.4"
  }
 },
 "nbformat": 4,
 "nbformat_minor": 2
}
