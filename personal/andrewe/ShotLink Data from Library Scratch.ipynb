{
 "cells": [
  {
   "cell_type": "code",
   "execution_count": 21,
   "metadata": {
    "ExecuteTime": {
     "end_time": "2018-05-05T19:51:35.432836Z",
     "start_time": "2018-05-05T19:51:35.405533Z"
    }
   },
   "outputs": [],
   "source": [
    "import pandas as pd\n",
    "import matplotlib.pyplot as plt\n",
    "\n",
    "%matplotlib inline\n",
    "plt.rcParams[\"figure.figsize\"] = (10,5)\n",
    "\n",
    "# regardless of from where we run Jupyter Notebook, the curr working dir\n",
    "# is personal/andrewe - i want to load pygolfdata from the location that's\n",
    "# two directories above this one, so I'll modify the module search path\n",
    "# to include that location. is there a better way to do this?\n",
    "import sys\n",
    "sys.path.append('../../')\n",
    "\n",
    "from pygolfdata.data import shotlink"
   ]
  },
  {
   "cell_type": "code",
   "execution_count": 6,
   "metadata": {
    "ExecuteTime": {
     "end_time": "2018-05-05T19:50:21.319645Z",
     "start_time": "2018-05-05T19:50:21.316456Z"
    }
   },
   "outputs": [],
   "source": [
    "# data path - can be absolute, here is relative to the cwd of this file, \n",
    "# which is golf_course_project/personal/andrewe\n",
    "data_path = '../../../golf_course_project_data'"
   ]
  },
  {
   "cell_type": "code",
   "execution_count": 7,
   "metadata": {
    "ExecuteTime": {
     "end_time": "2018-05-05T19:50:21.753490Z",
     "start_time": "2018-05-05T19:50:21.744075Z"
    }
   },
   "outputs": [],
   "source": [
    "def mem_usage(pandas_obj):\n",
    "    if isinstance(pandas_obj,pd.DataFrame):\n",
    "        usage_b = pandas_obj.memory_usage(deep=True).sum()\n",
    "    else: # we assume if not a df it's a series\n",
    "        usage_b = pandas_obj.memory_usage(deep=True)\n",
    "    usage_mb = usage_b / 1024 ** 2 # convert bytes to megabytes\n",
    "    return \"{:03.2f} MB\".format(usage_mb)"
   ]
  },
  {
   "cell_type": "code",
   "execution_count": 8,
   "metadata": {
    "ExecuteTime": {
     "end_time": "2018-05-05T19:50:22.279168Z",
     "start_time": "2018-05-05T19:50:22.224314Z"
    }
   },
   "outputs": [
    {
     "data": {
      "text/plain": [
       "(3438, 34)"
      ]
     },
     "execution_count": 8,
     "metadata": {},
     "output_type": "execute_result"
    }
   ],
   "source": [
    "cls = shotlink.get_courselevels([2017], data_path)\n",
    "cls.shape"
   ]
  },
  {
   "cell_type": "code",
   "execution_count": 9,
   "metadata": {
    "ExecuteTime": {
     "end_time": "2018-05-05T19:50:22.923199Z",
     "start_time": "2018-05-05T19:50:22.916168Z"
    }
   },
   "outputs": [
    {
     "data": {
      "text/plain": [
       "Index(['Year', 'CourseNum', 'CourseName', 'Round', 'Hole', 'FwyWidth250',\n",
       "       'Actual250Distance', 'FwyWidth275', 'Actual275Distance', 'FwyWidth300',\n",
       "       'Actual300Distance', 'FwyWidth325', 'Actual325 Distance', 'FwyWidth350',\n",
       "       'Actual350Distance', 'FwyFirmness', 'GrnFirmness', 'GrnHeight',\n",
       "       'RoughHeight', 'FwyHeight', 'Stimp', 'AMWindSpd', 'AMWindDir',\n",
       "       'PMWindSpd', 'PMWind Dir', 'ScorecardYdg', 'ActualYdg', 'Par',\n",
       "       'GreenGrass', 'FwyGrass', 'TeeGrass', 'BunkerGrass', 'RoughGrass',\n",
       "       'ExtraColumn'],\n",
       "      dtype='object')"
      ]
     },
     "execution_count": 9,
     "metadata": {},
     "output_type": "execute_result"
    }
   ],
   "source": [
    "cls.columns"
   ]
  },
  {
   "cell_type": "code",
   "execution_count": 10,
   "metadata": {
    "ExecuteTime": {
     "end_time": "2018-05-05T19:50:23.452150Z",
     "start_time": "2018-05-05T19:50:23.440980Z"
    }
   },
   "outputs": [
    {
     "data": {
      "text/plain": [
       "185    126\n",
       "819     72\n",
       "752     72\n",
       "742     72\n",
       "734     72\n",
       "714     72\n",
       "704     72\n",
       "700     72\n",
       "688     72\n",
       "660     72\n",
       "656     72\n",
       "552     72\n",
       "538     72\n",
       "510     72\n",
       "500     72\n",
       "240     72\n",
       "238     72\n",
       "236     72\n",
       "232     72\n",
       "36      72\n",
       "32      72\n",
       "12      72\n",
       "6       72\n",
       "746     72\n",
       "766     72\n",
       "789     72\n",
       "770     72\n",
       "771     72\n",
       "733     72\n",
       "729     72\n",
       "669     72\n",
       "665     72\n",
       "513     72\n",
       "503     72\n",
       "241     72\n",
       "239     72\n",
       "237     72\n",
       "235     72\n",
       "23      72\n",
       "21      72\n",
       "19      72\n",
       "11      72\n",
       "9       72\n",
       "5       72\n",
       "800     72\n",
       "776     72\n",
       "4       72\n",
       "Name: CourseNum, dtype: int64"
      ]
     },
     "execution_count": 10,
     "metadata": {},
     "output_type": "execute_result"
    }
   ],
   "source": [
    "cls['CourseNum'].value_counts(dropna=False)"
   ]
  },
  {
   "cell_type": "code",
   "execution_count": 11,
   "metadata": {
    "ExecuteTime": {
     "end_time": "2018-05-05T19:50:23.872968Z",
     "start_time": "2018-05-05T19:50:23.861777Z"
    }
   },
   "outputs": [
    {
     "data": {
      "text/plain": [
       "'0.33 MB'"
      ]
     },
     "execution_count": 11,
     "metadata": {},
     "output_type": "execute_result"
    }
   ],
   "source": [
    "mem_usage(cls)"
   ]
  },
  {
   "cell_type": "code",
   "execution_count": 12,
   "metadata": {
    "ExecuteTime": {
     "end_time": "2018-05-05T19:50:24.507624Z",
     "start_time": "2018-05-05T19:50:24.501323Z"
    }
   },
   "outputs": [
    {
     "data": {
      "text/plain": [
       "Year                    uint16\n",
       "CourseNum               uint16\n",
       "CourseName            category\n",
       "Round                    uint8\n",
       "Hole                     uint8\n",
       "FwyWidth250             uint16\n",
       "Actual250Distance       uint16\n",
       "FwyWidth275             uint16\n",
       "Actual275Distance       uint16\n",
       "FwyWidth300             uint16\n",
       "Actual300Distance       uint16\n",
       "FwyWidth325             uint16\n",
       "Actual325 Distance      uint16\n",
       "FwyWidth350             uint16\n",
       "Actual350Distance       uint16\n",
       "FwyFirmness           category\n",
       "GrnFirmness           category\n",
       "GrnHeight              float32\n",
       "RoughHeight            float32\n",
       "FwyHeight              float32\n",
       "Stimp                 category\n",
       "AMWindSpd             category\n",
       "AMWindDir             category\n",
       "PMWindSpd             category\n",
       "PMWind Dir            category\n",
       "ScorecardYdg            uint16\n",
       "ActualYdg              float32\n",
       "Par                      uint8\n",
       "GreenGrass            category\n",
       "FwyGrass              category\n",
       "TeeGrass              category\n",
       "BunkerGrass           category\n",
       "RoughGrass            category\n",
       "ExtraColumn             object\n",
       "dtype: object"
      ]
     },
     "execution_count": 12,
     "metadata": {},
     "output_type": "execute_result"
    }
   ],
   "source": [
    "cls.dtypes"
   ]
  },
  {
   "cell_type": "code",
   "execution_count": 13,
   "metadata": {
    "ExecuteTime": {
     "end_time": "2018-05-05T19:50:25.013646Z",
     "start_time": "2018-05-05T19:50:25.007723Z"
    }
   },
   "outputs": [
    {
     "data": {
      "text/plain": [
       "odict_keys(['TourCode', 'TourDescription', 'Year', 'TournamentNum', 'PlayerNum', 'CourseNum', 'PermanentTournamentNum', 'PlayerFirstName', 'PlayerLastName', 'Round', 'TournamentName', 'CourseName', 'Hole', 'HoleScore', 'ParValue', 'Yardage', 'Shot', 'ShotType', 'NumStrokes', 'FromLocationScorer', 'FromLocationEnhanced', 'ToLocationScorer', 'ToLocationEnhanced', 'Distance', 'DistanceToPin', 'InTheHoleFlag', 'AroundTheGreenFlag', 'FirstPuttFlag', 'DistanceToHoleAfterShot', 'Time', 'Lie', 'Elevation', 'Slope', 'XCoordinate', 'YCoordinate', 'ZCoordinate', 'DistanceFromCenter', 'DistanceFromEdge', 'Date', 'LeftRight', 'StrokesGainedBaseline', 'StrokesGainedCategory', 'RecoveryShot'])"
      ]
     },
     "execution_count": 13,
     "metadata": {},
     "output_type": "execute_result"
    }
   ],
   "source": [
    "shotlink.shot_dtypes.keys()"
   ]
  },
  {
   "cell_type": "code",
   "execution_count": 14,
   "metadata": {
    "ExecuteTime": {
     "end_time": "2018-05-05T19:50:25.716745Z",
     "start_time": "2018-05-05T19:50:25.707784Z"
    }
   },
   "outputs": [
    {
     "data": {
      "text/plain": [
       "['TourCode',\n",
       " 'TourDescription',\n",
       " 'Year',\n",
       " 'TournamentNum',\n",
       " 'PlayerNum',\n",
       " 'CourseNum',\n",
       " 'PermanentTournamentNum',\n",
       " 'PlayerFirstName',\n",
       " 'PlayerLastName',\n",
       " 'Round',\n",
       " 'TournamentName',\n",
       " 'CourseName',\n",
       " 'Hole',\n",
       " 'HoleScore',\n",
       " 'ParValue',\n",
       " 'Yardage',\n",
       " 'Shot',\n",
       " 'ShotType',\n",
       " 'NumStrokes',\n",
       " 'FromLocationScorer',\n",
       " 'FromLocationEnhanced',\n",
       " 'ToLocationScorer',\n",
       " 'ToLocationEnhanced',\n",
       " 'Distance',\n",
       " 'DistanceToPin',\n",
       " 'InTheHoleFlag',\n",
       " 'AroundTheGreenFlag',\n",
       " 'FirstPuttFlag',\n",
       " 'DistanceToHoleAfterShot',\n",
       " 'Time',\n",
       " 'Lie',\n",
       " 'Elevation',\n",
       " 'Slope',\n",
       " 'XCoordinate',\n",
       " 'YCoordinate',\n",
       " 'ZCoordinate',\n",
       " 'DistanceFromCenter',\n",
       " 'DistanceFromEdge',\n",
       " 'Date',\n",
       " 'LeftRight',\n",
       " 'StrokesGainedBaseline',\n",
       " 'StrokesGainedCategory',\n",
       " 'RecoveryShot']"
      ]
     },
     "execution_count": 14,
     "metadata": {},
     "output_type": "execute_result"
    }
   ],
   "source": [
    "list(shotlink.shot_dtypes.keys())"
   ]
  },
  {
   "cell_type": "code",
   "execution_count": 15,
   "metadata": {
    "ExecuteTime": {
     "end_time": "2018-05-05T19:50:26.250527Z",
     "start_time": "2018-05-05T19:50:26.233698Z"
    }
   },
   "outputs": [
    {
     "data": {
      "text/plain": [
       "NaN       505\n",
       " 437.0     31\n",
       " 443.0     23\n",
       " 442.0     23\n",
       " 452.0     21\n",
       " 430.0     20\n",
       " 438.0     20\n",
       " 444.0     20\n",
       " 448.0     20\n",
       " 421.0     19\n",
       " 459.0     18\n",
       " 434.0     18\n",
       " 461.0     18\n",
       " 406.0     18\n",
       " 420.0     18\n",
       " 435.0     18\n",
       " 447.0     17\n",
       " 454.0     17\n",
       " 431.0     17\n",
       " 451.0     17\n",
       " 432.0     16\n",
       " 467.0     16\n",
       " 453.0     16\n",
       " 457.0     16\n",
       " 470.0     16\n",
       " 456.0     16\n",
       " 415.0     16\n",
       " 393.0     16\n",
       " 183.0     16\n",
       " 189.0     16\n",
       "         ... \n",
       " 585.0      1\n",
       " 287.0      1\n",
       " 331.0      1\n",
       " 338.0      1\n",
       " 649.0      1\n",
       " 105.0      1\n",
       " 123.0      1\n",
       " 648.0      1\n",
       " 293.0      1\n",
       " 595.0      1\n",
       " 594.0      1\n",
       " 273.0      1\n",
       " 251.0      1\n",
       " 741.0      1\n",
       " 607.0      1\n",
       " 259.0      1\n",
       " 773.0      1\n",
       " 999.0      1\n",
       " 358.0      1\n",
       " 612.0      1\n",
       " 660.0      1\n",
       " 620.0      1\n",
       " 614.0      1\n",
       " 481.0      1\n",
       " 764.0      1\n",
       " 133.0      1\n",
       " 995.0      1\n",
       " 109.0      1\n",
       " 333.0      1\n",
       " 677.0      1\n",
       "Name: ActualYdg, Length: 493, dtype: int64"
      ]
     },
     "execution_count": 15,
     "metadata": {},
     "output_type": "execute_result"
    }
   ],
   "source": [
    "cls['ActualYdg'].value_counts(dropna=False)"
   ]
  },
  {
   "cell_type": "code",
   "execution_count": null,
   "metadata": {},
   "outputs": [],
   "source": []
  },
  {
   "cell_type": "code",
   "execution_count": null,
   "metadata": {},
   "outputs": [],
   "source": []
  },
  {
   "cell_type": "code",
   "execution_count": 16,
   "metadata": {
    "ExecuteTime": {
     "end_time": "2018-05-05T19:50:37.231194Z",
     "start_time": "2018-05-05T19:50:27.733061Z"
    }
   },
   "outputs": [
    {
     "data": {
      "text/plain": [
       "(1214437, 43)"
      ]
     },
     "execution_count": 16,
     "metadata": {},
     "output_type": "execute_result"
    }
   ],
   "source": [
    "foo = shotlink.get_shots([2017], data_path)\n",
    "foo.shape"
   ]
  },
  {
   "cell_type": "code",
   "execution_count": 17,
   "metadata": {
    "ExecuteTime": {
     "end_time": "2018-05-05T19:50:38.012814Z",
     "start_time": "2018-05-05T19:50:38.002913Z"
    }
   },
   "outputs": [
    {
     "data": {
      "text/plain": [
       "TourCode                   category\n",
       "TourDescription            category\n",
       "Year                         uint16\n",
       "TournamentNum                uint16\n",
       "PlayerNum                    uint16\n",
       "CourseNum                    uint16\n",
       "PermanentTournamentNum       uint16\n",
       "PlayerFirstName            category\n",
       "PlayerLastName             category\n",
       "Round                         uint8\n",
       "TournamentName             category\n",
       "CourseName                 category\n",
       "Hole                          uint8\n",
       "HoleScore                   float32\n",
       "ParValue                      uint8\n",
       "Yardage                      uint16\n",
       "Shot                          uint8\n",
       "ShotType                   category\n",
       "NumStrokes                    uint8\n",
       "FromLocationScorer         category\n",
       "FromLocationEnhanced         object\n",
       "ToLocationScorer           category\n",
       "ToLocationEnhanced         category\n",
       "Distance                     uint16\n",
       "DistanceToPin                uint16\n",
       "InTheHoleFlag              category\n",
       "AroundTheGreenFlag         category\n",
       "FirstPuttFlag              category\n",
       "DistanceToHoleAfterShot      uint16\n",
       "Time                         uint16\n",
       "Lie                        category\n",
       "Elevation                  category\n",
       "Slope                      category\n",
       "XCoordinate                  object\n",
       "YCoordinate                  object\n",
       "ZCoordinate                  object\n",
       "DistanceFromCenter           uint16\n",
       "DistanceFromEdge             uint16\n",
       "Date                         object\n",
       "LeftRight                  category\n",
       "StrokesGainedBaseline       float32\n",
       "StrokesGainedCategory      category\n",
       "RecoveryShot               category\n",
       "dtype: object"
      ]
     },
     "execution_count": 17,
     "metadata": {},
     "output_type": "execute_result"
    }
   ],
   "source": [
    "foo.dtypes"
   ]
  },
  {
   "cell_type": "code",
   "execution_count": 22,
   "metadata": {
    "ExecuteTime": {
     "end_time": "2018-05-05T19:51:42.062320Z",
     "start_time": "2018-05-05T19:51:41.776943Z"
    }
   },
   "outputs": [
    {
     "data": {
      "text/plain": [
       "<matplotlib.axes._subplots.AxesSubplot at 0x10dc5c710>"
      ]
     },
     "execution_count": 22,
     "metadata": {},
     "output_type": "execute_result"
    },
    {
     "data": {
      "image/png": "[encoded data removed]",
      "text/plain": [
       "<matplotlib.figure.Figure at 0x117abfc18>"
      ]
     },
     "metadata": {},
     "output_type": "display_data"
    }
   ],
   "source": [
    "foo['Time'].plot.hist()"
   ]
  },
  {
   "cell_type": "code",
   "execution_count": 24,
   "metadata": {
    "ExecuteTime": {
     "end_time": "2018-05-05T19:52:17.601127Z",
     "start_time": "2018-05-05T19:52:17.581434Z"
    }
   },
   "outputs": [
    {
     "data": {
      "text/plain": [
       "(640, 2058, 1418)"
      ]
     },
     "execution_count": 24,
     "metadata": {},
     "output_type": "execute_result"
    }
   ],
   "source": [
    "foo['Time'].min(), foo['Time'].max(), foo['Time'].max() - foo['Time'].min()"
   ]
  },
  {
   "cell_type": "code",
   "execution_count": 27,
   "metadata": {
    "ExecuteTime": {
     "end_time": "2018-05-05T19:54:02.839288Z",
     "start_time": "2018-05-05T19:54:02.822249Z"
    }
   },
   "outputs": [
    {
     "data": {
      "text/plain": [
       "42"
      ]
     },
     "execution_count": 27,
     "metadata": {},
     "output_type": "execute_result"
    }
   ],
   "source": [
    "len(foo['TournamentNum'].unique())"
   ]
  },
  {
   "cell_type": "code",
   "execution_count": 28,
   "metadata": {
    "ExecuteTime": {
     "end_time": "2018-05-05T19:54:42.342337Z",
     "start_time": "2018-05-05T19:54:42.330038Z"
    }
   },
   "outputs": [
    {
     "data": {
      "text/plain": [
       "TourCode                                                R\n",
       "TourDescription                                  PGA TOUR\n",
       "Year                                                 2017\n",
       "TournamentNum                                          10\n",
       "PlayerNum                                            1810\n",
       "CourseNum                                             552\n",
       "PermanentTournamentNum                                464\n",
       "PlayerFirstName                                      Phil\n",
       "PlayerLastName                                  Mickelson\n",
       "Round                                                   1\n",
       "TournamentName                               Safeway Open\n",
       "CourseName                 Silverado Resort and Spa North\n",
       "Hole                                                    1\n",
       "HoleScore                                               5\n",
       "ParValue                                                4\n",
       "Yardage                                               436\n",
       "Shot                                                    1\n",
       "ShotType                                                S\n",
       "NumStrokes                                              1\n",
       "FromLocationScorer                                Tee Box\n",
       "FromLocationEnhanced                                  NaN\n",
       "ToLocationScorer                            Primary Rough\n",
       "ToLocationEnhanced                            Right Rough\n",
       "Distance                                            10327\n",
       "DistanceToPin                                       15804\n",
       "InTheHoleFlag                                           N\n",
       "AroundTheGreenFlag                                      N\n",
       "FirstPuttFlag                                           N\n",
       "DistanceToHoleAfterShot                              5496\n",
       "Time                                                 1241\n",
       "Lie                                                  Good\n",
       "Elevation                                            With\n",
       "Slope                                               Level\n",
       "XCoordinate                                   10,734.3430\n",
       "YCoordinate                                    9,531.0870\n",
       "ZCoordinate                                       84.1040\n",
       "DistanceFromCenter                                   1104\n",
       "DistanceFromEdge                                      645\n",
       "Date                                           10/13/2016\n",
       "LeftRight                                               R\n",
       "StrokesGainedBaseline                              -0.091\n",
       "StrokesGainedCategory                         Off the Tee\n",
       "RecoveryShot                                           No\n",
       "Name: 0, dtype: object"
      ]
     },
     "execution_count": 28,
     "metadata": {},
     "output_type": "execute_result"
    }
   ],
   "source": [
    "foo.iloc[0]"
   ]
  },
  {
   "cell_type": "code",
   "execution_count": 29,
   "metadata": {
    "ExecuteTime": {
     "end_time": "2018-05-05T19:54:44.402115Z",
     "start_time": "2018-05-05T19:54:44.394331Z"
    }
   },
   "outputs": [
    {
     "data": {
      "text/plain": [
       "TourCode                   category\n",
       "TourDescription            category\n",
       "Year                         uint16\n",
       "TournamentNum                uint16\n",
       "PlayerNum                    uint16\n",
       "CourseNum                    uint16\n",
       "PermanentTournamentNum       uint16\n",
       "PlayerFirstName            category\n",
       "PlayerLastName             category\n",
       "Round                         uint8\n",
       "TournamentName             category\n",
       "CourseName                 category\n",
       "Hole                          uint8\n",
       "HoleScore                   float32\n",
       "ParValue                      uint8\n",
       "Yardage                      uint16\n",
       "Shot                          uint8\n",
       "ShotType                   category\n",
       "NumStrokes                    uint8\n",
       "FromLocationScorer         category\n",
       "FromLocationEnhanced         object\n",
       "ToLocationScorer           category\n",
       "ToLocationEnhanced         category\n",
       "Distance                     uint16\n",
       "DistanceToPin                uint16\n",
       "InTheHoleFlag              category\n",
       "AroundTheGreenFlag         category\n",
       "FirstPuttFlag              category\n",
       "DistanceToHoleAfterShot      uint16\n",
       "Time                         uint16\n",
       "Lie                        category\n",
       "Elevation                  category\n",
       "Slope                      category\n",
       "XCoordinate                  object\n",
       "YCoordinate                  object\n",
       "ZCoordinate                  object\n",
       "DistanceFromCenter           uint16\n",
       "DistanceFromEdge             uint16\n",
       "Date                         object\n",
       "LeftRight                  category\n",
       "StrokesGainedBaseline       float32\n",
       "StrokesGainedCategory      category\n",
       "RecoveryShot               category\n",
       "dtype: object"
      ]
     },
     "execution_count": 29,
     "metadata": {},
     "output_type": "execute_result"
    }
   ],
   "source": [
    "foo.dtypes"
   ]
  },
  {
   "cell_type": "code",
   "execution_count": 14,
   "metadata": {},
   "outputs": [],
   "source": [
    "foo['Date'] = pd.to_datetime(foo['Date'])"
   ]
  },
  {
   "cell_type": "code",
   "execution_count": 15,
   "metadata": {},
   "outputs": [
    {
     "data": {
      "text/plain": [
       "TourCode                         category\n",
       "TourDescription                  category\n",
       "Year                               uint16\n",
       "TournamentNum                      uint16\n",
       "PlayerNum                          uint16\n",
       "CourseNum                          uint16\n",
       "PermanentTournamentNum             uint16\n",
       "PlayerFirstName                  category\n",
       "PlayerLastName                   category\n",
       "Round                               uint8\n",
       "TournamentName                   category\n",
       "CourseName                       category\n",
       "Hole                                uint8\n",
       "HoleScore                         float32\n",
       "ParValue                            uint8\n",
       "Yardage                            uint16\n",
       "Shot                                uint8\n",
       "ShotType                         category\n",
       "NumStrokes                          uint8\n",
       "FromLocationScorer               category\n",
       "FromLocationEnhanced               object\n",
       "ToLocationScorer                 category\n",
       "ToLocationEnhanced               category\n",
       "Distance                           uint16\n",
       "DistanceToPin                      uint16\n",
       "InTheHoleFlag                    category\n",
       "AroundTheGreenFlag               category\n",
       "FirstPuttFlag                    category\n",
       "DistanceToHoleAfterShot            uint16\n",
       "Time                               uint16\n",
       "Lie                              category\n",
       "Elevation                        category\n",
       "Slope                            category\n",
       "XCoordinate                        object\n",
       "YCoordinate                        object\n",
       "ZCoordinate                        object\n",
       "DistanceFromCenter                 uint16\n",
       "DistanceFromEdge                   uint16\n",
       "Date                       datetime64[ns]\n",
       "LeftRight                        category\n",
       "StrokesGainedBaseline             float32\n",
       "StrokesGainedCategory            category\n",
       "RecoveryShot                     category\n",
       "dtype: object"
      ]
     },
     "execution_count": 15,
     "metadata": {},
     "output_type": "execute_result"
    }
   ],
   "source": [
    "foo.dtypes"
   ]
  },
  {
   "cell_type": "code",
   "execution_count": 18,
   "metadata": {},
   "outputs": [
    {
     "data": {
      "text/plain": [
       "'datetime64[ns]'"
      ]
     },
     "execution_count": 18,
     "metadata": {},
     "output_type": "execute_result"
    }
   ],
   "source": [
    "str(foo['Date'].dtype)"
   ]
  },
  {
   "cell_type": "code",
   "execution_count": null,
   "metadata": {},
   "outputs": [],
   "source": []
  },
  {
   "cell_type": "code",
   "execution_count": 31,
   "metadata": {
    "ExecuteTime": {
     "end_time": "2018-05-05T19:55:23.568317Z",
     "start_time": "2018-05-05T19:55:23.562916Z"
    }
   },
   "outputs": [
    {
     "data": {
      "text/plain": [
       "[2008, 2009, 2010, 2011, 2012, 2013, 2014, 2015, 2016, 2017]"
      ]
     },
     "execution_count": 31,
     "metadata": {},
     "output_type": "execute_result"
    }
   ],
   "source": [
    "list(range(2008, 2018))"
   ]
  },
  {
   "cell_type": "code",
   "execution_count": 33,
   "metadata": {
    "ExecuteTime": {
     "end_time": "2018-05-05T19:57:37.852746Z",
     "start_time": "2018-05-05T19:56:01.899276Z"
    }
   },
   "outputs": [
    {
     "data": {
      "text/plain": [
       "(11365769, 43)"
      ]
     },
     "execution_count": 33,
     "metadata": {},
     "output_type": "execute_result"
    }
   ],
   "source": [
    "shots_all_years = shotlink.get_shots(range(2008, 2018), data_path)\n",
    "shots_all_years.shape"
   ]
  },
  {
   "cell_type": "markdown",
   "metadata": {},
   "source": [
    "The first time I ran the line below I got back 11,555mb, or ~11.5gb, however, my machine only shows Python using ~2.1gb total. The code below seems to run pretty quickly too."
   ]
  },
  {
   "cell_type": "code",
   "execution_count": 34,
   "metadata": {
    "ExecuteTime": {
     "end_time": "2018-05-05T19:57:52.488078Z",
     "start_time": "2018-05-05T19:57:37.858909Z"
    }
   },
   "outputs": [
    {
     "data": {
      "text/plain": [
       "'11555.21 MB'"
      ]
     },
     "execution_count": 34,
     "metadata": {},
     "output_type": "execute_result"
    }
   ],
   "source": [
    "mem_usage(shots_all_years)"
   ]
  },
  {
   "cell_type": "code",
   "execution_count": 37,
   "metadata": {
    "ExecuteTime": {
     "end_time": "2018-05-05T19:59:59.569340Z",
     "start_time": "2018-05-05T19:59:57.494493Z"
    }
   },
   "outputs": [
    {
     "data": {
      "text/plain": [
       "<matplotlib.axes._subplots.AxesSubplot at 0x13110a358>"
      ]
     },
     "execution_count": 37,
     "metadata": {},
     "output_type": "execute_result"
    },
    {
     "data": {
      "image/png": "[encoded data removed]",
      "text/plain": [
       "<matplotlib.figure.Figure at 0x1306d8048>"
      ]
     },
     "metadata": {},
     "output_type": "display_data"
    }
   ],
   "source": [
    "shots_all_years['Time'].plot.hist()"
   ]
  },
  {
   "cell_type": "code",
   "execution_count": 36,
   "metadata": {
    "ExecuteTime": {
     "end_time": "2018-05-05T19:59:46.752817Z",
     "start_time": "2018-05-05T19:59:46.658948Z"
    }
   },
   "outputs": [
    {
     "data": {
      "text/plain": [
       "(0, 2109)"
      ]
     },
     "execution_count": 36,
     "metadata": {},
     "output_type": "execute_result"
    }
   ],
   "source": [
    "shots_all_years['Time'].min(), shots_all_years['Time'].max()"
   ]
  },
  {
   "cell_type": "code",
   "execution_count": 38,
   "metadata": {
    "ExecuteTime": {
     "end_time": "2018-05-05T20:00:42.498545Z",
     "start_time": "2018-05-05T20:00:42.347909Z"
    }
   },
   "outputs": [
    {
     "data": {
      "text/plain": [
       "10"
      ]
     },
     "execution_count": 38,
     "metadata": {},
     "output_type": "execute_result"
    }
   ],
   "source": [
    "len(shots_all_years['Year'].unique())"
   ]
  },
  {
   "cell_type": "code",
   "execution_count": 39,
   "metadata": {
    "ExecuteTime": {
     "end_time": "2018-05-05T20:03:00.802101Z",
     "start_time": "2018-05-05T20:03:00.695576Z"
    }
   },
   "outputs": [
    {
     "data": {
      "text/plain": [
       "50"
      ]
     },
     "execution_count": 39,
     "metadata": {},
     "output_type": "execute_result"
    }
   ],
   "source": [
    "len(shots_all_years['TournamentNum'].unique())"
   ]
  },
  {
   "cell_type": "markdown",
   "metadata": {},
   "source": [
    "Total number of tournaments, for all years (I think)."
   ]
  },
  {
   "cell_type": "code",
   "execution_count": 41,
   "metadata": {
    "ExecuteTime": {
     "end_time": "2018-05-05T20:04:09.077062Z",
     "start_time": "2018-05-05T20:04:08.340696Z"
    }
   },
   "outputs": [
    {
     "data": {
      "text/plain": [
       "392"
      ]
     },
     "execution_count": 41,
     "metadata": {},
     "output_type": "execute_result"
    }
   ],
   "source": [
    "len(shots_all_years.groupby(['Year','TournamentNum']).size())"
   ]
  },
  {
   "cell_type": "code",
   "execution_count": 43,
   "metadata": {
    "ExecuteTime": {
     "end_time": "2018-05-05T20:07:33.240546Z",
     "start_time": "2018-05-05T20:07:32.056914Z"
    }
   },
   "outputs": [
    {
     "data": {
      "text/plain": [
       "TournamentNum  CourseName                    \n",
       "10             Silverado Resort and Spa North    30418\n",
       "30             CC of Jackson                     29723\n",
       "50             TPC Summerlin                     30101\n",
       "60             El Camaleon GC                    28562\n",
       "70             Sea Island Resort (Plantation)    10969\n",
       "               Sea Island Resort (Seaside)       21222\n",
       "110            Plantation Course at Kapalua       9063\n",
       "120            Waialae CC                        30430\n",
       "130            La Quinta CC                      10910\n",
       "               Nicklaus Tournament Course        11120\n",
       "               Stadium Course                    16856\n",
       "140            Torrey Pines (North)              11101\n",
       "               Torrey Pines GC (South)           22523\n",
       "150            TPC Scottsdale                    29217\n",
       "160            Monterey Peninsula CC             11026\n",
       "               Pebble Beach GL                   15908\n",
       "               Spyglass Hill GC                  11116\n",
       "170            Riviera CC                        30188\n",
       "180            PGA National (Champion)           29997\n",
       "190            Club de Golf Chapultepec          21670\n",
       "200            Innisbrook Resort (Copperhead)    30454\n",
       "210            Bay Hill Club & Lodge             28142\n",
       "220            Coco Beach Golf & CC              29342\n",
       "230            Austin Country Club               11585\n",
       "240            GC of Houston                     31886\n",
       "260            Harbour Town GL                   29237\n",
       "270            TPC San Antonio - AT&T Oaks       33870\n",
       "280            TPC Louisiana                     32393\n",
       "290            Eagle Point Golf Club             33839\n",
       "300            TPC Sawgrass                      32702\n",
       "310            TPC Four Seasons Resort           32873\n",
       "320            Colonial CC                       27469\n",
       "330            Muirfield Village GC              28697\n",
       "340            TPC Southwind                     33357\n",
       "350            Erin Hills                        32785\n",
       "360            TPC River Highlands               33084\n",
       "370            TPC Potomac at Avenel Farm        27574\n",
       "380            The Old White TPC                 31810\n",
       "390            TPC Deere Run                     32401\n",
       "400            RTJ Trail (Grand National)        29000\n",
       "420            Glen Abbey GC                     32843\n",
       "440            Firestone CC (South)              21505\n",
       "450            Quail Hollow-PGA Championship     33972\n",
       "460            Sedgefield CC                     32193\n",
       "470            Glen Oaks Club                    27010\n",
       "480            TPC Boston                        24705\n",
       "490            Conway Farms GC                   19235\n",
       "500            East Lake GC                       8354\n",
       "dtype: int64"
      ]
     },
     "execution_count": 43,
     "metadata": {},
     "output_type": "execute_result"
    }
   ],
   "source": [
    "foo.groupby(['TournamentNum','CourseName']).size()"
   ]
  },
  {
   "cell_type": "code",
   "execution_count": null,
   "metadata": {},
   "outputs": [],
   "source": []
  }
 ],
 "metadata": {
  "kernelspec": {
   "display_name": "Python 3",
   "language": "python",
   "name": "python3"
  },
  "language_info": {
   "codemirror_mode": {
    "name": "ipython",
    "version": 3
   },
   "file_extension": ".py",
   "mimetype": "text/x-python",
   "name": "python",
   "nbconvert_exporter": "python",
   "pygments_lexer": "ipython3",
   "version": "3.6.4"
  }
 },
 "nbformat": 4,
 "nbformat_minor": 2
}
