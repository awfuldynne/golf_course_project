{
 "cells": [
  {
   "cell_type": "markdown",
   "metadata": {},
   "source": [
    "The API itself, generally but specifically here for historical data, is documented at https://darksky.net/dev/docs#time-machine-request.\n",
    "\n",
    "There are two different Python 3 libraries linked to at https://darksky.net/dev/docs/libraries.\n",
    "\n",
    "https://github.com/lukaskubis/darkskylib is listed first, and has the most recent activity (four months ago). I'll start w/ this one.\n",
    "\n",
    "https://github.com/bitpixdigital/forecastiopy3 has a similar number of commits - ~50 - but hasn't been touched for two years. It's a port of a Python 2 library. "
   ]
  },
  {
   "cell_type": "code",
   "execution_count": 1,
   "metadata": {
    "ExecuteTime": {
     "end_time": "2018-05-16T01:53:00.516552Z",
     "start_time": "2018-05-16T01:53:00.507940Z"
    }
   },
   "outputs": [],
   "source": [
    "# set your key using the DARK_SKY_KEY env variable\n",
    "# (so I don't need to )\n",
    "import os\n",
    "api_key = os.environ['DARK_SKY_KEY']"
   ]
  },
  {
   "cell_type": "markdown",
   "metadata": {
    "ExecuteTime": {
     "end_time": "2018-05-03T19:21:18.763314Z",
     "start_time": "2018-05-03T19:21:18.743283Z"
    }
   },
   "source": [
    "I installed the DarkSkyLib module via the following:\n",
    "\n",
    "    pip install git+http://github.com/lukaskubis/darkskylib"
   ]
  },
  {
   "cell_type": "markdown",
   "metadata": {},
   "source": [
    "# Quick simple stuff with a current request - i.e., for forecasted numbers"
   ]
  },
  {
   "cell_type": "code",
   "execution_count": 3,
   "metadata": {
    "ExecuteTime": {
     "end_time": "2018-05-16T01:53:58.419595Z",
     "start_time": "2018-05-16T01:53:58.294327Z"
    }
   },
   "outputs": [],
   "source": [
    "from darksky import forecast"
   ]
  },
  {
   "cell_type": "code",
   "execution_count": 6,
   "metadata": {
    "ExecuteTime": {
     "end_time": "2018-05-16T01:54:34.072528Z",
     "start_time": "2018-05-16T01:54:33.465582Z"
    }
   },
   "outputs": [
    {
     "data": {
      "text/plain": [
       "<darksky.forecast.Forecast at 0x10c7592b0>"
      ]
     },
     "execution_count": 6,
     "metadata": {},
     "output_type": "execute_result"
    }
   ],
   "source": [
    "riviera_cc_forecast = forecast(api_key, 34.0498, -118.5013)\n",
    "riviera_cc_forecast"
   ]
  },
  {
   "cell_type": "code",
   "execution_count": 4,
   "metadata": {},
   "outputs": [
    {
     "data": {
      "text/plain": [
       "{'apparentTemperature': 66.09,\n",
       " 'cloudCover': 0.04,\n",
       " 'dewPoint': 49.61,\n",
       " 'humidity': 0.55,\n",
       " 'icon': 'clear-day',\n",
       " 'nearestStormBearing': 41,\n",
       " 'nearestStormDistance': 317,\n",
       " 'ozone': 371.75,\n",
       " 'precipIntensity': 0,\n",
       " 'precipProbability': 0,\n",
       " 'pressure': 1021.2,\n",
       " 'summary': 'Clear',\n",
       " 'temperature': 66.09,\n",
       " 'time': 1525376379,\n",
       " 'uvIndex': 10,\n",
       " 'visibility': 10,\n",
       " 'windBearing': 246,\n",
       " 'windGust': 9.05,\n",
       " 'windSpeed': 5.95}"
      ]
     },
     "execution_count": 4,
     "metadata": {},
     "output_type": "execute_result"
    }
   ],
   "source": [
    "riviera_cc_forecast['currently']"
   ]
  },
  {
   "cell_type": "code",
   "execution_count": 8,
   "metadata": {},
   "outputs": [
    {
     "data": {
      "text/plain": [
       "19"
      ]
     },
     "execution_count": 8,
     "metadata": {},
     "output_type": "execute_result"
    }
   ],
   "source": [
    "len(riviera_cc_forecast.currently)"
   ]
  },
  {
   "cell_type": "code",
   "execution_count": 9,
   "metadata": {},
   "outputs": [
    {
     "data": {
      "text/plain": [
       "49"
      ]
     },
     "execution_count": 9,
     "metadata": {},
     "output_type": "execute_result"
    }
   ],
   "source": [
    "len(riviera_cc_forecast.hourly)"
   ]
  },
  {
   "cell_type": "code",
   "execution_count": 22,
   "metadata": {},
   "outputs": [
    {
     "data": {
      "text/plain": [
       "'Clear'"
      ]
     },
     "execution_count": 22,
     "metadata": {},
     "output_type": "execute_result"
    }
   ],
   "source": [
    "riviera_cc_forecast.hourly[0].summary"
   ]
  },
  {
   "cell_type": "code",
   "execution_count": 25,
   "metadata": {},
   "outputs": [
    {
     "name": "stdout",
     "output_type": "stream",
     "text": [
      "1525374000\n",
      "1525377600\n",
      "1525381200\n",
      "1525384800\n",
      "1525388400\n",
      "1525392000\n",
      "1525395600\n",
      "1525399200\n",
      "1525402800\n",
      "1525406400\n",
      "1525410000\n",
      "1525413600\n",
      "1525417200\n",
      "1525420800\n",
      "1525424400\n",
      "1525428000\n",
      "1525431600\n",
      "1525435200\n",
      "1525438800\n",
      "1525442400\n",
      "1525446000\n",
      "1525449600\n",
      "1525453200\n",
      "1525456800\n",
      "1525460400\n",
      "1525464000\n",
      "1525467600\n",
      "1525471200\n",
      "1525474800\n",
      "1525478400\n",
      "1525482000\n",
      "1525485600\n",
      "1525489200\n",
      "1525492800\n",
      "1525496400\n",
      "1525500000\n",
      "1525503600\n",
      "1525507200\n",
      "1525510800\n",
      "1525514400\n",
      "1525518000\n",
      "1525521600\n",
      "1525525200\n",
      "1525528800\n",
      "1525532400\n",
      "1525536000\n",
      "1525539600\n",
      "1525543200\n",
      "1525546800\n"
     ]
    }
   ],
   "source": [
    "# i think this is a forecast for every upcoming hour, for the next\n",
    "# 48 hours\n",
    "for hour in riviera_cc_forecast.hourly:\n",
    "    print(hour.time)"
   ]
  },
  {
   "cell_type": "markdown",
   "metadata": {},
   "source": [
    "# And for historical data"
   ]
  },
  {
   "cell_type": "markdown",
   "metadata": {},
   "source": [
    "The 2017 Genesis Open was played at Riviera Country Club in LA from 2/16/17 to 2/19/17. (For 2018, I think there may have been extra holes played Sunday, because of weather previous - not sure about 2017.)"
   ]
  },
  {
   "cell_type": "code",
   "execution_count": 45,
   "metadata": {},
   "outputs": [],
   "source": [
    "# docs say we can pass a Unix time - this is the 152... numbers above\n",
    "# or using the format [YYYY]-[MM]-[DD]T[HH]:[MM]:[SS]\n",
    "# (see the doc for more on time zones - if we don't specify it'll give\n",
    "# local time at the location being requested)"
   ]
  },
  {
   "cell_type": "code",
   "execution_count": 8,
   "metadata": {
    "ExecuteTime": {
     "end_time": "2018-05-16T01:55:20.403612Z",
     "start_time": "2018-05-16T01:55:19.987843Z"
    }
   },
   "outputs": [],
   "source": [
    "d_date = forecast(api_key, 21.0068, -156.64, '2012-01-06T00:00:00')"
   ]
  },
  {
   "cell_type": "code",
   "execution_count": 9,
   "metadata": {
    "ExecuteTime": {
     "end_time": "2018-05-16T01:55:22.808047Z",
     "start_time": "2018-05-16T01:55:22.802191Z"
    }
   },
   "outputs": [
    {
     "data": {
      "text/plain": [
       "{'apparentTemperature': 67.2,\n",
       " 'cloudCover': 0.05,\n",
       " 'dewPoint': 58.78,\n",
       " 'humidity': 0.74,\n",
       " 'icon': 'clear-night',\n",
       " 'precipIntensity': 0,\n",
       " 'precipProbability': 0,\n",
       " 'pressure': 1020.45,\n",
       " 'summary': 'Clear',\n",
       " 'temperature': 67.2,\n",
       " 'time': 1325844000,\n",
       " 'visibility': 10,\n",
       " 'windBearing': 62,\n",
       " 'windSpeed': 3.77}"
      ]
     },
     "execution_count": 9,
     "metadata": {},
     "output_type": "execute_result"
    }
   ],
   "source": [
    "d_date['currently']"
   ]
  },
  {
   "cell_type": "code",
   "execution_count": 14,
   "metadata": {
    "ExecuteTime": {
     "end_time": "2018-05-16T01:55:42.805626Z",
     "start_time": "2018-05-16T01:55:42.802829Z"
    }
   },
   "outputs": [],
   "source": [
    "import datetime"
   ]
  },
  {
   "cell_type": "code",
   "execution_count": 15,
   "metadata": {
    "ExecuteTime": {
     "end_time": "2018-05-16T01:55:43.362331Z",
     "start_time": "2018-05-16T01:55:43.356820Z"
    }
   },
   "outputs": [
    {
     "data": {
      "text/plain": [
       "datetime.datetime(2012, 1, 6, 2, 0)"
      ]
     },
     "execution_count": 15,
     "metadata": {},
     "output_type": "execute_result"
    }
   ],
   "source": [
    "datetime.datetime.fromtimestamp(d_date['currently']['time'])"
   ]
  },
  {
   "cell_type": "code",
   "execution_count": 16,
   "metadata": {
    "ExecuteTime": {
     "end_time": "2018-05-16T01:55:44.227974Z",
     "start_time": "2018-05-16T01:55:44.222432Z"
    }
   },
   "outputs": [
    {
     "data": {
      "text/plain": [
       "3"
      ]
     },
     "execution_count": 16,
     "metadata": {},
     "output_type": "execute_result"
    }
   ],
   "source": [
    "len(d_date['hourly'])"
   ]
  },
  {
   "cell_type": "code",
   "execution_count": 17,
   "metadata": {
    "ExecuteTime": {
     "end_time": "2018-05-16T01:55:44.447303Z",
     "start_time": "2018-05-16T01:55:44.442381Z"
    }
   },
   "outputs": [
    {
     "data": {
      "text/plain": [
       "(21.0068, -156.64)"
      ]
     },
     "execution_count": 17,
     "metadata": {},
     "output_type": "execute_result"
    }
   ],
   "source": [
    "d_date.latitude, d_date.longitude"
   ]
  },
  {
   "cell_type": "code",
   "execution_count": 18,
   "metadata": {
    "ExecuteTime": {
     "end_time": "2018-05-16T01:55:44.790754Z",
     "start_time": "2018-05-16T01:55:44.778820Z"
    }
   },
   "outputs": [
    {
     "name": "stdout",
     "output_type": "stream",
     "text": [
      "2012-01-06 02:00:00 Clear Temp: 67.2 Wind: 62 3.77\n",
      "2012-01-06 03:00:00 Clear Temp: 69.12 Wind: 53 8.27\n",
      "2012-01-06 04:00:00 Clear Temp: 69.02 Wind: 43 10.3\n",
      "2012-01-06 05:00:00 Clear Temp: 66.5 Wind: 72 5.1\n",
      "2012-01-06 06:00:00 Clear Temp: 66.69 Wind: 23 10.93\n",
      "2012-01-06 07:00:00 Clear Temp: 66.07 Wind: 57 9.15\n",
      "2012-01-06 08:00:00 Partly Cloudy Temp: 68.5 Wind: 68 7.38\n",
      "2012-01-06 09:00:00 Clear Temp: 67.79 Wind: 117 6.12\n",
      "2012-01-06 10:00:00 Clear Temp: 66.46 Wind: 118 5.01\n",
      "2012-01-06 11:00:00 Clear Temp: 72.32 Wind: 96 3.66\n",
      "2012-01-06 12:00:00 Clear Temp: 75.24 Wind: 69 7.69\n",
      "2012-01-06 13:00:00 Partly Cloudy Temp: 77.03 Wind: 41 9.41\n",
      "2012-01-06 14:00:00 Partly Cloudy Temp: 78.36 Wind: 113 4.4\n",
      "2012-01-06 15:00:00 Partly Cloudy Temp: 77.69 Wind: 77 12.98\n",
      "2012-01-06 16:00:00 Partly Cloudy Temp: 78.77 Wind: 53 9.75\n",
      "2012-01-06 17:00:00 Partly Cloudy Temp: 77.22 Wind: 59 11.25\n",
      "2012-01-06 18:00:00 Partly Cloudy Temp: 77.12 Wind: 65 13.23\n",
      "2012-01-06 19:00:00 Partly Cloudy Temp: 75.58 Wind: 68 14.14\n",
      "2012-01-06 20:00:00 Clear Temp: 73.35 Wind: 58 12.4\n",
      "2012-01-06 21:00:00 Clear Temp: 71.63 Wind: 40 11.85\n",
      "2012-01-06 22:00:00 Partly Cloudy Temp: 70.39 Wind: 39 10.16\n",
      "2012-01-06 23:00:00 Partly Cloudy Temp: 69.84 Wind: 46 9.49\n",
      "2012-01-07 00:00:00 Partly Cloudy Temp: 68.04 Wind: 74 5.75\n",
      "2012-01-07 01:00:00 Clear Temp: 66.85 Wind: 53 3.35\n"
     ]
    }
   ],
   "source": [
    "for hour in d_date.hourly:\n",
    "    print(datetime.datetime.fromtimestamp(hour.time), \n",
    "          hour.summary, \"Temp:\", hour.temperature, \n",
    "          \"Wind:\", hour.windBearing, hour.windSpeed)"
   ]
  },
  {
   "cell_type": "code",
   "execution_count": 60,
   "metadata": {},
   "outputs": [
    {
     "data": {
      "text/plain": [
       "['2017-02-16T00:00:00',\n",
       " '2017-02-17T00:00:00',\n",
       " '2017-02-18T00:00:00',\n",
       " '2017-02-19T00:00:00']"
      ]
     },
     "execution_count": 60,
     "metadata": {},
     "output_type": "execute_result"
    }
   ],
   "source": [
    "dates = ['2017-02-{}T00:00:00'.format(day) for day in range(16,20)]\n",
    "dates"
   ]
  },
  {
   "cell_type": "code",
   "execution_count": 61,
   "metadata": {},
   "outputs": [
    {
     "data": {
      "text/plain": [
       "4"
      ]
     },
     "execution_count": 61,
     "metadata": {},
     "output_type": "execute_result"
    }
   ],
   "source": [
    "data = [forecast(api_key, 34.0498, -118.5013, date) for date in dates]\n",
    "len(data)"
   ]
  },
  {
   "cell_type": "code",
   "execution_count": 65,
   "metadata": {},
   "outputs": [
    {
     "name": "stdout",
     "output_type": "stream",
     "text": [
      "2017-02-16 00:00:00 Clear Temp: 54.41 Wind: 99 2.34\n",
      "2017-02-16 01:00:00 Clear Temp: 53.74 Wind: 71 4.01\n",
      "2017-02-16 02:00:00 Clear Temp: 53.59 Wind: 170 2.22\n",
      "2017-02-16 03:00:00 Clear Temp: 53.33 Wind: 182 1.28\n",
      "2017-02-16 04:00:00 Clear Temp: 53.6 Wind: 194 1.42\n",
      "2017-02-16 05:00:00 Clear Temp: 53.34 Wind: 112 3.95\n",
      "2017-02-16 06:00:00 Clear Temp: 52.94 Wind: 139 1.91\n",
      "2017-02-16 07:00:00 Clear Temp: 52.66 Wind: 60 2.62\n",
      "2017-02-16 08:00:00 Clear Temp: 54.41 Wind: 132 2.39\n",
      "2017-02-16 09:00:00 Clear Temp: 55.9 Wind: 112 2.16\n",
      "2017-02-16 10:00:00 Clear Temp: 59.76 Wind: 180 3.83\n",
      "2017-02-16 11:00:00 Clear Temp: 60.23 Wind: 258 8.86\n",
      "2017-02-16 12:00:00 Clear Temp: 61.29 Wind: 239 4.17\n",
      "2017-02-16 13:00:00 Clear Temp: 61.65 Wind: 243 5.66\n",
      "2017-02-16 14:00:00 Clear Temp: 62.52 Wind: 202 4.58\n",
      "2017-02-16 15:00:00 Clear Temp: 64.31 Wind: 230 5.13\n",
      "2017-02-16 16:00:00 Clear Temp: 63.33 Wind: 244 9.25\n",
      "2017-02-16 17:00:00 Clear Temp: 61.39 Wind: 241 7.67\n",
      "2017-02-16 18:00:00 Clear Temp: 59.33 Wind: 224 5.12\n",
      "2017-02-16 19:00:00 Clear Temp: 59.02 Wind: 199 4.79\n",
      "2017-02-16 20:00:00 Partly Cloudy Temp: 58.57 Wind: 218 3.42\n",
      "2017-02-16 21:00:00 Clear Temp: 58.67 Wind: 166 4.02\n",
      "2017-02-16 22:00:00 Overcast Temp: 58.25 Wind: 173 2.76\n",
      "2017-02-16 23:00:00 Partly Cloudy Temp: 58.22 Wind: 93 5.4\n",
      "2017-02-17 00:00:00 Clear Temp: 58.16 Wind: 108 4.66\n",
      "2017-02-17 01:00:00 Clear Temp: 57.98 Wind: 107 5.32\n",
      "2017-02-17 02:00:00 Clear Temp: 58.16 Wind: 107 8.22\n",
      "2017-02-17 03:00:00 Clear Temp: 57.66 Wind: 120 10.89\n",
      "2017-02-17 04:00:00 Overcast Temp: 57.42 Wind: 127 8.25\n",
      "2017-02-17 05:00:00 Clear Temp: 57.27 Wind: 127 9.16\n",
      "2017-02-17 06:00:00 Partly Cloudy Temp: 56.68 Wind: 113 10.87\n",
      "2017-02-17 07:00:00 Clear Temp: 57.08 Wind: 122 11.7\n",
      "2017-02-17 08:00:00 Clear Temp: 56.66 Wind: 119 13.99\n",
      "2017-02-17 09:00:00 Breezy Temp: 57.2 Wind: 111 15.93\n",
      "2017-02-17 10:00:00 Breezy and Overcast Temp: 57.25 Wind: 117 20.09\n",
      "2017-02-17 11:00:00 Light Rain and Breezy Temp: 56.73 Wind: 117 20.93\n",
      "2017-02-17 12:00:00 Windy Temp: 56.63 Wind: 119 25.75\n",
      "2017-02-17 13:00:00 Rain and Breezy Temp: 57.02 Wind: 127 24.48\n",
      "2017-02-17 14:00:00 Rain and Breezy Temp: 56.82 Wind: 132 22.96\n",
      "2017-02-17 15:00:00 Heavy Rain and Windy Temp: 56.52 Wind: 128 26.24\n",
      "2017-02-17 16:00:00 Rain and Breezy Temp: 56.06 Wind: 145 18.42\n",
      "2017-02-17 17:00:00 Rain and Breezy Temp: 54.7 Wind: 172 15.09\n",
      "2017-02-17 18:00:00 Rain Temp: 54.02 Wind: 128 10.75\n",
      "2017-02-17 19:00:00 Rain Temp: 53.07 Wind: 97 11.44\n",
      "2017-02-17 20:00:00 Rain Temp: 52.61 Wind: 93 11.69\n",
      "2017-02-17 21:00:00 Light Rain Temp: 53.2 Wind: 112 10.46\n",
      "2017-02-17 22:00:00 Overcast Temp: 53.1 Wind: 123 9.79\n",
      "2017-02-17 23:00:00 Clear Temp: 52.66 Wind: 106 8.23\n",
      "2017-02-18 00:00:00 Clear Temp: 52.5 Wind: 95 8.01\n",
      "2017-02-18 01:00:00 Clear Temp: 51.99 Wind: 85 9.1\n",
      "2017-02-18 02:00:00 Clear Temp: 51.68 Wind: 85 8.64\n",
      "2017-02-18 03:00:00 Clear Temp: 51.71 Wind: 82 7.89\n",
      "2017-02-18 04:00:00 Mostly Cloudy Temp: 52.2 Wind: 85 6.15\n",
      "2017-02-18 05:00:00 Clear Temp: 51.78 Wind: 76 6.27\n",
      "2017-02-18 06:00:00 Clear Temp: 51.72 Wind: 66 6.18\n",
      "2017-02-18 07:00:00 Clear Temp: 51.87 Wind: 80 6.26\n",
      "2017-02-18 08:00:00 Clear Temp: 52.69 Wind: 75 5.94\n",
      "2017-02-18 09:00:00 Clear Temp: 53.55 Wind: 72 5.48\n",
      "2017-02-18 10:00:00 Mostly Cloudy Temp: 54.09 Wind: 102 6.48\n",
      "2017-02-18 11:00:00 Clear Temp: 54.82 Wind: 99 3.45\n",
      "2017-02-18 12:00:00 Clear Temp: 56.7 Wind: 120 4.25\n",
      "2017-02-18 13:00:00 Clear Temp: 57.53 Wind: 136 2.07\n",
      "2017-02-18 14:00:00 Partly Cloudy Temp: 57.89 Wind: 228 4.98\n",
      "2017-02-18 15:00:00 Clear Temp: 56.73 Wind: 257 7.76\n",
      "2017-02-18 16:00:00 Mostly Cloudy Temp: 56.72 Wind: 258 10.77\n",
      "2017-02-18 17:00:00 Partly Cloudy Temp: 57.69 Wind: 280 7.98\n",
      "2017-02-18 18:00:00 Partly Cloudy Temp: 57.16 Wind: 260 8.01\n",
      "2017-02-18 19:00:00 Clear Temp: 56.02 Wind: 266 8.01\n",
      "2017-02-18 20:00:00 Clear Temp: 55.27 Wind: 260 4.46\n",
      "2017-02-18 21:00:00 Clear Temp: 54.11 Wind: 266 4.29\n",
      "2017-02-18 22:00:00 Clear Temp: 53.48 Wind: 23 0.76\n",
      "2017-02-18 23:00:00 Clear Temp: 52.85 Wind: 27 1.26\n",
      "2017-02-19 00:00:00 Clear Temp: 51.93 Wind: 15 0.52\n",
      "2017-02-19 01:00:00 Clear Temp: 51.37 Wind: 29 3.55\n",
      "2017-02-19 02:00:00 Clear Temp: 51.44 Wind: 41 2.09\n",
      "2017-02-19 03:00:00 Partly Cloudy Temp: 52.37 Wind: 11 3.56\n",
      "2017-02-19 04:00:00 Partly Cloudy Temp: 52.41 Wind: 355 2.04\n",
      "2017-02-19 05:00:00 Clear Temp: 52.57 Wind: 57 3.41\n",
      "2017-02-19 06:00:00 Clear Temp: 53.2 Wind: 49 4.37\n",
      "2017-02-19 07:00:00 Clear Temp: 53.23 Wind: 98 4.61\n",
      "2017-02-19 08:00:00 Clear Temp: 54.53 Wind: 115 2.56\n",
      "2017-02-19 09:00:00 Clear Temp: 54.39 Wind: 107 4.75\n",
      "2017-02-19 10:00:00 Overcast Temp: 55.56 Wind: 147 5.52\n",
      "2017-02-19 11:00:00 Clear Temp: 57 Wind: 183 4.44\n",
      "2017-02-19 12:00:00 Clear Temp: 57.56 Wind: 194 5.5\n",
      "2017-02-19 13:00:00 Partly Cloudy Temp: 58.18 Wind: 214 5.74\n",
      "2017-02-19 14:00:00 Partly Cloudy Temp: 58.07 Wind: 234 6.25\n",
      "2017-02-19 15:00:00 Partly Cloudy Temp: 58.18 Wind: 239 7.24\n",
      "2017-02-19 16:00:00 Clear Temp: 57.86 Wind: 223 5.83\n",
      "2017-02-19 17:00:00 Partly Cloudy Temp: 57.28 Wind: 220 5.68\n",
      "2017-02-19 18:00:00 Clear Temp: 56.09 Wind: 229 5.71\n",
      "2017-02-19 19:00:00 Clear Temp: 56.17 Wind: 222 4.15\n",
      "2017-02-19 20:00:00 Clear Temp: 55.52 Wind: 170 3.2\n",
      "2017-02-19 21:00:00 Clear Temp: 55.77 Wind: 147 3.14\n",
      "2017-02-19 22:00:00 Overcast Temp: 55.71 Wind: 134 3.94\n",
      "2017-02-19 23:00:00 Clear Temp: 54.43 Wind: 125 3.78\n"
     ]
    }
   ],
   "source": [
    "for day_data in data:\n",
    "    for hour in day_data.hourly:\n",
    "        print(datetime.datetime.fromtimestamp(hour.time), \n",
    "              hour.summary, \"Temp:\", hour.temperature, \n",
    "              \"Wind:\", hour.windBearing, hour.windSpeed)"
   ]
  },
  {
   "cell_type": "code",
   "execution_count": null,
   "metadata": {},
   "outputs": [],
   "source": []
  }
 ],
 "metadata": {
  "kernelspec": {
   "display_name": "Python 3",
   "language": "python",
   "name": "python3"
  },
  "language_info": {
   "codemirror_mode": {
    "name": "ipython",
    "version": 3
   },
   "file_extension": ".py",
   "mimetype": "text/x-python",
   "name": "python",
   "nbconvert_exporter": "python",
   "pygments_lexer": "ipython3",
   "version": "3.6.4"
  }
 },
 "nbformat": 4,
 "nbformat_minor": 2
}
