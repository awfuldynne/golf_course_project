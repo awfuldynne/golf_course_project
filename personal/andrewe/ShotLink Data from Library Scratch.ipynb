{
 "cells": [
  {
   "cell_type": "code",
   "execution_count": 1,
   "metadata": {
    "ExecuteTime": {
     "end_time": "2018-05-05T06:08:58.861848Z",
     "start_time": "2018-05-05T06:08:58.529835Z"
    }
   },
   "outputs": [],
   "source": [
    "import pandas as pd\n",
    "\n",
    "# regardless of from where we run Jupyter Notebook, the curr working dir\n",
    "# is personal/andrewe - i want to load pygolfdata from the location that's\n",
    "# two directories above this one, so I'll modify the module search path\n",
    "# to include that location. is there a better way to do this?\n",
    "import sys\n",
    "sys.path.append('../../')\n",
    "\n",
    "from pygolfdata.data import shotlink"
   ]
  },
  {
   "cell_type": "code",
   "execution_count": 2,
   "metadata": {
    "ExecuteTime": {
     "end_time": "2018-05-05T06:08:58.867474Z",
     "start_time": "2018-05-05T06:08:58.864010Z"
    }
   },
   "outputs": [],
   "source": [
    "# data path - can be absolute, here is relative to the cwd of this file, \n",
    "# which is golf_course_project/personal/andrewe\n",
    "data_path = '../../../golf_course_project_data'"
   ]
  },
  {
   "cell_type": "code",
   "execution_count": 3,
   "metadata": {
    "ExecuteTime": {
     "end_time": "2018-05-05T06:08:58.980857Z",
     "start_time": "2018-05-05T06:08:58.972176Z"
    }
   },
   "outputs": [],
   "source": [
    "def mem_usage(pandas_obj):\n",
    "    if isinstance(pandas_obj,pd.DataFrame):\n",
    "        usage_b = pandas_obj.memory_usage(deep=True).sum()\n",
    "    else: # we assume if not a df it's a series\n",
    "        usage_b = pandas_obj.memory_usage(deep=True)\n",
    "    usage_mb = usage_b / 1024 ** 2 # convert bytes to megabytes\n",
    "    return \"{:03.2f} MB\".format(usage_mb)"
   ]
  },
  {
   "cell_type": "code",
   "execution_count": 4,
   "metadata": {
    "ExecuteTime": {
     "end_time": "2018-05-05T06:08:59.509408Z",
     "start_time": "2018-05-05T06:08:59.449641Z"
    }
   },
   "outputs": [
    {
     "data": {
      "text/plain": [
       "(3438, 34)"
      ]
     },
     "execution_count": 4,
     "metadata": {},
     "output_type": "execute_result"
    }
   ],
   "source": [
    "cls = shotlink.get_courselevels([2017], data_path)\n",
    "cls.shape"
   ]
  },
  {
   "cell_type": "code",
   "execution_count": 5,
   "metadata": {
    "ExecuteTime": {
     "end_time": "2018-05-05T06:09:01.439352Z",
     "start_time": "2018-05-05T06:09:01.430114Z"
    }
   },
   "outputs": [
    {
     "data": {
      "text/plain": [
       "Index(['Year', 'CourseNum', 'CourseName', 'Round', 'Hole', 'FwyWidth250',\n",
       "       'Actual250Distance', 'FwyWidth275', 'Actual275Distance', 'FwyWidth300',\n",
       "       'Actual300Distance', 'FwyWidth325', 'Actual325 Distance', 'FwyWidth350',\n",
       "       'Actual350Distance', 'FwyFirmness', 'GrnFirmness', 'GrnHeight',\n",
       "       'RoughHeight', 'FwyHeight', 'Stimp', 'AMWindSpd', 'AMWindDir',\n",
       "       'PMWindSpd', 'PMWind Dir', 'ScorecardYdg', 'ActualYdg', 'Par',\n",
       "       'GreenGrass', 'FwyGrass', 'TeeGrass', 'BunkerGrass', 'RoughGrass',\n",
       "       'ExtraCol'],\n",
       "      dtype='object')"
      ]
     },
     "execution_count": 5,
     "metadata": {},
     "output_type": "execute_result"
    }
   ],
   "source": [
    "cls.columns"
   ]
  },
  {
   "cell_type": "code",
   "execution_count": 7,
   "metadata": {
    "ExecuteTime": {
     "end_time": "2018-05-05T06:11:07.199216Z",
     "start_time": "2018-05-05T06:11:07.189464Z"
    }
   },
   "outputs": [
    {
     "data": {
      "text/plain": [
       "185    126\n",
       "819     72\n",
       "752     72\n",
       "742     72\n",
       "734     72\n",
       "714     72\n",
       "704     72\n",
       "700     72\n",
       "688     72\n",
       "660     72\n",
       "656     72\n",
       "552     72\n",
       "538     72\n",
       "510     72\n",
       "500     72\n",
       "240     72\n",
       "238     72\n",
       "236     72\n",
       "232     72\n",
       "36      72\n",
       "32      72\n",
       "12      72\n",
       "6       72\n",
       "746     72\n",
       "766     72\n",
       "789     72\n",
       "770     72\n",
       "771     72\n",
       "733     72\n",
       "729     72\n",
       "669     72\n",
       "665     72\n",
       "513     72\n",
       "503     72\n",
       "241     72\n",
       "239     72\n",
       "237     72\n",
       "235     72\n",
       "23      72\n",
       "21      72\n",
       "19      72\n",
       "11      72\n",
       "9       72\n",
       "5       72\n",
       "800     72\n",
       "776     72\n",
       "4       72\n",
       "Name: CourseNum, dtype: int64"
      ]
     },
     "execution_count": 7,
     "metadata": {},
     "output_type": "execute_result"
    }
   ],
   "source": [
    "cls['CourseNum'].value_counts(dropna=False)"
   ]
  },
  {
   "cell_type": "code",
   "execution_count": 6,
   "metadata": {
    "ExecuteTime": {
     "end_time": "2018-05-05T06:02:12.235261Z",
     "start_time": "2018-05-05T06:02:12.222663Z"
    }
   },
   "outputs": [
    {
     "data": {
      "text/plain": [
       "'0.25 MB'"
      ]
     },
     "execution_count": 6,
     "metadata": {},
     "output_type": "execute_result"
    }
   ],
   "source": [
    "mem_usage(cls)"
   ]
  },
  {
   "cell_type": "code",
   "execution_count": 7,
   "metadata": {
    "ExecuteTime": {
     "end_time": "2018-05-05T06:02:26.647347Z",
     "start_time": "2018-05-05T06:02:26.637130Z"
    }
   },
   "outputs": [
    {
     "data": {
      "text/plain": [
       "Year                    uint16\n",
       "CourseNum               uint16\n",
       "CourseName            category\n",
       "Round                    uint8\n",
       "Hole                     uint8\n",
       "FwyWidth250             uint16\n",
       "Actual250Distance       uint16\n",
       "FwyWidth275             uint16\n",
       "Actual275Distance       uint16\n",
       "FwyWidth300             uint16\n",
       "Actual300Distance       uint16\n",
       "FwyWidth325             uint16\n",
       "Actual325 Distance      uint16\n",
       "FwyWidth350             uint16\n",
       "Actual350Distance       uint16\n",
       "FwyFirmness           category\n",
       "GrnFirmness           category\n",
       "GrnHeight              float32\n",
       "RoughHeight            float32\n",
       "FwyHeight              float32\n",
       "Stimp                 category\n",
       "AMWindSpd             category\n",
       "AMWindDir             category\n",
       "PMWindSpd             category\n",
       "PMWind Dir            category\n",
       "ScorecardYdg            uint16\n",
       "ActualYdg              float32\n",
       "Par                      uint8\n",
       "GreenGrass            category\n",
       "FwyGrass              category\n",
       "TeeGrass              category\n",
       "BunkerGrass           category\n",
       "RoughGrass            category\n",
       "ExtraCol               float64\n",
       "dtype: object"
      ]
     },
     "execution_count": 7,
     "metadata": {},
     "output_type": "execute_result"
    }
   ],
   "source": [
    "cls.dtypes"
   ]
  },
  {
   "cell_type": "code",
   "execution_count": 10,
   "metadata": {
    "ExecuteTime": {
     "end_time": "2018-05-05T06:03:20.217222Z",
     "start_time": "2018-05-05T06:03:20.210107Z"
    }
   },
   "outputs": [
    {
     "data": {
      "text/plain": [
       "odict_keys(['TourCode', 'TourDescription', 'Year', 'TournamentNum', 'PlayerNum', 'CourseNum', 'PermanentTournamentNum', 'PlayerFirstName', 'PlayerLastName', 'Round', 'TournamentName', 'CourseName', 'Hole', 'HoleScore', 'ParValue', 'Yardage', 'Shot', 'ShotType', 'NumStrokes', 'FromLocationScorer', 'FromLocationEnhanced', 'ToLocationScorer', 'ToLocationEnhanced', 'Distance', 'DistanceToPin', 'InTheHoleFlag', 'AroundTheGreenFlag', 'FirstPuttFlag', 'DistanceToHoleAfterShot', 'Time', 'Lie', 'Elevation', 'Slope', 'XCoordinate', 'YCoordinate', 'ZCoordinate', 'DistanceFromCenter', 'DistanceFromEdge', 'Date', 'LeftRight', 'StrokesGainedBaseline', 'StrokesGainedCategory', 'RecoveryShot'])"
      ]
     },
     "execution_count": 10,
     "metadata": {},
     "output_type": "execute_result"
    }
   ],
   "source": [
    "shotlink.shot_dtypes.keys()"
   ]
  },
  {
   "cell_type": "code",
   "execution_count": 12,
   "metadata": {
    "ExecuteTime": {
     "end_time": "2018-05-05T06:04:04.502091Z",
     "start_time": "2018-05-05T06:04:04.496354Z"
    }
   },
   "outputs": [
    {
     "data": {
      "text/plain": [
       "['TourCode',\n",
       " 'TourDescription',\n",
       " 'Year',\n",
       " 'TournamentNum',\n",
       " 'PlayerNum',\n",
       " 'CourseNum',\n",
       " 'PermanentTournamentNum',\n",
       " 'PlayerFirstName',\n",
       " 'PlayerLastName',\n",
       " 'Round',\n",
       " 'TournamentName',\n",
       " 'CourseName',\n",
       " 'Hole',\n",
       " 'HoleScore',\n",
       " 'ParValue',\n",
       " 'Yardage',\n",
       " 'Shot',\n",
       " 'ShotType',\n",
       " 'NumStrokes',\n",
       " 'FromLocationScorer',\n",
       " 'FromLocationEnhanced',\n",
       " 'ToLocationScorer',\n",
       " 'ToLocationEnhanced',\n",
       " 'Distance',\n",
       " 'DistanceToPin',\n",
       " 'InTheHoleFlag',\n",
       " 'AroundTheGreenFlag',\n",
       " 'FirstPuttFlag',\n",
       " 'DistanceToHoleAfterShot',\n",
       " 'Time',\n",
       " 'Lie',\n",
       " 'Elevation',\n",
       " 'Slope',\n",
       " 'XCoordinate',\n",
       " 'YCoordinate',\n",
       " 'ZCoordinate',\n",
       " 'DistanceFromCenter',\n",
       " 'DistanceFromEdge',\n",
       " 'Date',\n",
       " 'LeftRight',\n",
       " 'StrokesGainedBaseline',\n",
       " 'StrokesGainedCategory',\n",
       " 'RecoveryShot']"
      ]
     },
     "execution_count": 12,
     "metadata": {},
     "output_type": "execute_result"
    }
   ],
   "source": [
    "list(shotlink.shot_dtypes.keys())"
   ]
  },
  {
   "cell_type": "code",
   "execution_count": 18,
   "metadata": {
    "ExecuteTime": {
     "end_time": "2018-05-05T05:35:07.732879Z",
     "start_time": "2018-05-05T05:35:07.720482Z"
    }
   },
   "outputs": [
    {
     "data": {
      "text/plain": [
       "NaN       505\n",
       " 437.0     31\n",
       " 443.0     23\n",
       " 442.0     23\n",
       " 452.0     21\n",
       " 430.0     20\n",
       " 438.0     20\n",
       " 444.0     20\n",
       " 448.0     20\n",
       " 421.0     19\n",
       " 459.0     18\n",
       " 434.0     18\n",
       " 461.0     18\n",
       " 406.0     18\n",
       " 420.0     18\n",
       " 435.0     18\n",
       " 447.0     17\n",
       " 454.0     17\n",
       " 431.0     17\n",
       " 451.0     17\n",
       " 432.0     16\n",
       " 467.0     16\n",
       " 453.0     16\n",
       " 457.0     16\n",
       " 470.0     16\n",
       " 456.0     16\n",
       " 415.0     16\n",
       " 393.0     16\n",
       " 183.0     16\n",
       " 189.0     16\n",
       "         ... \n",
       " 585.0      1\n",
       " 287.0      1\n",
       " 331.0      1\n",
       " 338.0      1\n",
       " 649.0      1\n",
       " 105.0      1\n",
       " 123.0      1\n",
       " 648.0      1\n",
       " 293.0      1\n",
       " 595.0      1\n",
       " 594.0      1\n",
       " 273.0      1\n",
       " 251.0      1\n",
       " 741.0      1\n",
       " 607.0      1\n",
       " 259.0      1\n",
       " 773.0      1\n",
       " 999.0      1\n",
       " 358.0      1\n",
       " 612.0      1\n",
       " 660.0      1\n",
       " 620.0      1\n",
       " 614.0      1\n",
       " 481.0      1\n",
       " 764.0      1\n",
       " 133.0      1\n",
       " 995.0      1\n",
       " 109.0      1\n",
       " 333.0      1\n",
       " 677.0      1\n",
       "Name: ActualYdg, Length: 493, dtype: int64"
      ]
     },
     "execution_count": 18,
     "metadata": {},
     "output_type": "execute_result"
    }
   ],
   "source": [
    "cls['ActualYdg'].value_counts(dropna=False)"
   ]
  },
  {
   "cell_type": "code",
   "execution_count": null,
   "metadata": {},
   "outputs": [],
   "source": []
  },
  {
   "cell_type": "code",
   "execution_count": null,
   "metadata": {},
   "outputs": [],
   "source": []
  },
  {
   "cell_type": "code",
   "execution_count": 7,
   "metadata": {
    "ExecuteTime": {
     "end_time": "2018-05-05T05:12:50.776761Z",
     "start_time": "2018-05-05T05:12:36.188362Z"
    }
   },
   "outputs": [
    {
     "data": {
      "text/plain": [
       "(1214437, 43)"
      ]
     },
     "execution_count": 7,
     "metadata": {},
     "output_type": "execute_result"
    }
   ],
   "source": [
    "foo = shotlink.get_shots([2017], data_path)\n",
    "foo.shape"
   ]
  },
  {
   "cell_type": "code",
   "execution_count": 8,
   "metadata": {
    "ExecuteTime": {
     "end_time": "2018-05-05T05:12:50.787215Z",
     "start_time": "2018-05-05T05:12:50.779144Z"
    }
   },
   "outputs": [
    {
     "data": {
      "text/plain": [
       "TourCode                   category\n",
       "TourDescription            category\n",
       "Year                         uint16\n",
       "TournamentNum                uint16\n",
       "PlayerNum                    uint16\n",
       "CourseNum                    uint16\n",
       "PermanentTournamentNum       uint16\n",
       "PlayerFirstName            category\n",
       "PlayerLastName             category\n",
       "Round                         uint8\n",
       "TournamentName             category\n",
       "CourseName                 category\n",
       "Hole                          uint8\n",
       "HoleScore                   float32\n",
       "ParValue                      uint8\n",
       "Yardage                      uint16\n",
       "Shot                          uint8\n",
       "ShotType                   category\n",
       "NumStrokes                    uint8\n",
       "FromLocationScorer         category\n",
       "FromLocationEnhanced         object\n",
       "ToLocationScorer           category\n",
       "ToLocationEnhanced         category\n",
       "Distance                     uint16\n",
       "DistanceToPin                uint16\n",
       "InTheHoleFlag              category\n",
       "AroundTheGreenFlag         category\n",
       "FirstPuttFlag              category\n",
       "DistanceToHoleAfterShot      uint16\n",
       "Time                         uint16\n",
       "Lie                        category\n",
       "Elevation                  category\n",
       "Slope                      category\n",
       "XCoordinate                  object\n",
       "YCoordinate                  object\n",
       "ZCoordinate                  object\n",
       "DistanceFromCenter           uint16\n",
       "DistanceFromEdge             uint16\n",
       "Date                         object\n",
       "LeftRight                  category\n",
       "StrokesGainedBaseline       float32\n",
       "StrokesGainedCategory      category\n",
       "RecoveryShot               category\n",
       "dtype: object"
      ]
     },
     "execution_count": 8,
     "metadata": {},
     "output_type": "execute_result"
    }
   ],
   "source": [
    "foo.dtypes"
   ]
  },
  {
   "cell_type": "code",
   "execution_count": 10,
   "metadata": {},
   "outputs": [
    {
     "data": {
      "text/plain": [
       "TourCode                                                R\n",
       "TourDescription                                  PGA TOUR\n",
       "Year                                                 2017\n",
       "TournamentNum                                          10\n",
       "PlayerNum                                            1810\n",
       "CourseNum                                             552\n",
       "PermanentTournamentNum                                464\n",
       "PlayerFirstName                                      Phil\n",
       "PlayerLastName                                  Mickelson\n",
       "Round                                                   1\n",
       "TournamentName                               Safeway Open\n",
       "CourseName                 Silverado Resort and Spa North\n",
       "Hole                                                    1\n",
       "HoleScore                                               5\n",
       "ParValue                                                4\n",
       "Yardage                                               436\n",
       "Shot                                                    1\n",
       "ShotType                                                S\n",
       "NumStrokes                                              1\n",
       "FromLocationScorer                                Tee Box\n",
       "FromLocationEnhanced                                  NaN\n",
       "ToLocationScorer                            Primary Rough\n",
       "ToLocationEnhanced                            Right Rough\n",
       "Distance                                            10327\n",
       "DistanceToPin                                       15804\n",
       "InTheHoleFlag                                           N\n",
       "AroundTheGreenFlag                                      N\n",
       "FirstPuttFlag                                           N\n",
       "DistanceToHoleAfterShot                              5496\n",
       "Time                                                 1241\n",
       "Lie                                                  Good\n",
       "Elevation                                            With\n",
       "Slope                                               Level\n",
       "XCoordinate                                   10,734.3430\n",
       "YCoordinate                                    9,531.0870\n",
       "ZCoordinate                                       84.1040\n",
       "DistanceFromCenter                                   1104\n",
       "DistanceFromEdge                                      645\n",
       "Date                                           10/13/2016\n",
       "LeftRight                                               R\n",
       "StrokesGainedBaseline                              -0.091\n",
       "StrokesGainedCategory                         Off the Tee\n",
       "RecoveryShot                                           No\n",
       "Name: 0, dtype: object"
      ]
     },
     "execution_count": 10,
     "metadata": {},
     "output_type": "execute_result"
    }
   ],
   "source": [
    "foo.iloc[0]"
   ]
  },
  {
   "cell_type": "code",
   "execution_count": 11,
   "metadata": {},
   "outputs": [
    {
     "data": {
      "text/plain": [
       "TourCode                   category\n",
       "TourDescription            category\n",
       "Year                         uint16\n",
       "TournamentNum                uint16\n",
       "PlayerNum                    uint16\n",
       "CourseNum                    uint16\n",
       "PermanentTournamentNum       uint16\n",
       "PlayerFirstName            category\n",
       "PlayerLastName             category\n",
       "Round                         uint8\n",
       "TournamentName             category\n",
       "CourseName                 category\n",
       "Hole                          uint8\n",
       "HoleScore                   float32\n",
       "ParValue                      uint8\n",
       "Yardage                      uint16\n",
       "Shot                          uint8\n",
       "ShotType                   category\n",
       "NumStrokes                    uint8\n",
       "FromLocationScorer         category\n",
       "FromLocationEnhanced         object\n",
       "ToLocationScorer           category\n",
       "ToLocationEnhanced         category\n",
       "Distance                     uint16\n",
       "DistanceToPin                uint16\n",
       "InTheHoleFlag              category\n",
       "AroundTheGreenFlag         category\n",
       "FirstPuttFlag              category\n",
       "DistanceToHoleAfterShot      uint16\n",
       "Time                         uint16\n",
       "Lie                        category\n",
       "Elevation                  category\n",
       "Slope                      category\n",
       "XCoordinate                  object\n",
       "YCoordinate                  object\n",
       "ZCoordinate                  object\n",
       "DistanceFromCenter           uint16\n",
       "DistanceFromEdge             uint16\n",
       "Date                         object\n",
       "LeftRight                  category\n",
       "StrokesGainedBaseline       float32\n",
       "StrokesGainedCategory      category\n",
       "RecoveryShot               category\n",
       "dtype: object"
      ]
     },
     "execution_count": 11,
     "metadata": {},
     "output_type": "execute_result"
    }
   ],
   "source": [
    "foo.dtypes"
   ]
  },
  {
   "cell_type": "code",
   "execution_count": 14,
   "metadata": {},
   "outputs": [],
   "source": [
    "foo['Date'] = pd.to_datetime(foo['Date'])"
   ]
  },
  {
   "cell_type": "code",
   "execution_count": 15,
   "metadata": {},
   "outputs": [
    {
     "data": {
      "text/plain": [
       "TourCode                         category\n",
       "TourDescription                  category\n",
       "Year                               uint16\n",
       "TournamentNum                      uint16\n",
       "PlayerNum                          uint16\n",
       "CourseNum                          uint16\n",
       "PermanentTournamentNum             uint16\n",
       "PlayerFirstName                  category\n",
       "PlayerLastName                   category\n",
       "Round                               uint8\n",
       "TournamentName                   category\n",
       "CourseName                       category\n",
       "Hole                                uint8\n",
       "HoleScore                         float32\n",
       "ParValue                            uint8\n",
       "Yardage                            uint16\n",
       "Shot                                uint8\n",
       "ShotType                         category\n",
       "NumStrokes                          uint8\n",
       "FromLocationScorer               category\n",
       "FromLocationEnhanced               object\n",
       "ToLocationScorer                 category\n",
       "ToLocationEnhanced               category\n",
       "Distance                           uint16\n",
       "DistanceToPin                      uint16\n",
       "InTheHoleFlag                    category\n",
       "AroundTheGreenFlag               category\n",
       "FirstPuttFlag                    category\n",
       "DistanceToHoleAfterShot            uint16\n",
       "Time                               uint16\n",
       "Lie                              category\n",
       "Elevation                        category\n",
       "Slope                            category\n",
       "XCoordinate                        object\n",
       "YCoordinate                        object\n",
       "ZCoordinate                        object\n",
       "DistanceFromCenter                 uint16\n",
       "DistanceFromEdge                   uint16\n",
       "Date                       datetime64[ns]\n",
       "LeftRight                        category\n",
       "StrokesGainedBaseline             float32\n",
       "StrokesGainedCategory            category\n",
       "RecoveryShot                     category\n",
       "dtype: object"
      ]
     },
     "execution_count": 15,
     "metadata": {},
     "output_type": "execute_result"
    }
   ],
   "source": [
    "foo.dtypes"
   ]
  },
  {
   "cell_type": "code",
   "execution_count": 18,
   "metadata": {},
   "outputs": [
    {
     "data": {
      "text/plain": [
       "'datetime64[ns]'"
      ]
     },
     "execution_count": 18,
     "metadata": {},
     "output_type": "execute_result"
    }
   ],
   "source": [
    "str(foo['Date'].dtype)"
   ]
  },
  {
   "cell_type": "code",
   "execution_count": null,
   "metadata": {},
   "outputs": [],
   "source": []
  }
 ],
 "metadata": {
  "kernelspec": {
   "display_name": "Python 3",
   "language": "python",
   "name": "python3"
  },
  "language_info": {
   "codemirror_mode": {
    "name": "ipython",
    "version": 3
   },
   "file_extension": ".py",
   "mimetype": "text/x-python",
   "name": "python",
   "nbconvert_exporter": "python",
   "pygments_lexer": "ipython3",
   "version": "3.6.4"
  }
 },
 "nbformat": 4,
 "nbformat_minor": 2
}
