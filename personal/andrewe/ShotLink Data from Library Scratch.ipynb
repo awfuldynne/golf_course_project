{
 "cells": [
  {
   "cell_type": "code",
   "execution_count": 13,
   "metadata": {},
   "outputs": [],
   "source": [
    "import pandas as pd\n",
    "\n",
    "# regardless of from where we run Jupyter Notebook, the curr working dir\n",
    "# is personal/andrewe - i want to load pygolfdata from the location that's\n",
    "# two directories above this one, so I'll modify the module search path\n",
    "# to include that location. is there a better way to do this?\n",
    "import sys\n",
    "sys.path.append('../../')\n",
    "\n",
    "from pygolfdata.data import shotlink"
   ]
  },
  {
   "cell_type": "code",
   "execution_count": 7,
   "metadata": {},
   "outputs": [],
   "source": [
    "# data path - can be absolute, here is relative to the cwd of this file, \n",
    "# which is golf_course_project/personal/andrewe\n",
    "data_path = '../../../golf_course_project_data'"
   ]
  },
  {
   "cell_type": "code",
   "execution_count": 8,
   "metadata": {},
   "outputs": [
    {
     "data": {
      "text/plain": [
       "(1214437, 43)"
      ]
     },
     "execution_count": 8,
     "metadata": {},
     "output_type": "execute_result"
    }
   ],
   "source": [
    "foo = shotlink.get_shots([2017], data_path)\n",
    "foo.shape"
   ]
  },
  {
   "cell_type": "code",
   "execution_count": 9,
   "metadata": {},
   "outputs": [
    {
     "data": {
      "text/plain": [
       "Index(['TourCode', 'TourDescription', 'Year', 'TournamentNum', 'PlayerNum',\n",
       "       'CourseNum', 'PermanentTournamentNum', 'PlayerFirstName',\n",
       "       'PlayerLastName', 'Round', 'TournamentName', 'CourseName', 'Hole',\n",
       "       'HoleScore', 'ParValue', 'Yardage', 'Shot', 'ShotType', 'NumStrokes',\n",
       "       'FromLocationScorer', 'FromLocationEnhanced', 'ToLocationScorer',\n",
       "       'ToLocationEnhanced', 'Distance', 'DistanceToPin', 'InTheHoleFlag',\n",
       "       'AroundTheGreenFlag', 'FirstPuttFlag', 'DistanceToHoleAfterShot',\n",
       "       'Time', 'Lie', 'Elevation', 'Slope', 'XCoordinate', 'YCoordinate',\n",
       "       'ZCoordinate', 'DistanceFromCenter', 'DistanceFromEdge', 'Date',\n",
       "       'LeftRight', 'StrokesGainedBaseline', 'StrokesGainedCategory',\n",
       "       'RecoveryShot'],\n",
       "      dtype='object')"
      ]
     },
     "execution_count": 9,
     "metadata": {},
     "output_type": "execute_result"
    }
   ],
   "source": [
    "foo.columns"
   ]
  },
  {
   "cell_type": "code",
   "execution_count": 10,
   "metadata": {},
   "outputs": [
    {
     "data": {
      "text/plain": [
       "TourCode                                                R\n",
       "TourDescription                                  PGA TOUR\n",
       "Year                                                 2017\n",
       "TournamentNum                                          10\n",
       "PlayerNum                                            1810\n",
       "CourseNum                                             552\n",
       "PermanentTournamentNum                                464\n",
       "PlayerFirstName                                      Phil\n",
       "PlayerLastName                                  Mickelson\n",
       "Round                                                   1\n",
       "TournamentName                               Safeway Open\n",
       "CourseName                 Silverado Resort and Spa North\n",
       "Hole                                                    1\n",
       "HoleScore                                               5\n",
       "ParValue                                                4\n",
       "Yardage                                               436\n",
       "Shot                                                    1\n",
       "ShotType                                                S\n",
       "NumStrokes                                              1\n",
       "FromLocationScorer                                Tee Box\n",
       "FromLocationEnhanced                                  NaN\n",
       "ToLocationScorer                            Primary Rough\n",
       "ToLocationEnhanced                            Right Rough\n",
       "Distance                                            10327\n",
       "DistanceToPin                                       15804\n",
       "InTheHoleFlag                                           N\n",
       "AroundTheGreenFlag                                      N\n",
       "FirstPuttFlag                                           N\n",
       "DistanceToHoleAfterShot                              5496\n",
       "Time                                                 1241\n",
       "Lie                                                  Good\n",
       "Elevation                                            With\n",
       "Slope                                               Level\n",
       "XCoordinate                                   10,734.3430\n",
       "YCoordinate                                    9,531.0870\n",
       "ZCoordinate                                       84.1040\n",
       "DistanceFromCenter                                   1104\n",
       "DistanceFromEdge                                      645\n",
       "Date                                           10/13/2016\n",
       "LeftRight                                               R\n",
       "StrokesGainedBaseline                              -0.091\n",
       "StrokesGainedCategory                         Off the Tee\n",
       "RecoveryShot                                           No\n",
       "Name: 0, dtype: object"
      ]
     },
     "execution_count": 10,
     "metadata": {},
     "output_type": "execute_result"
    }
   ],
   "source": [
    "foo.iloc[0]"
   ]
  },
  {
   "cell_type": "code",
   "execution_count": 11,
   "metadata": {},
   "outputs": [
    {
     "data": {
      "text/plain": [
       "TourCode                   category\n",
       "TourDescription            category\n",
       "Year                         uint16\n",
       "TournamentNum                uint16\n",
       "PlayerNum                    uint16\n",
       "CourseNum                    uint16\n",
       "PermanentTournamentNum       uint16\n",
       "PlayerFirstName            category\n",
       "PlayerLastName             category\n",
       "Round                         uint8\n",
       "TournamentName             category\n",
       "CourseName                 category\n",
       "Hole                          uint8\n",
       "HoleScore                   float32\n",
       "ParValue                      uint8\n",
       "Yardage                      uint16\n",
       "Shot                          uint8\n",
       "ShotType                   category\n",
       "NumStrokes                    uint8\n",
       "FromLocationScorer         category\n",
       "FromLocationEnhanced         object\n",
       "ToLocationScorer           category\n",
       "ToLocationEnhanced         category\n",
       "Distance                     uint16\n",
       "DistanceToPin                uint16\n",
       "InTheHoleFlag              category\n",
       "AroundTheGreenFlag         category\n",
       "FirstPuttFlag              category\n",
       "DistanceToHoleAfterShot      uint16\n",
       "Time                         uint16\n",
       "Lie                        category\n",
       "Elevation                  category\n",
       "Slope                      category\n",
       "XCoordinate                  object\n",
       "YCoordinate                  object\n",
       "ZCoordinate                  object\n",
       "DistanceFromCenter           uint16\n",
       "DistanceFromEdge             uint16\n",
       "Date                         object\n",
       "LeftRight                  category\n",
       "StrokesGainedBaseline       float32\n",
       "StrokesGainedCategory      category\n",
       "RecoveryShot               category\n",
       "dtype: object"
      ]
     },
     "execution_count": 11,
     "metadata": {},
     "output_type": "execute_result"
    }
   ],
   "source": [
    "foo.dtypes"
   ]
  },
  {
   "cell_type": "code",
   "execution_count": 14,
   "metadata": {},
   "outputs": [],
   "source": [
    "foo['Date'] = pd.to_datetime(foo['Date'])"
   ]
  },
  {
   "cell_type": "code",
   "execution_count": 15,
   "metadata": {},
   "outputs": [
    {
     "data": {
      "text/plain": [
       "TourCode                         category\n",
       "TourDescription                  category\n",
       "Year                               uint16\n",
       "TournamentNum                      uint16\n",
       "PlayerNum                          uint16\n",
       "CourseNum                          uint16\n",
       "PermanentTournamentNum             uint16\n",
       "PlayerFirstName                  category\n",
       "PlayerLastName                   category\n",
       "Round                               uint8\n",
       "TournamentName                   category\n",
       "CourseName                       category\n",
       "Hole                                uint8\n",
       "HoleScore                         float32\n",
       "ParValue                            uint8\n",
       "Yardage                            uint16\n",
       "Shot                                uint8\n",
       "ShotType                         category\n",
       "NumStrokes                          uint8\n",
       "FromLocationScorer               category\n",
       "FromLocationEnhanced               object\n",
       "ToLocationScorer                 category\n",
       "ToLocationEnhanced               category\n",
       "Distance                           uint16\n",
       "DistanceToPin                      uint16\n",
       "InTheHoleFlag                    category\n",
       "AroundTheGreenFlag               category\n",
       "FirstPuttFlag                    category\n",
       "DistanceToHoleAfterShot            uint16\n",
       "Time                               uint16\n",
       "Lie                              category\n",
       "Elevation                        category\n",
       "Slope                            category\n",
       "XCoordinate                        object\n",
       "YCoordinate                        object\n",
       "ZCoordinate                        object\n",
       "DistanceFromCenter                 uint16\n",
       "DistanceFromEdge                   uint16\n",
       "Date                       datetime64[ns]\n",
       "LeftRight                        category\n",
       "StrokesGainedBaseline             float32\n",
       "StrokesGainedCategory            category\n",
       "RecoveryShot                     category\n",
       "dtype: object"
      ]
     },
     "execution_count": 15,
     "metadata": {},
     "output_type": "execute_result"
    }
   ],
   "source": [
    "foo.dtypes"
   ]
  },
  {
   "cell_type": "code",
   "execution_count": 18,
   "metadata": {},
   "outputs": [
    {
     "data": {
      "text/plain": [
       "'datetime64[ns]'"
      ]
     },
     "execution_count": 18,
     "metadata": {},
     "output_type": "execute_result"
    }
   ],
   "source": [
    "str(foo['Date'].dtype)"
   ]
  },
  {
   "cell_type": "code",
   "execution_count": null,
   "metadata": {},
   "outputs": [],
   "source": []
  }
 ],
 "metadata": {
  "kernelspec": {
   "display_name": "Python 3",
   "language": "python",
   "name": "python3"
  }
 },
 "nbformat": 4,
 "nbformat_minor": 2
}
